{
  "cells": [
    {
      "cell_type": "markdown",
      "metadata": {
        "id": "view-in-github",
        "colab_type": "text"
      },
      "source": [
        "<a href=\"https://colab.research.google.com/github/elliswu0918/Pandas_sideProject/blob/main/pandas_Side_Project_2024_%E5%90%B3%E8%B3%A2%E6%94%BF.ipynb\" target=\"_parent\"><img src=\"https://colab.research.google.com/assets/colab-badge.svg\" alt=\"Open In Colab\"/></a>"
      ]
    },
    {
      "cell_type": "markdown",
      "metadata": {
        "id": "26xTNLj4w_zI"
      },
      "source": [
        "---\n",
        "# Side Project\n",
        "---\n",
        "# 1.目的：專案分析【2個商業數據集】（A企業，B公司）\n",
        "\n",
        "# 2.學號：111570007\n",
        "\n",
        "# 3.姓名：吳賢政\n",
        "\n",
        "# 4.學校系所：國立臺北科技大學 經營管理學系\n",
        "---"
      ]
    },
    {
      "cell_type": "markdown",
      "source": [
        "---\n",
        "# 一、分析第1個數據集：A企業的『進貨、銷貨、存貨』共10個資料表的綜合分析\n",
        "# 檔案：https://acupun.site/lecture/pandas/example/resource/company2.xlsx\n",
        "\n",
        "# 資料表：categories，customers，employees，orderdetails，orders，products，region，shippers，suppliers，territories"
      ],
      "metadata": {
        "id": "1DSWyS6qEVyf"
      }
    },
    {
      "cell_type": "code",
      "source": [
        "#--------------------------------------\n",
        "# colab繪圖顯示繁體中文\n",
        "#--------------------------------------\n",
        "import matplotlib\n",
        "#colab顯示繁體中文 問題：matplotlib繪圖，會發生中文無法顯示的問題\n",
        "# 先下載台北黑體字型\n",
        "!wget -O taipei_sans_tc_beta.ttf https://drive.google.com/uc?id=1eGAsTN1HBpJAkeVM57_C7ccp7hbgSz3_&export=download import matplotlib\n",
        "# 新增字體\n",
        "matplotlib.font_manager.fontManager.addfont('taipei_sans_tc_beta.ttf')\n",
        "# 將 font-family 設為 Taipei Sans TC Beta\n",
        "# 設定完後，之後的圖表都可以顯示中文了\n",
        "matplotlib.rc('font', family='Taipei Sans TC Beta')"
      ],
      "metadata": {
        "colab": {
          "base_uri": "https://localhost:8080/"
        },
        "id": "No3IubhM-O1Y",
        "outputId": "f30fb1bd-42a4-4ac0-a47e-f33fa91fa16a"
      },
      "execution_count": null,
      "outputs": [
        {
          "output_type": "stream",
          "name": "stdout",
          "text": [
            "/bin/bash: line 1: import: command not found\n",
            "--2024-06-22 10:48:57--  https://drive.google.com/uc?id=1eGAsTN1HBpJAkeVM57_C7ccp7hbgSz3_\n",
            "Resolving drive.google.com (drive.google.com)... 74.125.134.100, 74.125.134.102, 74.125.134.101, ...\n",
            "Connecting to drive.google.com (drive.google.com)|74.125.134.100|:443... connected.\n",
            "HTTP request sent, awaiting response... 303 See Other\n",
            "Location: https://drive.usercontent.google.com/download?id=1eGAsTN1HBpJAkeVM57_C7ccp7hbgSz3_ [following]\n",
            "--2024-06-22 10:48:57--  https://drive.usercontent.google.com/download?id=1eGAsTN1HBpJAkeVM57_C7ccp7hbgSz3_\n",
            "Resolving drive.usercontent.google.com (drive.usercontent.google.com)... 142.250.98.132, 2607:f8b0:400c:c1a::84\n",
            "Connecting to drive.usercontent.google.com (drive.usercontent.google.com)|142.250.98.132|:443... connected.\n",
            "HTTP request sent, awaiting response... 200 OK\n",
            "Length: 20659344 (20M) [application/octet-stream]\n",
            "Saving to: ‘taipei_sans_tc_beta.ttf’\n",
            "\n",
            "taipei_sans_tc_beta 100%[===================>]  19.70M   122MB/s    in 0.2s    \n",
            "\n",
            "2024-06-22 10:48:59 (122 MB/s) - ‘taipei_sans_tc_beta.ttf’ saved [20659344/20659344]\n",
            "\n"
          ]
        }
      ]
    },
    {
      "cell_type": "markdown",
      "source": [
        "---\n",
        "# **1.第1個分析：統計A企業的『逐年、逐月』的訂單金額，並繪柱狀圖**\n",
        "\n",
        "下載檔案：https://acupun.site/lecture/pandas/example/resource/company2.xlsx\n",
        "\n",
        "將檔案上傳到雲端硬碟，讀取自己雲端的檔案"
      ],
      "metadata": {
        "id": "giMcIQGOFkno"
      }
    },
    {
      "cell_type": "code",
      "source": [
        "from google.colab import drive\n",
        "drive.mount('/content/drive')"
      ],
      "metadata": {
        "id": "D1SokHLnj2kO",
        "colab": {
          "base_uri": "https://localhost:8080/"
        },
        "outputId": "9d8b8c6b-74f0-4cde-e3f9-7fa112e8a45e"
      },
      "execution_count": null,
      "outputs": [
        {
          "output_type": "stream",
          "name": "stdout",
          "text": [
            "Drive already mounted at /content/drive; to attempt to forcibly remount, call drive.mount(\"/content/drive\", force_remount=True).\n"
          ]
        }
      ]
    },
    {
      "cell_type": "code",
      "source": [
        "#(1)統計歷年訂單金額（小數點0位，加上千分位，加上表格標題）\n",
        "# 補充：如何同時設定【小數點格式與千分位格式】：df.style.format({:,.1f}\",subset=[\"欄位\"]))\n",
        "import pandas as pd\n",
        "df1=pd.read_excel('/content/drive/MyDrive/Colab Notebooks/company2.xlsx','categories')\n",
        "df2=pd.read_excel('/content/drive/MyDrive/Colab Notebooks/company2.xlsx','customers')\n",
        "df3=pd.read_excel('/content/drive/MyDrive/Colab Notebooks/company2.xlsx','employees')\n",
        "df4=pd.read_excel('/content/drive/MyDrive/Colab Notebooks/company2.xlsx','orderdetails')\n",
        "df5=pd.read_excel('/content/drive/MyDrive/Colab Notebooks/company2.xlsx','orders')\n",
        "df6=pd.read_excel('/content/drive/MyDrive/Colab Notebooks/company2.xlsx','products')\n",
        "df7=pd.read_excel('/content/drive/MyDrive/Colab Notebooks/company2.xlsx','region')\n",
        "df8=pd.read_excel('/content/drive/MyDrive/Colab Notebooks/company2.xlsx','shippers')\n",
        "df9=pd.read_excel('/content/drive/MyDrive/Colab Notebooks/company2.xlsx','suppliers')\n",
        "df10=pd.read_excel('/content/drive/MyDrive/Colab Notebooks/company2.xlsx','territories')\n"
      ],
      "metadata": {
        "id": "vGLDsQdVHSOB"
      },
      "execution_count": null,
      "outputs": []
    },
    {
      "cell_type": "code",
      "source": [
        "#(1)統計歷年訂單金額（小數點0位，加上千分位，加上表格標題）\n",
        "# 補充：如何同時設定【小數點格式與千分位格式】：df.style.format({:,.1f}\",subset=[\"欄位\"]))\n",
        "df11=df4.merge(df5,on='OrderID')\n",
        "df11['Year']=pd.to_datetime(df11['OrderDate'])\n",
        "df11['Year']=df11['Year'].dt.year\n",
        "df11['total']=df11['UnitPrice']*df11['Quantity']\n",
        "df11=df11.groupby('Year').agg({'total':'sum'}).reset_index()\\\n",
        ".rename(columns={'Year':'年','total':'訂單金額'})\\\n",
        ".style.format('{:,.0f}',subset=['訂單金額'])\\\n",
        ".set_caption('表1-1：歷年訂單金額')\n",
        "df11\n"
      ],
      "metadata": {
        "colab": {
          "base_uri": "https://localhost:8080/",
          "height": 160
        },
        "id": "0bIK3xItk6Yy",
        "outputId": "8e46a9c6-7c46-4839-bfa3-b029c55c8282"
      },
      "execution_count": null,
      "outputs": [
        {
          "output_type": "execute_result",
          "data": {
            "text/plain": [
              "<pandas.io.formats.style.Styler at 0x7b3b013b3d60>"
            ],
            "text/html": [
              "<style type=\"text/css\">\n",
              "</style>\n",
              "<table id=\"T_9a181\" class=\"dataframe\">\n",
              "  <caption>表1-1：歷年訂單金額</caption>\n",
              "  <thead>\n",
              "    <tr>\n",
              "      <th class=\"blank level0\" >&nbsp;</th>\n",
              "      <th id=\"T_9a181_level0_col0\" class=\"col_heading level0 col0\" >年</th>\n",
              "      <th id=\"T_9a181_level0_col1\" class=\"col_heading level0 col1\" >訂單金額</th>\n",
              "    </tr>\n",
              "  </thead>\n",
              "  <tbody>\n",
              "    <tr>\n",
              "      <th id=\"T_9a181_level0_row0\" class=\"row_heading level0 row0\" >0</th>\n",
              "      <td id=\"T_9a181_row0_col0\" class=\"data row0 col0\" >1996</td>\n",
              "      <td id=\"T_9a181_row0_col1\" class=\"data row0 col1\" >226,298</td>\n",
              "    </tr>\n",
              "    <tr>\n",
              "      <th id=\"T_9a181_level0_row1\" class=\"row_heading level0 row1\" >1</th>\n",
              "      <td id=\"T_9a181_row1_col0\" class=\"data row1 col0\" >1997</td>\n",
              "      <td id=\"T_9a181_row1_col1\" class=\"data row1 col1\" >658,389</td>\n",
              "    </tr>\n",
              "    <tr>\n",
              "      <th id=\"T_9a181_level0_row2\" class=\"row_heading level0 row2\" >2</th>\n",
              "      <td id=\"T_9a181_row2_col0\" class=\"data row2 col0\" >1998</td>\n",
              "      <td id=\"T_9a181_row2_col1\" class=\"data row2 col1\" >469,771</td>\n",
              "    </tr>\n",
              "  </tbody>\n",
              "</table>\n"
            ]
          },
          "metadata": {},
          "execution_count": 93
        }
      ]
    },
    {
      "cell_type": "code",
      "source": [
        "#(2)【逐年】繪圖，加上圖形標題\n",
        "import matplotlib.pyplot as plt\n",
        "df11=df11.data\n",
        "df11.plot(kind='bar',x='年',y='訂單金額',rot=0\n",
        "        ,title='圖1-1:歷年訂單金額比較圖')\n"
      ],
      "metadata": {
        "colab": {
          "base_uri": "https://localhost:8080/",
          "height": 489
        },
        "id": "zuPUM8cYIcVK",
        "outputId": "ce78abce-4c5b-4a18-de13-79abde9bb5eb"
      },
      "execution_count": null,
      "outputs": [
        {
          "output_type": "execute_result",
          "data": {
            "text/plain": [
              "<Axes: title={'center': '圖1-1:歷年訂單金額比較圖'}, xlabel='年'>"
            ]
          },
          "metadata": {},
          "execution_count": 94
        },
        {
          "output_type": "display_data",
          "data": {
            "text/plain": [
              "<Figure size 640x480 with 1 Axes>"
            ],
            "image/png": "[encoded data removed]"
          },
          "metadata": {}
        }
      ]
    },
    {
      "cell_type": "code",
      "source": [
        "#(3)統計此公司的『逐年、逐月』的銷售金額（小數點0位，加上千分位，加上表格標題）\n",
        "# 補充：如何同時設定【小數點格式與千分位格式】：df.style.format({:,.1f}\",subset=[\"欄位\"]))\n",
        "df11=df4.merge(df5,on='OrderID')\n",
        "df11['Year']=pd.to_datetime(df11['OrderDate'])\n",
        "df11['Year']=df11['Year'].dt.year\n",
        "df11['month']=pd.to_datetime(df11['OrderDate'])\n",
        "df11['month']=df11['month'].dt.month\n",
        "df11['total']=df11['UnitPrice']*df11['Quantity']\n",
        "df11=df11.groupby(['Year','month']).agg({'total':'sum'}).reset_index()\\\n",
        ".rename(columns={'month':'月','Year':'年','total':'訂單金額'})\\\n",
        ".style.format('{:,.0f}',subset=['訂單金額'])\\\n",
        ".set_caption('表1-2：逐年逐月訂單金額')\n",
        "df12=df11.data\n",
        "df11"
      ],
      "metadata": {
        "colab": {
          "base_uri": "https://localhost:8080/",
          "height": 788
        },
        "id": "nUToprzAI_5r",
        "outputId": "9943906b-df85-48f6-946b-d88597aed4bb"
      },
      "execution_count": null,
      "outputs": [
        {
          "output_type": "execute_result",
          "data": {
            "text/plain": [
              "<pandas.io.formats.style.Styler at 0x7b3af3ba2ef0>"
            ],
            "text/html": [
              "<style type=\"text/css\">\n",
              "</style>\n",
              "<table id=\"T_6c708\" class=\"dataframe\">\n",
              "  <caption>表1-2：逐年逐月訂單金額</caption>\n",
              "  <thead>\n",
              "    <tr>\n",
              "      <th class=\"blank level0\" >&nbsp;</th>\n",
              "      <th id=\"T_6c708_level0_col0\" class=\"col_heading level0 col0\" >年</th>\n",
              "      <th id=\"T_6c708_level0_col1\" class=\"col_heading level0 col1\" >月</th>\n",
              "      <th id=\"T_6c708_level0_col2\" class=\"col_heading level0 col2\" >訂單金額</th>\n",
              "    </tr>\n",
              "  </thead>\n",
              "  <tbody>\n",
              "    <tr>\n",
              "      <th id=\"T_6c708_level0_row0\" class=\"row_heading level0 row0\" >0</th>\n",
              "      <td id=\"T_6c708_row0_col0\" class=\"data row0 col0\" >1996</td>\n",
              "      <td id=\"T_6c708_row0_col1\" class=\"data row0 col1\" >7</td>\n",
              "      <td id=\"T_6c708_row0_col2\" class=\"data row0 col2\" >30,192</td>\n",
              "    </tr>\n",
              "    <tr>\n",
              "      <th id=\"T_6c708_level0_row1\" class=\"row_heading level0 row1\" >1</th>\n",
              "      <td id=\"T_6c708_row1_col0\" class=\"data row1 col0\" >1996</td>\n",
              "      <td id=\"T_6c708_row1_col1\" class=\"data row1 col1\" >8</td>\n",
              "      <td id=\"T_6c708_row1_col2\" class=\"data row1 col2\" >26,609</td>\n",
              "    </tr>\n",
              "    <tr>\n",
              "      <th id=\"T_6c708_level0_row2\" class=\"row_heading level0 row2\" >2</th>\n",
              "      <td id=\"T_6c708_row2_col0\" class=\"data row2 col0\" >1996</td>\n",
              "      <td id=\"T_6c708_row2_col1\" class=\"data row2 col1\" >9</td>\n",
              "      <td id=\"T_6c708_row2_col2\" class=\"data row2 col2\" >27,636</td>\n",
              "    </tr>\n",
              "    <tr>\n",
              "      <th id=\"T_6c708_level0_row3\" class=\"row_heading level0 row3\" >3</th>\n",
              "      <td id=\"T_6c708_row3_col0\" class=\"data row3 col0\" >1996</td>\n",
              "      <td id=\"T_6c708_row3_col1\" class=\"data row3 col1\" >10</td>\n",
              "      <td id=\"T_6c708_row3_col2\" class=\"data row3 col2\" >41,204</td>\n",
              "    </tr>\n",
              "    <tr>\n",
              "      <th id=\"T_6c708_level0_row4\" class=\"row_heading level0 row4\" >4</th>\n",
              "      <td id=\"T_6c708_row4_col0\" class=\"data row4 col0\" >1996</td>\n",
              "      <td id=\"T_6c708_row4_col1\" class=\"data row4 col1\" >11</td>\n",
              "      <td id=\"T_6c708_row4_col2\" class=\"data row4 col2\" >49,704</td>\n",
              "    </tr>\n",
              "    <tr>\n",
              "      <th id=\"T_6c708_level0_row5\" class=\"row_heading level0 row5\" >5</th>\n",
              "      <td id=\"T_6c708_row5_col0\" class=\"data row5 col0\" >1996</td>\n",
              "      <td id=\"T_6c708_row5_col1\" class=\"data row5 col1\" >12</td>\n",
              "      <td id=\"T_6c708_row5_col2\" class=\"data row5 col2\" >50,953</td>\n",
              "    </tr>\n",
              "    <tr>\n",
              "      <th id=\"T_6c708_level0_row6\" class=\"row_heading level0 row6\" >6</th>\n",
              "      <td id=\"T_6c708_row6_col0\" class=\"data row6 col0\" >1997</td>\n",
              "      <td id=\"T_6c708_row6_col1\" class=\"data row6 col1\" >1</td>\n",
              "      <td id=\"T_6c708_row6_col2\" class=\"data row6 col2\" >66,693</td>\n",
              "    </tr>\n",
              "    <tr>\n",
              "      <th id=\"T_6c708_level0_row7\" class=\"row_heading level0 row7\" >7</th>\n",
              "      <td id=\"T_6c708_row7_col0\" class=\"data row7 col0\" >1997</td>\n",
              "      <td id=\"T_6c708_row7_col1\" class=\"data row7 col1\" >2</td>\n",
              "      <td id=\"T_6c708_row7_col2\" class=\"data row7 col2\" >41,207</td>\n",
              "    </tr>\n",
              "    <tr>\n",
              "      <th id=\"T_6c708_level0_row8\" class=\"row_heading level0 row8\" >8</th>\n",
              "      <td id=\"T_6c708_row8_col0\" class=\"data row8 col0\" >1997</td>\n",
              "      <td id=\"T_6c708_row8_col1\" class=\"data row8 col1\" >3</td>\n",
              "      <td id=\"T_6c708_row8_col2\" class=\"data row8 col2\" >39,980</td>\n",
              "    </tr>\n",
              "    <tr>\n",
              "      <th id=\"T_6c708_level0_row9\" class=\"row_heading level0 row9\" >9</th>\n",
              "      <td id=\"T_6c708_row9_col0\" class=\"data row9 col0\" >1997</td>\n",
              "      <td id=\"T_6c708_row9_col1\" class=\"data row9 col1\" >4</td>\n",
              "      <td id=\"T_6c708_row9_col2\" class=\"data row9 col2\" >55,699</td>\n",
              "    </tr>\n",
              "    <tr>\n",
              "      <th id=\"T_6c708_level0_row10\" class=\"row_heading level0 row10\" >10</th>\n",
              "      <td id=\"T_6c708_row10_col0\" class=\"data row10 col0\" >1997</td>\n",
              "      <td id=\"T_6c708_row10_col1\" class=\"data row10 col1\" >5</td>\n",
              "      <td id=\"T_6c708_row10_col2\" class=\"data row10 col2\" >56,824</td>\n",
              "    </tr>\n",
              "    <tr>\n",
              "      <th id=\"T_6c708_level0_row11\" class=\"row_heading level0 row11\" >11</th>\n",
              "      <td id=\"T_6c708_row11_col0\" class=\"data row11 col0\" >1997</td>\n",
              "      <td id=\"T_6c708_row11_col1\" class=\"data row11 col1\" >6</td>\n",
              "      <td id=\"T_6c708_row11_col2\" class=\"data row11 col2\" >39,088</td>\n",
              "    </tr>\n",
              "    <tr>\n",
              "      <th id=\"T_6c708_level0_row12\" class=\"row_heading level0 row12\" >12</th>\n",
              "      <td id=\"T_6c708_row12_col0\" class=\"data row12 col0\" >1997</td>\n",
              "      <td id=\"T_6c708_row12_col1\" class=\"data row12 col1\" >7</td>\n",
              "      <td id=\"T_6c708_row12_col2\" class=\"data row12 col2\" >55,465</td>\n",
              "    </tr>\n",
              "    <tr>\n",
              "      <th id=\"T_6c708_level0_row13\" class=\"row_heading level0 row13\" >13</th>\n",
              "      <td id=\"T_6c708_row13_col0\" class=\"data row13 col0\" >1997</td>\n",
              "      <td id=\"T_6c708_row13_col1\" class=\"data row13 col1\" >8</td>\n",
              "      <td id=\"T_6c708_row13_col2\" class=\"data row13 col2\" >49,982</td>\n",
              "    </tr>\n",
              "    <tr>\n",
              "      <th id=\"T_6c708_level0_row14\" class=\"row_heading level0 row14\" >14</th>\n",
              "      <td id=\"T_6c708_row14_col0\" class=\"data row14 col0\" >1997</td>\n",
              "      <td id=\"T_6c708_row14_col1\" class=\"data row14 col1\" >9</td>\n",
              "      <td id=\"T_6c708_row14_col2\" class=\"data row14 col2\" >59,733</td>\n",
              "    </tr>\n",
              "    <tr>\n",
              "      <th id=\"T_6c708_level0_row15\" class=\"row_heading level0 row15\" >15</th>\n",
              "      <td id=\"T_6c708_row15_col0\" class=\"data row15 col0\" >1997</td>\n",
              "      <td id=\"T_6c708_row15_col1\" class=\"data row15 col1\" >10</td>\n",
              "      <td id=\"T_6c708_row15_col2\" class=\"data row15 col2\" >70,328</td>\n",
              "    </tr>\n",
              "    <tr>\n",
              "      <th id=\"T_6c708_level0_row16\" class=\"row_heading level0 row16\" >16</th>\n",
              "      <td id=\"T_6c708_row16_col0\" class=\"data row16 col0\" >1997</td>\n",
              "      <td id=\"T_6c708_row16_col1\" class=\"data row16 col1\" >11</td>\n",
              "      <td id=\"T_6c708_row16_col2\" class=\"data row16 col2\" >45,913</td>\n",
              "    </tr>\n",
              "    <tr>\n",
              "      <th id=\"T_6c708_level0_row17\" class=\"row_heading level0 row17\" >17</th>\n",
              "      <td id=\"T_6c708_row17_col0\" class=\"data row17 col0\" >1997</td>\n",
              "      <td id=\"T_6c708_row17_col1\" class=\"data row17 col1\" >12</td>\n",
              "      <td id=\"T_6c708_row17_col2\" class=\"data row17 col2\" >77,476</td>\n",
              "    </tr>\n",
              "    <tr>\n",
              "      <th id=\"T_6c708_level0_row18\" class=\"row_heading level0 row18\" >18</th>\n",
              "      <td id=\"T_6c708_row18_col0\" class=\"data row18 col0\" >1998</td>\n",
              "      <td id=\"T_6c708_row18_col1\" class=\"data row18 col1\" >1</td>\n",
              "      <td id=\"T_6c708_row18_col2\" class=\"data row18 col2\" >100,855</td>\n",
              "    </tr>\n",
              "    <tr>\n",
              "      <th id=\"T_6c708_level0_row19\" class=\"row_heading level0 row19\" >19</th>\n",
              "      <td id=\"T_6c708_row19_col0\" class=\"data row19 col0\" >1998</td>\n",
              "      <td id=\"T_6c708_row19_col1\" class=\"data row19 col1\" >2</td>\n",
              "      <td id=\"T_6c708_row19_col2\" class=\"data row19 col2\" >104,562</td>\n",
              "    </tr>\n",
              "    <tr>\n",
              "      <th id=\"T_6c708_level0_row20\" class=\"row_heading level0 row20\" >20</th>\n",
              "      <td id=\"T_6c708_row20_col0\" class=\"data row20 col0\" >1998</td>\n",
              "      <td id=\"T_6c708_row20_col1\" class=\"data row20 col1\" >3</td>\n",
              "      <td id=\"T_6c708_row20_col2\" class=\"data row20 col2\" >109,825</td>\n",
              "    </tr>\n",
              "    <tr>\n",
              "      <th id=\"T_6c708_level0_row21\" class=\"row_heading level0 row21\" >21</th>\n",
              "      <td id=\"T_6c708_row21_col0\" class=\"data row21 col0\" >1998</td>\n",
              "      <td id=\"T_6c708_row21_col1\" class=\"data row21 col1\" >4</td>\n",
              "      <td id=\"T_6c708_row21_col2\" class=\"data row21 col2\" >134,631</td>\n",
              "    </tr>\n",
              "    <tr>\n",
              "      <th id=\"T_6c708_level0_row22\" class=\"row_heading level0 row22\" >22</th>\n",
              "      <td id=\"T_6c708_row22_col0\" class=\"data row22 col0\" >1998</td>\n",
              "      <td id=\"T_6c708_row22_col1\" class=\"data row22 col1\" >5</td>\n",
              "      <td id=\"T_6c708_row22_col2\" class=\"data row22 col2\" >19,899</td>\n",
              "    </tr>\n",
              "  </tbody>\n",
              "</table>\n"
            ]
          },
          "metadata": {},
          "execution_count": 95
        }
      ]
    },
    {
      "cell_type": "code",
      "source": [
        "#(4)【逐年逐月】繪圖，加上圖形標題\n",
        "df12['年月']=df12['年'].astype(str)+'-'+df12['月'].astype(str)\n",
        "df12.plot(kind='bar',legend=True,x='年月',y='訂單金額',figsize=(14,10),rot=45\n",
        "        ,title='圖1-2:逐年逐月訂單金額比較圖')\n",
        "plt.legend(loc='upper right')\n",
        "plt.show()"
      ],
      "metadata": {
        "colab": {
          "base_uri": "https://localhost:8080/",
          "height": 901
        },
        "id": "ZXTqucYmJ-gM",
        "outputId": "e5ff452c-267f-429f-ead1-34af74e3a9f5"
      },
      "execution_count": null,
      "outputs": [
        {
          "output_type": "display_data",
          "data": {
            "text/plain": [
              "<Figure size 1400x1000 with 1 Axes>"
            ],
            "image/png": "[encoded data removed]"
          },
          "metadata": {}
        }
      ]
    },
    {
      "cell_type": "markdown",
      "source": [
        "---\n",
        "# **2.第2個分析【產品數量頻數分析】：統計每個類別下的產品數量與佔比，並畫圖**\n",
        "\n",
        "下載檔案：https://acupun.site/lecture/pandas/example/resource/company2.xlsx\n",
        "\n",
        "將檔案上傳到雲端硬碟，讀取自己雲端的檔案"
      ],
      "metadata": {
        "id": "zJFU-1alJjpP"
      }
    },
    {
      "cell_type": "code",
      "source": [
        "#(1)統計每個類別下的產品量佔比\n",
        "df12=df1.merge(df6,on='CategoryID')\n",
        "df12=(df12.groupby('CategoryName').agg({'ProductName':'count'})/df12.groupby('CategoryName').agg({'ProductName':'count'}).sum())\\\n",
        ".reset_index()\\\n",
        ".rename(columns={'ProductName':'產品量佔比'})\\\n",
        ".style.set_caption('表1：統計各類別的產品量佔比')\n",
        "df13=df12.data\n",
        "df12"
      ],
      "metadata": {
        "colab": {
          "base_uri": "https://localhost:8080/",
          "height": 317
        },
        "id": "SLZD3F_0JqrJ",
        "outputId": "dcb6ffd2-2ff9-453b-f8cd-10a6c111a45f"
      },
      "execution_count": null,
      "outputs": [
        {
          "output_type": "execute_result",
          "data": {
            "text/plain": [
              "<pandas.io.formats.style.Styler at 0x7b3af3c36890>"
            ],
            "text/html": [
              "<style type=\"text/css\">\n",
              "</style>\n",
              "<table id=\"T_2bca9\" class=\"dataframe\">\n",
              "  <caption>表1：統計各類別的產品量佔比</caption>\n",
              "  <thead>\n",
              "    <tr>\n",
              "      <th class=\"blank level0\" >&nbsp;</th>\n",
              "      <th id=\"T_2bca9_level0_col0\" class=\"col_heading level0 col0\" >CategoryName</th>\n",
              "      <th id=\"T_2bca9_level0_col1\" class=\"col_heading level0 col1\" >產品量佔比</th>\n",
              "    </tr>\n",
              "  </thead>\n",
              "  <tbody>\n",
              "    <tr>\n",
              "      <th id=\"T_2bca9_level0_row0\" class=\"row_heading level0 row0\" >0</th>\n",
              "      <td id=\"T_2bca9_row0_col0\" class=\"data row0 col0\" >Beverages</td>\n",
              "      <td id=\"T_2bca9_row0_col1\" class=\"data row0 col1\" >0.155844</td>\n",
              "    </tr>\n",
              "    <tr>\n",
              "      <th id=\"T_2bca9_level0_row1\" class=\"row_heading level0 row1\" >1</th>\n",
              "      <td id=\"T_2bca9_row1_col0\" class=\"data row1 col0\" >Condiments</td>\n",
              "      <td id=\"T_2bca9_row1_col1\" class=\"data row1 col1\" >0.155844</td>\n",
              "    </tr>\n",
              "    <tr>\n",
              "      <th id=\"T_2bca9_level0_row2\" class=\"row_heading level0 row2\" >2</th>\n",
              "      <td id=\"T_2bca9_row2_col0\" class=\"data row2 col0\" >Confections</td>\n",
              "      <td id=\"T_2bca9_row2_col1\" class=\"data row2 col1\" >0.168831</td>\n",
              "    </tr>\n",
              "    <tr>\n",
              "      <th id=\"T_2bca9_level0_row3\" class=\"row_heading level0 row3\" >3</th>\n",
              "      <td id=\"T_2bca9_row3_col0\" class=\"data row3 col0\" >Dairy Products</td>\n",
              "      <td id=\"T_2bca9_row3_col1\" class=\"data row3 col1\" >0.129870</td>\n",
              "    </tr>\n",
              "    <tr>\n",
              "      <th id=\"T_2bca9_level0_row4\" class=\"row_heading level0 row4\" >4</th>\n",
              "      <td id=\"T_2bca9_row4_col0\" class=\"data row4 col0\" >Grains/Cereals</td>\n",
              "      <td id=\"T_2bca9_row4_col1\" class=\"data row4 col1\" >0.090909</td>\n",
              "    </tr>\n",
              "    <tr>\n",
              "      <th id=\"T_2bca9_level0_row5\" class=\"row_heading level0 row5\" >5</th>\n",
              "      <td id=\"T_2bca9_row5_col0\" class=\"data row5 col0\" >Meat/Poultry</td>\n",
              "      <td id=\"T_2bca9_row5_col1\" class=\"data row5 col1\" >0.077922</td>\n",
              "    </tr>\n",
              "    <tr>\n",
              "      <th id=\"T_2bca9_level0_row6\" class=\"row_heading level0 row6\" >6</th>\n",
              "      <td id=\"T_2bca9_row6_col0\" class=\"data row6 col0\" >Produce</td>\n",
              "      <td id=\"T_2bca9_row6_col1\" class=\"data row6 col1\" >0.064935</td>\n",
              "    </tr>\n",
              "    <tr>\n",
              "      <th id=\"T_2bca9_level0_row7\" class=\"row_heading level0 row7\" >7</th>\n",
              "      <td id=\"T_2bca9_row7_col0\" class=\"data row7 col0\" >Seafood</td>\n",
              "      <td id=\"T_2bca9_row7_col1\" class=\"data row7 col1\" >0.155844</td>\n",
              "    </tr>\n",
              "  </tbody>\n",
              "</table>\n"
            ]
          },
          "metadata": {},
          "execution_count": 97
        }
      ]
    },
    {
      "cell_type": "code",
      "source": [
        "#(2) 畫餅狀圖：每個類別下的產品量佔比，突顯最後3名\n",
        "df13['產品量佔比'].plot(kind='pie',labels=df13['CategoryName'],autopct='%.1f%%',figsize=(7,7),fontsize=14,\n",
        "                explode=[0,0,0,0,0.1,0.1,0.1,0])\n",
        "plt.title('圖2:每個類別下的產品量佔比，突出最後3名')\n",
        "plt.ylabel('')\n",
        "plt.show()"
      ],
      "metadata": {
        "colab": {
          "base_uri": "https://localhost:8080/",
          "height": 598
        },
        "id": "O03oTkiGJkXN",
        "outputId": "c04a2e69-1bb0-401f-85cf-8c4f785be56c"
      },
      "execution_count": null,
      "outputs": [
        {
          "output_type": "display_data",
          "data": {
            "text/plain": [
              "<Figure size 700x700 with 1 Axes>"
            ],
            "image/png": "[encoded data removed]"
          },
          "metadata": {}
        }
      ]
    },
    {
      "cell_type": "markdown",
      "source": [
        "---\n",
        "# **3.第3個分析【員工表現的強弱項分析】：找出A公司員工業務表現(銷售總額)最好的前3名，後3名**\n",
        "\n",
        "讀取自己雲端的檔案"
      ],
      "metadata": {
        "id": "WfVJB9i4LSwO"
      }
    },
    {
      "cell_type": "code",
      "source": [
        "#(1)【強項分析】：加上名次，列出全部員工的前3名\n",
        "# 『銷售總額，名次』都沒有小數點\n",
        "df11=df3.merge(df5,on='EmployeeID')\n",
        "df12=df11.merge(df4,on='OrderID')\n",
        "df12['Totalsale']=df12['UnitPrice']*df12['Quantity']\n",
        "df12=df12.groupby(['EmployeeID','FirstName','LastName']).agg({'Totalsale':'sum'})\\\n",
        ".reset_index()\\\n",
        ".sort_values('Totalsale',ascending=False)\\\n",
        ".rename(columns={'Totalsale':'銷售總額'})\n",
        "df12['名次']=df12['銷售總額'].rank(ascending=False)\n",
        "df12.head(3).style.format('{:.0f}',subset=['銷售總額','名次'])\n",
        "\n"
      ],
      "metadata": {
        "colab": {
          "base_uri": "https://localhost:8080/",
          "height": 143
        },
        "id": "-UwQaiZDL0M4",
        "outputId": "723e68ba-fa6e-4cd7-de50-ead84c04f25e"
      },
      "execution_count": null,
      "outputs": [
        {
          "output_type": "execute_result",
          "data": {
            "text/plain": [
              "<pandas.io.formats.style.Styler at 0x7b3af3c37e20>"
            ],
            "text/html": [
              "<style type=\"text/css\">\n",
              "</style>\n",
              "<table id=\"T_3cf7f\" class=\"dataframe\">\n",
              "  <thead>\n",
              "    <tr>\n",
              "      <th class=\"blank level0\" >&nbsp;</th>\n",
              "      <th id=\"T_3cf7f_level0_col0\" class=\"col_heading level0 col0\" >EmployeeID</th>\n",
              "      <th id=\"T_3cf7f_level0_col1\" class=\"col_heading level0 col1\" >FirstName</th>\n",
              "      <th id=\"T_3cf7f_level0_col2\" class=\"col_heading level0 col2\" >LastName</th>\n",
              "      <th id=\"T_3cf7f_level0_col3\" class=\"col_heading level0 col3\" >銷售總額</th>\n",
              "      <th id=\"T_3cf7f_level0_col4\" class=\"col_heading level0 col4\" >名次</th>\n",
              "    </tr>\n",
              "  </thead>\n",
              "  <tbody>\n",
              "    <tr>\n",
              "      <th id=\"T_3cf7f_level0_row0\" class=\"row_heading level0 row0\" >3</th>\n",
              "      <td id=\"T_3cf7f_row0_col0\" class=\"data row0 col0\" >4</td>\n",
              "      <td id=\"T_3cf7f_row0_col1\" class=\"data row0 col1\" >Margaret</td>\n",
              "      <td id=\"T_3cf7f_row0_col2\" class=\"data row0 col2\" >Peacock</td>\n",
              "      <td id=\"T_3cf7f_row0_col3\" class=\"data row0 col3\" >250187</td>\n",
              "      <td id=\"T_3cf7f_row0_col4\" class=\"data row0 col4\" >1</td>\n",
              "    </tr>\n",
              "    <tr>\n",
              "      <th id=\"T_3cf7f_level0_row1\" class=\"row_heading level0 row1\" >2</th>\n",
              "      <td id=\"T_3cf7f_row1_col0\" class=\"data row1 col0\" >3</td>\n",
              "      <td id=\"T_3cf7f_row1_col1\" class=\"data row1 col1\" >Janet</td>\n",
              "      <td id=\"T_3cf7f_row1_col2\" class=\"data row1 col2\" >Leverling</td>\n",
              "      <td id=\"T_3cf7f_row1_col3\" class=\"data row1 col3\" >213051</td>\n",
              "      <td id=\"T_3cf7f_row1_col4\" class=\"data row1 col4\" >2</td>\n",
              "    </tr>\n",
              "    <tr>\n",
              "      <th id=\"T_3cf7f_level0_row2\" class=\"row_heading level0 row2\" >0</th>\n",
              "      <td id=\"T_3cf7f_row2_col0\" class=\"data row2 col0\" >1</td>\n",
              "      <td id=\"T_3cf7f_row2_col1\" class=\"data row2 col1\" >Nancy</td>\n",
              "      <td id=\"T_3cf7f_row2_col2\" class=\"data row2 col2\" >Davolio</td>\n",
              "      <td id=\"T_3cf7f_row2_col3\" class=\"data row2 col3\" >202144</td>\n",
              "      <td id=\"T_3cf7f_row2_col4\" class=\"data row2 col4\" >3</td>\n",
              "    </tr>\n",
              "  </tbody>\n",
              "</table>\n"
            ]
          },
          "metadata": {},
          "execution_count": 99
        }
      ]
    },
    {
      "cell_type": "code",
      "source": [
        "#(2)【弱項分析】：加上名次，列出全部員工的後3名\n",
        "# 『銷售總額，名次』都沒有小數點\n",
        "df11=df3.merge(df5,on='EmployeeID')\n",
        "df12=df11.merge(df4,on='OrderID')\n",
        "df12['Totalsale']=df12['UnitPrice']*df12['Quantity']\n",
        "df12=df12.groupby(['EmployeeID','FirstName','LastName']).agg({'Totalsale':'sum'})\\\n",
        ".reset_index()\\\n",
        ".sort_values('Totalsale',ascending=False)\\\n",
        ".rename(columns={'Totalsale':'銷售總額'})\n",
        "df12['名次']=df12['銷售總額'].rank(ascending=False)\n",
        "df12.tail(3).style.format('{:.0f}',subset=['銷售總額','名次'])\n"
      ],
      "metadata": {
        "colab": {
          "base_uri": "https://localhost:8080/",
          "height": 143
        },
        "id": "zthjh96kMyfM",
        "outputId": "2387f7be-0095-4c6c-bf27-8ab6cca35dd0"
      },
      "execution_count": null,
      "outputs": [
        {
          "output_type": "execute_result",
          "data": {
            "text/plain": [
              "<pandas.io.formats.style.Styler at 0x7b3b01340bb0>"
            ],
            "text/html": [
              "<style type=\"text/css\">\n",
              "</style>\n",
              "<table id=\"T_28eba\" class=\"dataframe\">\n",
              "  <thead>\n",
              "    <tr>\n",
              "      <th class=\"blank level0\" >&nbsp;</th>\n",
              "      <th id=\"T_28eba_level0_col0\" class=\"col_heading level0 col0\" >EmployeeID</th>\n",
              "      <th id=\"T_28eba_level0_col1\" class=\"col_heading level0 col1\" >FirstName</th>\n",
              "      <th id=\"T_28eba_level0_col2\" class=\"col_heading level0 col2\" >LastName</th>\n",
              "      <th id=\"T_28eba_level0_col3\" class=\"col_heading level0 col3\" >銷售總額</th>\n",
              "      <th id=\"T_28eba_level0_col4\" class=\"col_heading level0 col4\" >名次</th>\n",
              "    </tr>\n",
              "  </thead>\n",
              "  <tbody>\n",
              "    <tr>\n",
              "      <th id=\"T_28eba_level0_row0\" class=\"row_heading level0 row0\" >8</th>\n",
              "      <td id=\"T_28eba_row0_col0\" class=\"data row0 col0\" >9</td>\n",
              "      <td id=\"T_28eba_row0_col1\" class=\"data row0 col1\" >Anne</td>\n",
              "      <td id=\"T_28eba_row0_col2\" class=\"data row0 col2\" >Dodsworth</td>\n",
              "      <td id=\"T_28eba_row0_col3\" class=\"data row0 col3\" >82964</td>\n",
              "      <td id=\"T_28eba_row0_col4\" class=\"data row0 col4\" >7</td>\n",
              "    </tr>\n",
              "    <tr>\n",
              "      <th id=\"T_28eba_level0_row1\" class=\"row_heading level0 row1\" >5</th>\n",
              "      <td id=\"T_28eba_row1_col0\" class=\"data row1 col0\" >6</td>\n",
              "      <td id=\"T_28eba_row1_col1\" class=\"data row1 col1\" >Michael</td>\n",
              "      <td id=\"T_28eba_row1_col2\" class=\"data row1 col2\" >Suyama</td>\n",
              "      <td id=\"T_28eba_row1_col3\" class=\"data row1 col3\" >78198</td>\n",
              "      <td id=\"T_28eba_row1_col4\" class=\"data row1 col4\" >8</td>\n",
              "    </tr>\n",
              "    <tr>\n",
              "      <th id=\"T_28eba_level0_row2\" class=\"row_heading level0 row2\" >4</th>\n",
              "      <td id=\"T_28eba_row2_col0\" class=\"data row2 col0\" >5</td>\n",
              "      <td id=\"T_28eba_row2_col1\" class=\"data row2 col1\" >Steven</td>\n",
              "      <td id=\"T_28eba_row2_col2\" class=\"data row2 col2\" >Buchanan</td>\n",
              "      <td id=\"T_28eba_row2_col3\" class=\"data row2 col3\" >75568</td>\n",
              "      <td id=\"T_28eba_row2_col4\" class=\"data row2 col4\" >9</td>\n",
              "    </tr>\n",
              "  </tbody>\n",
              "</table>\n"
            ]
          },
          "metadata": {},
          "execution_count": 100
        }
      ]
    },
    {
      "cell_type": "code",
      "source": [
        "#(3)【強項分析】比較不同國家的員工，列出銷售總額的前3名\n",
        "# 『銷售總額，名次』都沒有小數點\n",
        "df11=df3.merge(df5,on='EmployeeID')\n",
        "df12=df11.merge(df4,on='OrderID')\n",
        "df12['Totalsale']=df12['UnitPrice']*df12['Quantity']\n",
        "df12=df12.groupby(['Country','EmployeeID','FirstName','LastName']).agg({'Totalsale':'sum'})\\\n",
        ".sort_values('Totalsale',ascending=False)\\\n",
        ".rename(columns={'Totalsale':'銷售總額'})\\\n",
        ".groupby(['Country']).head(3)\n",
        "df12['名次']=df12['銷售總額'].rank(ascending=False)\n",
        "df12.style.format('{:,.0f}',subset=['銷售總額','名次'])"
      ],
      "metadata": {
        "colab": {
          "base_uri": "https://localhost:8080/",
          "height": 269
        },
        "id": "iZo5lmhlPwPT",
        "outputId": "03dcb58e-a612-42a5-b6a2-a450acbc5fb1"
      },
      "execution_count": null,
      "outputs": [
        {
          "output_type": "execute_result",
          "data": {
            "text/plain": [
              "<pandas.io.formats.style.Styler at 0x7b3b00d78460>"
            ],
            "text/html": [
              "<style type=\"text/css\">\n",
              "</style>\n",
              "<table id=\"T_960ae\" class=\"dataframe\">\n",
              "  <thead>\n",
              "    <tr>\n",
              "      <th class=\"blank\" >&nbsp;</th>\n",
              "      <th class=\"blank\" >&nbsp;</th>\n",
              "      <th class=\"blank\" >&nbsp;</th>\n",
              "      <th class=\"blank level0\" >&nbsp;</th>\n",
              "      <th id=\"T_960ae_level0_col0\" class=\"col_heading level0 col0\" >銷售總額</th>\n",
              "      <th id=\"T_960ae_level0_col1\" class=\"col_heading level0 col1\" >名次</th>\n",
              "    </tr>\n",
              "    <tr>\n",
              "      <th class=\"index_name level0\" >Country</th>\n",
              "      <th class=\"index_name level1\" >EmployeeID</th>\n",
              "      <th class=\"index_name level2\" >FirstName</th>\n",
              "      <th class=\"index_name level3\" >LastName</th>\n",
              "      <th class=\"blank col0\" >&nbsp;</th>\n",
              "      <th class=\"blank col1\" >&nbsp;</th>\n",
              "    </tr>\n",
              "  </thead>\n",
              "  <tbody>\n",
              "    <tr>\n",
              "      <th id=\"T_960ae_level0_row0\" class=\"row_heading level0 row0\" rowspan=\"3\">USA</th>\n",
              "      <th id=\"T_960ae_level1_row0\" class=\"row_heading level1 row0\" >4</th>\n",
              "      <th id=\"T_960ae_level2_row0\" class=\"row_heading level2 row0\" >Margaret</th>\n",
              "      <th id=\"T_960ae_level3_row0\" class=\"row_heading level3 row0\" >Peacock</th>\n",
              "      <td id=\"T_960ae_row0_col0\" class=\"data row0 col0\" >250,187</td>\n",
              "      <td id=\"T_960ae_row0_col1\" class=\"data row0 col1\" >1</td>\n",
              "    </tr>\n",
              "    <tr>\n",
              "      <th id=\"T_960ae_level1_row1\" class=\"row_heading level1 row1\" >3</th>\n",
              "      <th id=\"T_960ae_level2_row1\" class=\"row_heading level2 row1\" >Janet</th>\n",
              "      <th id=\"T_960ae_level3_row1\" class=\"row_heading level3 row1\" >Leverling</th>\n",
              "      <td id=\"T_960ae_row1_col0\" class=\"data row1 col0\" >213,051</td>\n",
              "      <td id=\"T_960ae_row1_col1\" class=\"data row1 col1\" >2</td>\n",
              "    </tr>\n",
              "    <tr>\n",
              "      <th id=\"T_960ae_level1_row2\" class=\"row_heading level1 row2\" >1</th>\n",
              "      <th id=\"T_960ae_level2_row2\" class=\"row_heading level2 row2\" >Nancy</th>\n",
              "      <th id=\"T_960ae_level3_row2\" class=\"row_heading level3 row2\" >Davolio</th>\n",
              "      <td id=\"T_960ae_row2_col0\" class=\"data row2 col0\" >202,144</td>\n",
              "      <td id=\"T_960ae_row2_col1\" class=\"data row2 col1\" >3</td>\n",
              "    </tr>\n",
              "    <tr>\n",
              "      <th id=\"T_960ae_level0_row3\" class=\"row_heading level0 row3\" rowspan=\"3\">UK</th>\n",
              "      <th id=\"T_960ae_level1_row3\" class=\"row_heading level1 row3\" >7</th>\n",
              "      <th id=\"T_960ae_level2_row3\" class=\"row_heading level2 row3\" >Robert</th>\n",
              "      <th id=\"T_960ae_level3_row3\" class=\"row_heading level3 row3\" >King</th>\n",
              "      <td id=\"T_960ae_row3_col0\" class=\"data row3 col0\" >141,296</td>\n",
              "      <td id=\"T_960ae_row3_col1\" class=\"data row3 col1\" >4</td>\n",
              "    </tr>\n",
              "    <tr>\n",
              "      <th id=\"T_960ae_level1_row4\" class=\"row_heading level1 row4\" >9</th>\n",
              "      <th id=\"T_960ae_level2_row4\" class=\"row_heading level2 row4\" >Anne</th>\n",
              "      <th id=\"T_960ae_level3_row4\" class=\"row_heading level3 row4\" >Dodsworth</th>\n",
              "      <td id=\"T_960ae_row4_col0\" class=\"data row4 col0\" >82,964</td>\n",
              "      <td id=\"T_960ae_row4_col1\" class=\"data row4 col1\" >5</td>\n",
              "    </tr>\n",
              "    <tr>\n",
              "      <th id=\"T_960ae_level1_row5\" class=\"row_heading level1 row5\" >6</th>\n",
              "      <th id=\"T_960ae_level2_row5\" class=\"row_heading level2 row5\" >Michael</th>\n",
              "      <th id=\"T_960ae_level3_row5\" class=\"row_heading level3 row5\" >Suyama</th>\n",
              "      <td id=\"T_960ae_row5_col0\" class=\"data row5 col0\" >78,198</td>\n",
              "      <td id=\"T_960ae_row5_col1\" class=\"data row5 col1\" >6</td>\n",
              "    </tr>\n",
              "  </tbody>\n",
              "</table>\n"
            ]
          },
          "metadata": {},
          "execution_count": 101
        }
      ]
    },
    {
      "cell_type": "code",
      "source": [
        "#(4)【繪柱狀圖】：比較全部員工的銷售總額，由高到低排序\n",
        "df11=df3.merge(df5,on='EmployeeID')\n",
        "df12=df11.merge(df4,on='OrderID')\n",
        "df12['Totalsale']=df12['UnitPrice']*df12['Quantity']\n",
        "df12=df12.groupby(['Country','EmployeeID','FirstName','LastName']).agg({'Totalsale':'sum'})\\\n",
        ".sort_values('Totalsale',ascending=False)\\\n",
        ".rename(columns={'Totalsale':'銷售總額'})\n",
        "df12['名次']=df12['銷售總額'].rank(ascending=False)\n",
        "df12.style.format('{:.0f}',subset=['銷售總額','名次'])\n",
        "df12=df12.reset_index()\n",
        "df12['name']=df12['LastName']+df12['FirstName']\n",
        "df12.plot(kind='bar',x='name',y='銷售總額',rot=45,figsize=(12,10),fontsize=16)\n",
        "plt.title('Fig3:比較員工的銷售總額，由高到低排序')"
      ],
      "metadata": {
        "colab": {
          "base_uri": "https://localhost:8080/",
          "height": 1000
        },
        "id": "T1r1Q4deR8AN",
        "outputId": "ee43a6e8-1243-4d4c-8698-ee85816bd209"
      },
      "execution_count": null,
      "outputs": [
        {
          "output_type": "execute_result",
          "data": {
            "text/plain": [
              "Text(0.5, 1.0, 'Fig3:比較員工的銷售總額，由高到低排序')"
            ]
          },
          "metadata": {},
          "execution_count": 102
        },
        {
          "output_type": "display_data",
          "data": {
            "text/plain": [
              "<Figure size 1200x1000 with 1 Axes>"
            ],
            "image/png": "[encoded data removed]"
          },
          "metadata": {}
        }
      ]
    },
    {
      "cell_type": "markdown",
      "source": [
        "---\n",
        "# **4.第4個分析【產品銷售的強弱項分析】：找出A公司所有產品裡面，銷售數量最好的5名，銷售總額最好的前5名**\n",
        "\n",
        "讀取自己雲端的檔案"
      ],
      "metadata": {
        "id": "kE0R8kYlRgjk"
      }
    },
    {
      "cell_type": "code",
      "source": [
        "#(1)【產品銷量的強項分析】：『銷售總額，名次』都沒有小數點，『銷售總額格式是千分位』\n",
        "# 補充：如何同時設定【小數點格式與千分位格式】：df.style.format({:,.1f}\",subset=[\"欄位\"]))\n",
        "df11=df4.merge(df6,on='ProductID')\n",
        "df11['銷售總額']=df11['UnitPrice_x']*df11['Quantity']\n",
        "df11=df11.groupby(['ProductID','ProductName']).agg({'銷售總額':'sum'})\\\n",
        ".sort_values('銷售總額',ascending=False).head(5)\n",
        "df11['名次']=df11['銷售總額'].rank(ascending=False)\n",
        "df11.style.format('{:,.0f}',subset=['銷售總額','名次'])"
      ],
      "metadata": {
        "colab": {
          "base_uri": "https://localhost:8080/",
          "height": 237
        },
        "id": "JZn-KHLkUWCc",
        "outputId": "24d46fa6-1d20-45ef-8b3c-5a41d25fc26c"
      },
      "execution_count": null,
      "outputs": [
        {
          "output_type": "execute_result",
          "data": {
            "text/plain": [
              "<pandas.io.formats.style.Styler at 0x7b3b013470d0>"
            ],
            "text/html": [
              "<style type=\"text/css\">\n",
              "</style>\n",
              "<table id=\"T_72adb\" class=\"dataframe\">\n",
              "  <thead>\n",
              "    <tr>\n",
              "      <th class=\"blank\" >&nbsp;</th>\n",
              "      <th class=\"blank level0\" >&nbsp;</th>\n",
              "      <th id=\"T_72adb_level0_col0\" class=\"col_heading level0 col0\" >銷售總額</th>\n",
              "      <th id=\"T_72adb_level0_col1\" class=\"col_heading level0 col1\" >名次</th>\n",
              "    </tr>\n",
              "    <tr>\n",
              "      <th class=\"index_name level0\" >ProductID</th>\n",
              "      <th class=\"index_name level1\" >ProductName</th>\n",
              "      <th class=\"blank col0\" >&nbsp;</th>\n",
              "      <th class=\"blank col1\" >&nbsp;</th>\n",
              "    </tr>\n",
              "  </thead>\n",
              "  <tbody>\n",
              "    <tr>\n",
              "      <th id=\"T_72adb_level0_row0\" class=\"row_heading level0 row0\" >38</th>\n",
              "      <th id=\"T_72adb_level1_row0\" class=\"row_heading level1 row0\" >Cte de Blaye</th>\n",
              "      <td id=\"T_72adb_row0_col0\" class=\"data row0 col0\" >149,984</td>\n",
              "      <td id=\"T_72adb_row0_col1\" class=\"data row0 col1\" >1</td>\n",
              "    </tr>\n",
              "    <tr>\n",
              "      <th id=\"T_72adb_level0_row1\" class=\"row_heading level0 row1\" >29</th>\n",
              "      <th id=\"T_72adb_level1_row1\" class=\"row_heading level1 row1\" >Thringer Rostbratwurst</th>\n",
              "      <td id=\"T_72adb_row1_col0\" class=\"data row1 col0\" >87,736</td>\n",
              "      <td id=\"T_72adb_row1_col1\" class=\"data row1 col1\" >2</td>\n",
              "    </tr>\n",
              "    <tr>\n",
              "      <th id=\"T_72adb_level0_row2\" class=\"row_heading level0 row2\" >59</th>\n",
              "      <th id=\"T_72adb_level1_row2\" class=\"row_heading level1 row2\" >Raclette Courdavault</th>\n",
              "      <td id=\"T_72adb_row2_col0\" class=\"data row2 col0\" >76,296</td>\n",
              "      <td id=\"T_72adb_row2_col1\" class=\"data row2 col1\" >3</td>\n",
              "    </tr>\n",
              "    <tr>\n",
              "      <th id=\"T_72adb_level0_row3\" class=\"row_heading level0 row3\" >60</th>\n",
              "      <th id=\"T_72adb_level1_row3\" class=\"row_heading level1 row3\" >Camembert Pierrot</th>\n",
              "      <td id=\"T_72adb_row3_col0\" class=\"data row3 col0\" >50,286</td>\n",
              "      <td id=\"T_72adb_row3_col1\" class=\"data row3 col1\" >4</td>\n",
              "    </tr>\n",
              "    <tr>\n",
              "      <th id=\"T_72adb_level0_row4\" class=\"row_heading level0 row4\" >62</th>\n",
              "      <th id=\"T_72adb_level1_row4\" class=\"row_heading level1 row4\" >Tarte au sucre</th>\n",
              "      <td id=\"T_72adb_row4_col0\" class=\"data row4 col0\" >49,828</td>\n",
              "      <td id=\"T_72adb_row4_col1\" class=\"data row4 col1\" >5</td>\n",
              "    </tr>\n",
              "  </tbody>\n",
              "</table>\n"
            ]
          },
          "metadata": {},
          "execution_count": 103
        }
      ]
    },
    {
      "cell_type": "code",
      "source": [
        "#(2)【產品銷量的弱項分析】：『銷售總額，名次』都沒有小數點，『銷售總額格式是千分位』\n",
        "df11=df4.merge(df6,on='ProductID')\n",
        "df11['銷售總額']=df11['UnitPrice_x']*df11['Quantity']\n",
        "df11=df11.groupby(['ProductID','ProductName']).agg({'銷售總額':'sum'})\\\n",
        ".sort_values('銷售總額',ascending=False)\n",
        "df11['名次']=df11['銷售總額'].rank(ascending=False)\n",
        "df11.tail(5).sort_values('名次',ascending=False)\\\n",
        ".style.format('{:,.0f}',subset=['銷售總額','名次'])\n",
        "\n"
      ],
      "metadata": {
        "colab": {
          "base_uri": "https://localhost:8080/",
          "height": 237
        },
        "id": "o7F7SKewWFv5",
        "outputId": "a430e08a-1f73-4b59-cdad-4410dabc6982"
      },
      "execution_count": null,
      "outputs": [
        {
          "output_type": "execute_result",
          "data": {
            "text/plain": [
              "<pandas.io.formats.style.Styler at 0x7b3af3ba1ae0>"
            ],
            "text/html": [
              "<style type=\"text/css\">\n",
              "</style>\n",
              "<table id=\"T_03d09\" class=\"dataframe\">\n",
              "  <thead>\n",
              "    <tr>\n",
              "      <th class=\"blank\" >&nbsp;</th>\n",
              "      <th class=\"blank level0\" >&nbsp;</th>\n",
              "      <th id=\"T_03d09_level0_col0\" class=\"col_heading level0 col0\" >銷售總額</th>\n",
              "      <th id=\"T_03d09_level0_col1\" class=\"col_heading level0 col1\" >名次</th>\n",
              "    </tr>\n",
              "    <tr>\n",
              "      <th class=\"index_name level0\" >ProductID</th>\n",
              "      <th class=\"index_name level1\" >ProductName</th>\n",
              "      <th class=\"blank col0\" >&nbsp;</th>\n",
              "      <th class=\"blank col1\" >&nbsp;</th>\n",
              "    </tr>\n",
              "  </thead>\n",
              "  <tbody>\n",
              "    <tr>\n",
              "      <th id=\"T_03d09_level0_row0\" class=\"row_heading level0 row0\" >48</th>\n",
              "      <th id=\"T_03d09_level1_row0\" class=\"row_heading level1 row0\" >Chocolade</th>\n",
              "      <td id=\"T_03d09_row0_col0\" class=\"data row0 col0\" >1,543</td>\n",
              "      <td id=\"T_03d09_row0_col1\" class=\"data row0 col1\" >77</td>\n",
              "    </tr>\n",
              "    <tr>\n",
              "      <th id=\"T_03d09_level0_row1\" class=\"row_heading level0 row1\" >33</th>\n",
              "      <th id=\"T_03d09_level1_row1\" class=\"row_heading level1 row1\" >Geitost</th>\n",
              "      <td id=\"T_03d09_row1_col0\" class=\"data row1 col0\" >1,714</td>\n",
              "      <td id=\"T_03d09_row1_col1\" class=\"data row1 col1\" >76</td>\n",
              "    </tr>\n",
              "    <tr>\n",
              "      <th id=\"T_03d09_level0_row2\" class=\"row_heading level0 row2\" >15</th>\n",
              "      <th id=\"T_03d09_level1_row2\" class=\"row_heading level1 row2\" >Genen Shouyu</th>\n",
              "      <td id=\"T_03d09_row2_col0\" class=\"data row2 col0\" >1,814</td>\n",
              "      <td id=\"T_03d09_row2_col1\" class=\"data row2 col1\" >75</td>\n",
              "    </tr>\n",
              "    <tr>\n",
              "      <th id=\"T_03d09_level0_row3\" class=\"row_heading level0 row3\" >67</th>\n",
              "      <th id=\"T_03d09_level1_row3\" class=\"row_heading level1 row3\" >Laughing Lumberjack Lager</th>\n",
              "      <td id=\"T_03d09_row3_col0\" class=\"data row3 col0\" >2,562</td>\n",
              "      <td id=\"T_03d09_row3_col1\" class=\"data row3 col1\" >74</td>\n",
              "    </tr>\n",
              "    <tr>\n",
              "      <th id=\"T_03d09_level0_row4\" class=\"row_heading level0 row4\" >74</th>\n",
              "      <th id=\"T_03d09_level1_row4\" class=\"row_heading level1 row4\" >Longlife Tofu</th>\n",
              "      <td id=\"T_03d09_row4_col0\" class=\"data row4 col0\" >2,566</td>\n",
              "      <td id=\"T_03d09_row4_col1\" class=\"data row4 col1\" >73</td>\n",
              "    </tr>\n",
              "  </tbody>\n",
              "</table>\n"
            ]
          },
          "metadata": {},
          "execution_count": 104
        }
      ]
    },
    {
      "cell_type": "code",
      "source": [
        "#(3)探討【不同產品類別，其產品銷量的強項分析】，列出各類別的前3名,沒有小數點，加上千分位\n",
        "df11=df1.merge(df6,on='CategoryID')\n",
        "df11=df11.merge(df4,on='ProductID')\n",
        "df11['銷售總額']=df11['UnitPrice_y']*df11['Quantity']\n",
        "df12 = df11.groupby(['CategoryID','ProductID','ProductName'])\\\n",
        ".agg({'銷售總額':'sum'})\\\n",
        ".sort_values(['CategoryID','銷售總額'],ascending=[True,False])\n",
        "df12.groupby('CategoryID').head(3)\\\n",
        ".style.format('{:,.0f}',subset=['銷售總額']).set_caption('Table 4-3：列出不同產品類別，其銷售金額的前3名')"
      ],
      "metadata": {
        "colab": {
          "base_uri": "https://localhost:8080/",
          "height": 850
        },
        "id": "_Nv6zz_zUWUU",
        "outputId": "e7e67948-42f9-445c-9019-8b03c5e272ee"
      },
      "execution_count": null,
      "outputs": [
        {
          "output_type": "execute_result",
          "data": {
            "text/plain": [
              "<pandas.io.formats.style.Styler at 0x7b3af357fe80>"
            ],
            "text/html": [
              "<style type=\"text/css\">\n",
              "</style>\n",
              "<table id=\"T_d56d5\" class=\"dataframe\">\n",
              "  <caption>Table 4-3：列出不同產品類別，其銷售金額的前3名</caption>\n",
              "  <thead>\n",
              "    <tr>\n",
              "      <th class=\"blank\" >&nbsp;</th>\n",
              "      <th class=\"blank\" >&nbsp;</th>\n",
              "      <th class=\"blank level0\" >&nbsp;</th>\n",
              "      <th id=\"T_d56d5_level0_col0\" class=\"col_heading level0 col0\" >銷售總額</th>\n",
              "    </tr>\n",
              "    <tr>\n",
              "      <th class=\"index_name level0\" >CategoryID</th>\n",
              "      <th class=\"index_name level1\" >ProductID</th>\n",
              "      <th class=\"index_name level2\" >ProductName</th>\n",
              "      <th class=\"blank col0\" >&nbsp;</th>\n",
              "    </tr>\n",
              "  </thead>\n",
              "  <tbody>\n",
              "    <tr>\n",
              "      <th id=\"T_d56d5_level0_row0\" class=\"row_heading level0 row0\" rowspan=\"3\">1</th>\n",
              "      <th id=\"T_d56d5_level1_row0\" class=\"row_heading level1 row0\" >38</th>\n",
              "      <th id=\"T_d56d5_level2_row0\" class=\"row_heading level2 row0\" >Cte de Blaye</th>\n",
              "      <td id=\"T_d56d5_row0_col0\" class=\"data row0 col0\" >149,984</td>\n",
              "    </tr>\n",
              "    <tr>\n",
              "      <th id=\"T_d56d5_level1_row1\" class=\"row_heading level1 row1\" >43</th>\n",
              "      <th id=\"T_d56d5_level2_row1\" class=\"row_heading level2 row1\" >Ipoh Coffee</th>\n",
              "      <td id=\"T_d56d5_row1_col0\" class=\"data row1 col0\" >25,079</td>\n",
              "    </tr>\n",
              "    <tr>\n",
              "      <th id=\"T_d56d5_level1_row2\" class=\"row_heading level1 row2\" >2</th>\n",
              "      <th id=\"T_d56d5_level2_row2\" class=\"row_heading level2 row2\" >Chang</th>\n",
              "      <td id=\"T_d56d5_row2_col0\" class=\"data row2 col0\" >18,559</td>\n",
              "    </tr>\n",
              "    <tr>\n",
              "      <th id=\"T_d56d5_level0_row3\" class=\"row_heading level0 row3\" rowspan=\"3\">2</th>\n",
              "      <th id=\"T_d56d5_level1_row3\" class=\"row_heading level1 row3\" >63</th>\n",
              "      <th id=\"T_d56d5_level2_row3\" class=\"row_heading level2 row3\" >Vegie-spread</th>\n",
              "      <td id=\"T_d56d5_row3_col0\" class=\"data row3 col0\" >17,696</td>\n",
              "    </tr>\n",
              "    <tr>\n",
              "      <th id=\"T_d56d5_level1_row4\" class=\"row_heading level1 row4\" >61</th>\n",
              "      <th id=\"T_d56d5_level2_row4\" class=\"row_heading level2 row4\" >Sirop d'rable</th>\n",
              "      <td id=\"T_d56d5_row4_col0\" class=\"data row4 col0\" >16,439</td>\n",
              "    </tr>\n",
              "    <tr>\n",
              "      <th id=\"T_d56d5_level1_row5\" class=\"row_heading level1 row5\" >65</th>\n",
              "      <th id=\"T_d56d5_level2_row5\" class=\"row_heading level2 row5\" >Louisiana Fiery Hot Pepper Sauce</th>\n",
              "      <td id=\"T_d56d5_row5_col0\" class=\"data row5 col0\" >14,607</td>\n",
              "    </tr>\n",
              "    <tr>\n",
              "      <th id=\"T_d56d5_level0_row6\" class=\"row_heading level0 row6\" rowspan=\"3\">3</th>\n",
              "      <th id=\"T_d56d5_level1_row6\" class=\"row_heading level1 row6\" >62</th>\n",
              "      <th id=\"T_d56d5_level2_row6\" class=\"row_heading level2 row6\" >Tarte au sucre</th>\n",
              "      <td id=\"T_d56d5_row6_col0\" class=\"data row6 col0\" >49,828</td>\n",
              "    </tr>\n",
              "    <tr>\n",
              "      <th id=\"T_d56d5_level1_row7\" class=\"row_heading level1 row7\" >20</th>\n",
              "      <th id=\"T_d56d5_level2_row7\" class=\"row_heading level2 row7\" >Sir Rodney's Marmalade</th>\n",
              "      <td id=\"T_d56d5_row7_col0\" class=\"data row7 col0\" >23,636</td>\n",
              "    </tr>\n",
              "    <tr>\n",
              "      <th id=\"T_d56d5_level1_row8\" class=\"row_heading level1 row8\" >26</th>\n",
              "      <th id=\"T_d56d5_level2_row8\" class=\"row_heading level2 row8\" >Gumbr Gummibrchen</th>\n",
              "      <td id=\"T_d56d5_row8_col0\" class=\"data row8 col0\" >21,535</td>\n",
              "    </tr>\n",
              "    <tr>\n",
              "      <th id=\"T_d56d5_level0_row9\" class=\"row_heading level0 row9\" rowspan=\"3\">4</th>\n",
              "      <th id=\"T_d56d5_level1_row9\" class=\"row_heading level1 row9\" >59</th>\n",
              "      <th id=\"T_d56d5_level2_row9\" class=\"row_heading level2 row9\" >Raclette Courdavault</th>\n",
              "      <td id=\"T_d56d5_row9_col0\" class=\"data row9 col0\" >76,296</td>\n",
              "    </tr>\n",
              "    <tr>\n",
              "      <th id=\"T_d56d5_level1_row10\" class=\"row_heading level1 row10\" >60</th>\n",
              "      <th id=\"T_d56d5_level2_row10\" class=\"row_heading level2 row10\" >Camembert Pierrot</th>\n",
              "      <td id=\"T_d56d5_row10_col0\" class=\"data row10 col0\" >50,286</td>\n",
              "    </tr>\n",
              "    <tr>\n",
              "      <th id=\"T_d56d5_level1_row11\" class=\"row_heading level1 row11\" >72</th>\n",
              "      <th id=\"T_d56d5_level2_row11\" class=\"row_heading level2 row11\" >Mozzarella di Giovanni</th>\n",
              "      <td id=\"T_d56d5_row11_col0\" class=\"data row11 col0\" >25,739</td>\n",
              "    </tr>\n",
              "    <tr>\n",
              "      <th id=\"T_d56d5_level0_row12\" class=\"row_heading level0 row12\" rowspan=\"3\">5</th>\n",
              "      <th id=\"T_d56d5_level1_row12\" class=\"row_heading level1 row12\" >56</th>\n",
              "      <th id=\"T_d56d5_level2_row12\" class=\"row_heading level2 row12\" >Gnocchi di nonna Alice</th>\n",
              "      <td id=\"T_d56d5_row12_col0\" class=\"data row12 col0\" >45,121</td>\n",
              "    </tr>\n",
              "    <tr>\n",
              "      <th id=\"T_d56d5_level1_row13\" class=\"row_heading level1 row13\" >64</th>\n",
              "      <th id=\"T_d56d5_level2_row13\" class=\"row_heading level2 row13\" >Wimmers gute Semmelkndel</th>\n",
              "      <td id=\"T_d56d5_row13_col0\" class=\"data row13 col0\" >23,009</td>\n",
              "    </tr>\n",
              "    <tr>\n",
              "      <th id=\"T_d56d5_level1_row14\" class=\"row_heading level1 row14\" >42</th>\n",
              "      <th id=\"T_d56d5_level2_row14\" class=\"row_heading level2 row14\" >Singaporean Hokkien Fried Mee</th>\n",
              "      <td id=\"T_d56d5_row14_col0\" class=\"data row14 col0\" >9,332</td>\n",
              "    </tr>\n",
              "    <tr>\n",
              "      <th id=\"T_d56d5_level0_row15\" class=\"row_heading level0 row15\" rowspan=\"3\">6</th>\n",
              "      <th id=\"T_d56d5_level1_row15\" class=\"row_heading level1 row15\" >29</th>\n",
              "      <th id=\"T_d56d5_level2_row15\" class=\"row_heading level2 row15\" >Thringer Rostbratwurst</th>\n",
              "      <td id=\"T_d56d5_row15_col0\" class=\"data row15 col0\" >87,736</td>\n",
              "    </tr>\n",
              "    <tr>\n",
              "      <th id=\"T_d56d5_level1_row16\" class=\"row_heading level1 row16\" >17</th>\n",
              "      <th id=\"T_d56d5_level2_row16\" class=\"row_heading level2 row16\" >Alice Mutton</th>\n",
              "      <td id=\"T_d56d5_row16_col0\" class=\"data row16 col0\" >35,482</td>\n",
              "    </tr>\n",
              "    <tr>\n",
              "      <th id=\"T_d56d5_level1_row17\" class=\"row_heading level1 row17\" >53</th>\n",
              "      <th id=\"T_d56d5_level2_row17\" class=\"row_heading level2 row17\" >Perth Pasties</th>\n",
              "      <td id=\"T_d56d5_row17_col0\" class=\"data row17 col0\" >21,510</td>\n",
              "    </tr>\n",
              "    <tr>\n",
              "      <th id=\"T_d56d5_level0_row18\" class=\"row_heading level0 row18\" rowspan=\"3\">7</th>\n",
              "      <th id=\"T_d56d5_level1_row18\" class=\"row_heading level1 row18\" >51</th>\n",
              "      <th id=\"T_d56d5_level2_row18\" class=\"row_heading level2 row18\" >Manjimup Dried Apples</th>\n",
              "      <td id=\"T_d56d5_row18_col0\" class=\"data row18 col0\" >44,743</td>\n",
              "    </tr>\n",
              "    <tr>\n",
              "      <th id=\"T_d56d5_level1_row19\" class=\"row_heading level1 row19\" >28</th>\n",
              "      <th id=\"T_d56d5_level2_row19\" class=\"row_heading level2 row19\" >Rssle Sauerkraut</th>\n",
              "      <td id=\"T_d56d5_row19_col0\" class=\"data row19 col0\" >26,866</td>\n",
              "    </tr>\n",
              "    <tr>\n",
              "      <th id=\"T_d56d5_level1_row20\" class=\"row_heading level1 row20\" >7</th>\n",
              "      <th id=\"T_d56d5_level2_row20\" class=\"row_heading level2 row20\" >Uncle Bob's Organic Dried Pears</th>\n",
              "      <td id=\"T_d56d5_row20_col0\" class=\"data row20 col0\" >22,464</td>\n",
              "    </tr>\n",
              "    <tr>\n",
              "      <th id=\"T_d56d5_level0_row21\" class=\"row_heading level0 row21\" rowspan=\"3\">8</th>\n",
              "      <th id=\"T_d56d5_level1_row21\" class=\"row_heading level1 row21\" >18</th>\n",
              "      <th id=\"T_d56d5_level2_row21\" class=\"row_heading level2 row21\" >Carnarvon Tigers</th>\n",
              "      <td id=\"T_d56d5_row21_col0\" class=\"data row21 col0\" >31,988</td>\n",
              "    </tr>\n",
              "    <tr>\n",
              "      <th id=\"T_d56d5_level1_row22\" class=\"row_heading level1 row22\" >10</th>\n",
              "      <th id=\"T_d56d5_level2_row22\" class=\"row_heading level2 row22\" >Ikura</th>\n",
              "      <td id=\"T_d56d5_row22_col0\" class=\"data row22 col0\" >22,140</td>\n",
              "    </tr>\n",
              "    <tr>\n",
              "      <th id=\"T_d56d5_level1_row23\" class=\"row_heading level1 row23\" >40</th>\n",
              "      <th id=\"T_d56d5_level2_row23\" class=\"row_heading level2 row23\" >Boston Crab Meat</th>\n",
              "      <td id=\"T_d56d5_row23_col0\" class=\"data row23 col0\" >19,048</td>\n",
              "    </tr>\n",
              "  </tbody>\n",
              "</table>\n"
            ]
          },
          "metadata": {},
          "execution_count": 105
        }
      ]
    },
    {
      "cell_type": "markdown",
      "source": [
        "---\n",
        "# **5.第5個分析【活躍客戶分析】：找出A企業至少下過20個訂單的客戶**\n",
        "\n",
        "#目的：找出A公司的活躍客戶(不斷重複下單)\n",
        "\n",
        "讀取自己雲端的檔案"
      ],
      "metadata": {
        "id": "t9rpkUnBMvZv"
      }
    },
    {
      "cell_type": "code",
      "source": [
        "#(1)分群統計：至少下過20個訂單的客戶（加上表格標題）\n",
        "df11=df2.merge(df5,on='CustomerID')\n",
        "df11=df11.groupby(['CustomerID','CompanyName']).agg({'OrderID':'count'})\\\n",
        ".reset_index()\\\n",
        ".rename(columns={'OrderID':'下單次數'})\n",
        "a1=df11['下單次數']>=20\n",
        "df11[a1].sort_values('下單次數',ascending=False)\\\n",
        ".style.set_caption('表5：至少下過20個訂單的客戶名單')\n"
      ],
      "metadata": {
        "id": "fho_6SYTM3Yg",
        "colab": {
          "base_uri": "https://localhost:8080/",
          "height": 160
        },
        "outputId": "f74602f6-4cd5-4eef-e3b9-052af960cf51"
      },
      "execution_count": null,
      "outputs": [
        {
          "output_type": "execute_result",
          "data": {
            "text/plain": [
              "<pandas.io.formats.style.Styler at 0x7b3af356ac20>"
            ],
            "text/html": [
              "<style type=\"text/css\">\n",
              "</style>\n",
              "<table id=\"T_575f0\" class=\"dataframe\">\n",
              "  <caption>表5：至少下過20個訂單的客戶名單</caption>\n",
              "  <thead>\n",
              "    <tr>\n",
              "      <th class=\"blank level0\" >&nbsp;</th>\n",
              "      <th id=\"T_575f0_level0_col0\" class=\"col_heading level0 col0\" >CustomerID</th>\n",
              "      <th id=\"T_575f0_level0_col1\" class=\"col_heading level0 col1\" >CompanyName</th>\n",
              "      <th id=\"T_575f0_level0_col2\" class=\"col_heading level0 col2\" >下單次數</th>\n",
              "    </tr>\n",
              "  </thead>\n",
              "  <tbody>\n",
              "    <tr>\n",
              "      <th id=\"T_575f0_level0_row0\" class=\"row_heading level0 row0\" >68</th>\n",
              "      <td id=\"T_575f0_row0_col0\" class=\"data row0 col0\" >SAVEA</td>\n",
              "      <td id=\"T_575f0_row0_col1\" class=\"data row0 col1\" >Save-a-lot Markets</td>\n",
              "      <td id=\"T_575f0_row0_col2\" class=\"data row0 col2\" >31</td>\n",
              "    </tr>\n",
              "    <tr>\n",
              "      <th id=\"T_575f0_level0_row1\" class=\"row_heading level0 row1\" >19</th>\n",
              "      <td id=\"T_575f0_row1_col0\" class=\"data row1 col0\" >ERNSH</td>\n",
              "      <td id=\"T_575f0_row1_col1\" class=\"data row1 col1\" >Ernst Handel</td>\n",
              "      <td id=\"T_575f0_row1_col2\" class=\"data row1 col2\" >30</td>\n",
              "    </tr>\n",
              "    <tr>\n",
              "      <th id=\"T_575f0_level0_row2\" class=\"row_heading level0 row2\" >60</th>\n",
              "      <td id=\"T_575f0_row2_col0\" class=\"data row2 col0\" >QUICK</td>\n",
              "      <td id=\"T_575f0_row2_col1\" class=\"data row2 col1\" >QUICK-Stop</td>\n",
              "      <td id=\"T_575f0_row2_col2\" class=\"data row2 col2\" >28</td>\n",
              "    </tr>\n",
              "  </tbody>\n",
              "</table>\n"
            ]
          },
          "metadata": {},
          "execution_count": 106
        }
      ]
    },
    {
      "cell_type": "markdown",
      "source": [
        "---\n",
        "# **6.第6個分析【活躍客戶分析】：找出至少向A公司購買過50種不同產品的客戶資料**\n",
        "#目的：找出A公司的活躍客戶，或喜歡本公司產品的客戶（購買多種產品）\n",
        "\n",
        "讀取自己雲端的檔案"
      ],
      "metadata": {
        "id": "ydnCtHJ5LegE"
      }
    },
    {
      "cell_type": "code",
      "source": [
        "#(6-1)至少向A公司購買過50個產品的客戶資料\n",
        "df11=df2.merge(df5,on='CustomerID')\n",
        "df11=df11.merge(df4,on='OrderID')\n",
        "df11=df11.groupby(['CustomerID','CompanyName']).agg({'Quantity':'count'})\\\n",
        ".reset_index()\\\n",
        ".rename(columns={'Quantity':'購買產品數量'})\n",
        "a1=df11['購買產品數量']>=50\n",
        "df11[a1].sort_values('購買產品數量',ascending=False)\\\n",
        ".style.set_caption('表6-1：至少購買過50個產品的客戶名單')"
      ],
      "metadata": {
        "id": "tI3oU6xAMJKU",
        "colab": {
          "base_uri": "https://localhost:8080/",
          "height": 255
        },
        "outputId": "2594afbe-c494-4f6e-b744-d39c4128d38f"
      },
      "execution_count": null,
      "outputs": [
        {
          "output_type": "execute_result",
          "data": {
            "text/plain": [
              "<pandas.io.formats.style.Styler at 0x7b3af3aebbe0>"
            ],
            "text/html": [
              "<style type=\"text/css\">\n",
              "</style>\n",
              "<table id=\"T_77885\" class=\"dataframe\">\n",
              "  <caption>表6-1：至少購買過50個產品的客戶名單</caption>\n",
              "  <thead>\n",
              "    <tr>\n",
              "      <th class=\"blank level0\" >&nbsp;</th>\n",
              "      <th id=\"T_77885_level0_col0\" class=\"col_heading level0 col0\" >CustomerID</th>\n",
              "      <th id=\"T_77885_level0_col1\" class=\"col_heading level0 col1\" >CompanyName</th>\n",
              "      <th id=\"T_77885_level0_col2\" class=\"col_heading level0 col2\" >購買產品數量</th>\n",
              "    </tr>\n",
              "  </thead>\n",
              "  <tbody>\n",
              "    <tr>\n",
              "      <th id=\"T_77885_level0_row0\" class=\"row_heading level0 row0\" >68</th>\n",
              "      <td id=\"T_77885_row0_col0\" class=\"data row0 col0\" >SAVEA</td>\n",
              "      <td id=\"T_77885_row0_col1\" class=\"data row0 col1\" >Save-a-lot Markets</td>\n",
              "      <td id=\"T_77885_row0_col2\" class=\"data row0 col2\" >116</td>\n",
              "    </tr>\n",
              "    <tr>\n",
              "      <th id=\"T_77885_level0_row1\" class=\"row_heading level0 row1\" >19</th>\n",
              "      <td id=\"T_77885_row1_col0\" class=\"data row1 col0\" >ERNSH</td>\n",
              "      <td id=\"T_77885_row1_col1\" class=\"data row1 col1\" >Ernst Handel</td>\n",
              "      <td id=\"T_77885_row1_col2\" class=\"data row1 col2\" >102</td>\n",
              "    </tr>\n",
              "    <tr>\n",
              "      <th id=\"T_77885_level0_row2\" class=\"row_heading level0 row2\" >60</th>\n",
              "      <td id=\"T_77885_row2_col0\" class=\"data row2 col0\" >QUICK</td>\n",
              "      <td id=\"T_77885_row2_col1\" class=\"data row2 col1\" >QUICK-Stop</td>\n",
              "      <td id=\"T_77885_row2_col2\" class=\"data row2 col2\" >86</td>\n",
              "    </tr>\n",
              "    <tr>\n",
              "      <th id=\"T_77885_level0_row3\" class=\"row_heading level0 row3\" >62</th>\n",
              "      <td id=\"T_77885_row3_col0\" class=\"data row3 col0\" >RATTC</td>\n",
              "      <td id=\"T_77885_row3_col1\" class=\"data row3 col1\" >Rattlesnake Canyon Grocery</td>\n",
              "      <td id=\"T_77885_row3_col2\" class=\"data row3 col2\" >71</td>\n",
              "    </tr>\n",
              "    <tr>\n",
              "      <th id=\"T_77885_level0_row4\" class=\"row_heading level0 row4\" >35</th>\n",
              "      <td id=\"T_77885_row4_col0\" class=\"data row4 col0\" >HUNGO</td>\n",
              "      <td id=\"T_77885_row4_col1\" class=\"data row4 col1\" >Hungry Owl All-Night Grocers</td>\n",
              "      <td id=\"T_77885_row4_col2\" class=\"data row4 col2\" >55</td>\n",
              "    </tr>\n",
              "    <tr>\n",
              "      <th id=\"T_77885_level0_row5\" class=\"row_heading level0 row5\" >4</th>\n",
              "      <td id=\"T_77885_row5_col0\" class=\"data row5 col0\" >BERGS</td>\n",
              "      <td id=\"T_77885_row5_col1\" class=\"data row5 col1\" >Berglunds snabbkp</td>\n",
              "      <td id=\"T_77885_row5_col2\" class=\"data row5 col2\" >52</td>\n",
              "    </tr>\n",
              "  </tbody>\n",
              "</table>\n"
            ]
          },
          "metadata": {},
          "execution_count": 107
        }
      ]
    },
    {
      "cell_type": "code",
      "source": [
        "#(6-2)至少向A公司購買過50種不同產品的客戶資料\n",
        "df11=df2.merge(df5,on='CustomerID')\n",
        "df11=df11.merge(df4,on='OrderID')\n",
        "df11=df11.groupby(['CustomerID','CompanyName']).agg({'ProductID':'nunique'})\\\n",
        ".reset_index()\\\n",
        ".rename(columns={'ProductID':'購買產品數量'})\n",
        "a1=df11['購買產品數量']>=50\n",
        "df11[a1].sort_values('購買產品數量',ascending=False)\\\n",
        ".style.set_caption('表6-2：至少購買過不同50個產品的客戶名單')"
      ],
      "metadata": {
        "id": "ghzormErL9hh",
        "colab": {
          "base_uri": "https://localhost:8080/",
          "height": 129
        },
        "outputId": "2c0625ca-44ae-4da9-fd93-f8b305ddefb0"
      },
      "execution_count": null,
      "outputs": [
        {
          "output_type": "execute_result",
          "data": {
            "text/plain": [
              "<pandas.io.formats.style.Styler at 0x7b3b01345c30>"
            ],
            "text/html": [
              "<style type=\"text/css\">\n",
              "</style>\n",
              "<table id=\"T_e4546\" class=\"dataframe\">\n",
              "  <caption>表6-2：至少購買過不同50個產品的客戶名單</caption>\n",
              "  <thead>\n",
              "    <tr>\n",
              "      <th class=\"blank level0\" >&nbsp;</th>\n",
              "      <th id=\"T_e4546_level0_col0\" class=\"col_heading level0 col0\" >CustomerID</th>\n",
              "      <th id=\"T_e4546_level0_col1\" class=\"col_heading level0 col1\" >CompanyName</th>\n",
              "      <th id=\"T_e4546_level0_col2\" class=\"col_heading level0 col2\" >購買產品數量</th>\n",
              "    </tr>\n",
              "  </thead>\n",
              "  <tbody>\n",
              "    <tr>\n",
              "      <th id=\"T_e4546_level0_row0\" class=\"row_heading level0 row0\" >19</th>\n",
              "      <td id=\"T_e4546_row0_col0\" class=\"data row0 col0\" >ERNSH</td>\n",
              "      <td id=\"T_e4546_row0_col1\" class=\"data row0 col1\" >Ernst Handel</td>\n",
              "      <td id=\"T_e4546_row0_col2\" class=\"data row0 col2\" >56</td>\n",
              "    </tr>\n",
              "    <tr>\n",
              "      <th id=\"T_e4546_level0_row1\" class=\"row_heading level0 row1\" >68</th>\n",
              "      <td id=\"T_e4546_row1_col0\" class=\"data row1 col0\" >SAVEA</td>\n",
              "      <td id=\"T_e4546_row1_col1\" class=\"data row1 col1\" >Save-a-lot Markets</td>\n",
              "      <td id=\"T_e4546_row1_col2\" class=\"data row1 col2\" >53</td>\n",
              "    </tr>\n",
              "  </tbody>\n",
              "</table>\n"
            ]
          },
          "metadata": {},
          "execution_count": 108
        }
      ]
    },
    {
      "cell_type": "markdown",
      "source": [
        "---\n",
        "# **7.第7個分析【產品銷量程度分級】：根據訂單數量為產品來分類，新增欄位：**\n",
        "#(1)目的：將A公司產品，進行分類【銷量差，銷量普通，銷量好】\n",
        "若產品的訂單數量<10，則標示『銷量差』\n",
        "\n",
        "若產品的訂單數量<=20 而且>=10，則標示『銷量普通』\n",
        "\n",
        "若產品的訂單數量>20，則標示『銷量好』\n",
        "\n",
        "---\n",
        "#(2)【產品銷量等級】==>計算『產品』的『訂單數量』\n",
        "\n",
        "讀取自己雲端的檔案"
      ],
      "metadata": {
        "id": "0943TsB4KPKw"
      }
    },
    {
      "cell_type": "code",
      "source": [
        "#(4)根據訂單數量為產品來分類，新增欄位：【產品銷量等級】\n",
        "df11=df4.merge(df6,on='ProductID')\n",
        "df11=df11.groupby(['ProductID','ProductName'])\\\n",
        ".agg({'Quantity':'count'})\\\n",
        ".rename(columns={'Quantity':'銷量'})\\\n",
        ".reset_index()\n",
        "df11['產品銷量等級']=df11['銷量'].apply(lambda x: '銷量差' if x<10 else ('銷量普通' if 10<=x<=20 else '銷量好'))\n",
        "df11"
      ],
      "metadata": {
        "id": "Djs45QQUOGwi",
        "colab": {
          "base_uri": "https://localhost:8080/",
          "height": 423
        },
        "outputId": "0f4962c9-4e12-4d2a-f012-180e9df75917"
      },
      "execution_count": null,
      "outputs": [
        {
          "output_type": "execute_result",
          "data": {
            "text/plain": [
              "    ProductID                    ProductName  銷量 產品銷量等級\n",
              "0           1                           Chai  38    銷量好\n",
              "1           2                          Chang  44    銷量好\n",
              "2           3                  Aniseed Syrup  12   銷量普通\n",
              "3           4   Chef Anton's Cajun Seasoning  20   銷量普通\n",
              "4           5         Chef Anton's Gumbo Mix  10   銷量普通\n",
              "..        ...                            ...  ..    ...\n",
              "72         73                      Rd Kaviar  14   銷量普通\n",
              "73         74                  Longlife Tofu  13   銷量普通\n",
              "74         75             Rhnbru Klosterbier  46    銷量好\n",
              "75         76                     Lakkalikri  39    銷量好\n",
              "76         77  Original Frankfurter grne Soe  38    銷量好\n",
              "\n",
              "[77 rows x 4 columns]"
            ],
            "text/html": [
              "\n",
              "  <div id=\"df-f1f70bc5-89db-4eb7-a14f-3ce022f01c18\" class=\"colab-df-container\">\n",
              "    <div>\n",
              "<style scoped>\n",
              "    .dataframe tbody tr th:only-of-type {\n",
              "        vertical-align: middle;\n",
              "    }\n",
              "\n",
              "    .dataframe tbody tr th {\n",
              "        vertical-align: top;\n",
              "    }\n",
              "\n",
              "    .dataframe thead th {\n",
              "        text-align: right;\n",
              "    }\n",
              "</style>\n",
              "<table border=\"1\" class=\"dataframe\">\n",
              "  <thead>\n",
              "    <tr style=\"text-align: right;\">\n",
              "      <th></th>\n",
              "      <th>ProductID</th>\n",
              "      <th>ProductName</th>\n",
              "      <th>銷量</th>\n",
              "      <th>產品銷量等級</th>\n",
              "    </tr>\n",
              "  </thead>\n",
              "  <tbody>\n",
              "    <tr>\n",
              "      <th>0</th>\n",
              "      <td>1</td>\n",
              "      <td>Chai</td>\n",
              "      <td>38</td>\n",
              "      <td>銷量好</td>\n",
              "    </tr>\n",
              "    <tr>\n",
              "      <th>1</th>\n",
              "      <td>2</td>\n",
              "      <td>Chang</td>\n",
              "      <td>44</td>\n",
              "      <td>銷量好</td>\n",
              "    </tr>\n",
              "    <tr>\n",
              "      <th>2</th>\n",
              "      <td>3</td>\n",
              "      <td>Aniseed Syrup</td>\n",
              "      <td>12</td>\n",
              "      <td>銷量普通</td>\n",
              "    </tr>\n",
              "    <tr>\n",
              "      <th>3</th>\n",
              "      <td>4</td>\n",
              "      <td>Chef Anton's Cajun Seasoning</td>\n",
              "      <td>20</td>\n",
              "      <td>銷量普通</td>\n",
              "    </tr>\n",
              "    <tr>\n",
              "      <th>4</th>\n",
              "      <td>5</td>\n",
              "      <td>Chef Anton's Gumbo Mix</td>\n",
              "      <td>10</td>\n",
              "      <td>銷量普通</td>\n",
              "    </tr>\n",
              "    <tr>\n",
              "      <th>...</th>\n",
              "      <td>...</td>\n",
              "      <td>...</td>\n",
              "      <td>...</td>\n",
              "      <td>...</td>\n",
              "    </tr>\n",
              "    <tr>\n",
              "      <th>72</th>\n",
              "      <td>73</td>\n",
              "      <td>Rd Kaviar</td>\n",
              "      <td>14</td>\n",
              "      <td>銷量普通</td>\n",
              "    </tr>\n",
              "    <tr>\n",
              "      <th>73</th>\n",
              "      <td>74</td>\n",
              "      <td>Longlife Tofu</td>\n",
              "      <td>13</td>\n",
              "      <td>銷量普通</td>\n",
              "    </tr>\n",
              "    <tr>\n",
              "      <th>74</th>\n",
              "      <td>75</td>\n",
              "      <td>Rhnbru Klosterbier</td>\n",
              "      <td>46</td>\n",
              "      <td>銷量好</td>\n",
              "    </tr>\n",
              "    <tr>\n",
              "      <th>75</th>\n",
              "      <td>76</td>\n",
              "      <td>Lakkalikri</td>\n",
              "      <td>39</td>\n",
              "      <td>銷量好</td>\n",
              "    </tr>\n",
              "    <tr>\n",
              "      <th>76</th>\n",
              "      <td>77</td>\n",
              "      <td>Original Frankfurter grne Soe</td>\n",
              "      <td>38</td>\n",
              "      <td>銷量好</td>\n",
              "    </tr>\n",
              "  </tbody>\n",
              "</table>\n",
              "<p>77 rows × 4 columns</p>\n",
              "</div>\n",
              "    <div class=\"colab-df-buttons\">\n",
              "\n",
              "  <div class=\"colab-df-container\">\n",
              "    <button class=\"colab-df-convert\" onclick=\"convertToInteractive('df-f1f70bc5-89db-4eb7-a14f-3ce022f01c18')\"\n",
              "            title=\"Convert this dataframe to an interactive table.\"\n",
              "            style=\"display:none;\">\n",
              "\n",
              "  <svg xmlns=\"http://www.w3.org/2000/svg\" height=\"24px\" viewBox=\"0 -960 960 960\">\n",
              "    <path d=\"M120-120v-720h720v720H120Zm60-500h600v-160H180v160Zm220 220h160v-160H400v160Zm0 220h160v-160H400v160ZM180-400h160v-160H180v160Zm440 0h160v-160H620v160ZM180-180h160v-160H180v160Zm440 0h160v-160H620v160Z\"/>\n",
              "  </svg>\n",
              "    </button>\n",
              "\n",
              "  <style>\n",
              "    .colab-df-container {\n",
              "      display:flex;\n",
              "      gap: 12px;\n",
              "    }\n",
              "\n",
              "    .colab-df-convert {\n",
              "      background-color: #E8F0FE;\n",
              "      border: none;\n",
              "      border-radius: 50%;\n",
              "      cursor: pointer;\n",
              "      display: none;\n",
              "      fill: #1967D2;\n",
              "      height: 32px;\n",
              "      padding: 0 0 0 0;\n",
              "      width: 32px;\n",
              "    }\n",
              "\n",
              "    .colab-df-convert:hover {\n",
              "      background-color: #E2EBFA;\n",
              "      box-shadow: 0px 1px 2px rgba(60, 64, 67, 0.3), 0px 1px 3px 1px rgba(60, 64, 67, 0.15);\n",
              "      fill: #174EA6;\n",
              "    }\n",
              "\n",
              "    .colab-df-buttons div {\n",
              "      margin-bottom: 4px;\n",
              "    }\n",
              "\n",
              "    [theme=dark] .colab-df-convert {\n",
              "      background-color: #3B4455;\n",
              "      fill: #D2E3FC;\n",
              "    }\n",
              "\n",
              "    [theme=dark] .colab-df-convert:hover {\n",
              "      background-color: #434B5C;\n",
              "      box-shadow: 0px 1px 3px 1px rgba(0, 0, 0, 0.15);\n",
              "      filter: drop-shadow(0px 1px 2px rgba(0, 0, 0, 0.3));\n",
              "      fill: #FFFFFF;\n",
              "    }\n",
              "  </style>\n",
              "\n",
              "    <script>\n",
              "      const buttonEl =\n",
              "        document.querySelector('#df-f1f70bc5-89db-4eb7-a14f-3ce022f01c18 button.colab-df-convert');\n",
              "      buttonEl.style.display =\n",
              "        google.colab.kernel.accessAllowed ? 'block' : 'none';\n",
              "\n",
              "      async function convertToInteractive(key) {\n",
              "        const element = document.querySelector('#df-f1f70bc5-89db-4eb7-a14f-3ce022f01c18');\n",
              "        const dataTable =\n",
              "          await google.colab.kernel.invokeFunction('convertToInteractive',\n",
              "                                                    [key], {});\n",
              "        if (!dataTable) return;\n",
              "\n",
              "        const docLinkHtml = 'Like what you see? Visit the ' +\n",
              "          '<a target=\"_blank\" href=https://colab.research.google.com/notebooks/data_table.ipynb>data table notebook</a>'\n",
              "          + ' to learn more about interactive tables.';\n",
              "        element.innerHTML = '';\n",
              "        dataTable['output_type'] = 'display_data';\n",
              "        await google.colab.output.renderOutput(dataTable, element);\n",
              "        const docLink = document.createElement('div');\n",
              "        docLink.innerHTML = docLinkHtml;\n",
              "        element.appendChild(docLink);\n",
              "      }\n",
              "    </script>\n",
              "  </div>\n",
              "\n",
              "\n",
              "<div id=\"df-c309273b-d2be-421e-b8a4-c9c38420c262\">\n",
              "  <button class=\"colab-df-quickchart\" onclick=\"quickchart('df-c309273b-d2be-421e-b8a4-c9c38420c262')\"\n",
              "            title=\"Suggest charts\"\n",
              "            style=\"display:none;\">\n",
              "\n",
              "<svg xmlns=\"http://www.w3.org/2000/svg\" height=\"24px\"viewBox=\"0 0 24 24\"\n",
              "     width=\"24px\">\n",
              "    <g>\n",
              "        <path d=\"M19 3H5c-1.1 0-2 .9-2 2v14c0 1.1.9 2 2 2h14c1.1 0 2-.9 2-2V5c0-1.1-.9-2-2-2zM9 17H7v-7h2v7zm4 0h-2V7h2v10zm4 0h-2v-4h2v4z\"/>\n",
              "    </g>\n",
              "</svg>\n",
              "  </button>\n",
              "\n",
              "<style>\n",
              "  .colab-df-quickchart {\n",
              "      --bg-color: #E8F0FE;\n",
              "      --fill-color: #1967D2;\n",
              "      --hover-bg-color: #E2EBFA;\n",
              "      --hover-fill-color: #174EA6;\n",
              "      --disabled-fill-color: #AAA;\n",
              "      --disabled-bg-color: #DDD;\n",
              "  }\n",
              "\n",
              "  [theme=dark] .colab-df-quickchart {\n",
              "      --bg-color: #3B4455;\n",
              "      --fill-color: #D2E3FC;\n",
              "      --hover-bg-color: #434B5C;\n",
              "      --hover-fill-color: #FFFFFF;\n",
              "      --disabled-bg-color: #3B4455;\n",
              "      --disabled-fill-color: #666;\n",
              "  }\n",
              "\n",
              "  .colab-df-quickchart {\n",
              "    background-color: var(--bg-color);\n",
              "    border: none;\n",
              "    border-radius: 50%;\n",
              "    cursor: pointer;\n",
              "    display: none;\n",
              "    fill: var(--fill-color);\n",
              "    height: 32px;\n",
              "    padding: 0;\n",
              "    width: 32px;\n",
              "  }\n",
              "\n",
              "  .colab-df-quickchart:hover {\n",
              "    background-color: var(--hover-bg-color);\n",
              "    box-shadow: 0 1px 2px rgba(60, 64, 67, 0.3), 0 1px 3px 1px rgba(60, 64, 67, 0.15);\n",
              "    fill: var(--button-hover-fill-color);\n",
              "  }\n",
              "\n",
              "  .colab-df-quickchart-complete:disabled,\n",
              "  .colab-df-quickchart-complete:disabled:hover {\n",
              "    background-color: var(--disabled-bg-color);\n",
              "    fill: var(--disabled-fill-color);\n",
              "    box-shadow: none;\n",
              "  }\n",
              "\n",
              "  .colab-df-spinner {\n",
              "    border: 2px solid var(--fill-color);\n",
              "    border-color: transparent;\n",
              "    border-bottom-color: var(--fill-color);\n",
              "    animation:\n",
              "      spin 1s steps(1) infinite;\n",
              "  }\n",
              "\n",
              "  @keyframes spin {\n",
              "    0% {\n",
              "      border-color: transparent;\n",
              "      border-bottom-color: var(--fill-color);\n",
              "      border-left-color: var(--fill-color);\n",
              "    }\n",
              "    20% {\n",
              "      border-color: transparent;\n",
              "      border-left-color: var(--fill-color);\n",
              "      border-top-color: var(--fill-color);\n",
              "    }\n",
              "    30% {\n",
              "      border-color: transparent;\n",
              "      border-left-color: var(--fill-color);\n",
              "      border-top-color: var(--fill-color);\n",
              "      border-right-color: var(--fill-color);\n",
              "    }\n",
              "    40% {\n",
              "      border-color: transparent;\n",
              "      border-right-color: var(--fill-color);\n",
              "      border-top-color: var(--fill-color);\n",
              "    }\n",
              "    60% {\n",
              "      border-color: transparent;\n",
              "      border-right-color: var(--fill-color);\n",
              "    }\n",
              "    80% {\n",
              "      border-color: transparent;\n",
              "      border-right-color: var(--fill-color);\n",
              "      border-bottom-color: var(--fill-color);\n",
              "    }\n",
              "    90% {\n",
              "      border-color: transparent;\n",
              "      border-bottom-color: var(--fill-color);\n",
              "    }\n",
              "  }\n",
              "</style>\n",
              "\n",
              "  <script>\n",
              "    async function quickchart(key) {\n",
              "      const quickchartButtonEl =\n",
              "        document.querySelector('#' + key + ' button');\n",
              "      quickchartButtonEl.disabled = true;  // To prevent multiple clicks.\n",
              "      quickchartButtonEl.classList.add('colab-df-spinner');\n",
              "      try {\n",
              "        const charts = await google.colab.kernel.invokeFunction(\n",
              "            'suggestCharts', [key], {});\n",
              "      } catch (error) {\n",
              "        console.error('Error during call to suggestCharts:', error);\n",
              "      }\n",
              "      quickchartButtonEl.classList.remove('colab-df-spinner');\n",
              "      quickchartButtonEl.classList.add('colab-df-quickchart-complete');\n",
              "    }\n",
              "    (() => {\n",
              "      let quickchartButtonEl =\n",
              "        document.querySelector('#df-c309273b-d2be-421e-b8a4-c9c38420c262 button');\n",
              "      quickchartButtonEl.style.display =\n",
              "        google.colab.kernel.accessAllowed ? 'block' : 'none';\n",
              "    })();\n",
              "  </script>\n",
              "</div>\n",
              "\n",
              "  <div id=\"id_280c590e-b4a0-4dc9-a31b-692a4db9a06a\">\n",
              "    <style>\n",
              "      .colab-df-generate {\n",
              "        background-color: #E8F0FE;\n",
              "        border: none;\n",
              "        border-radius: 50%;\n",
              "        cursor: pointer;\n",
              "        display: none;\n",
              "        fill: #1967D2;\n",
              "        height: 32px;\n",
              "        padding: 0 0 0 0;\n",
              "        width: 32px;\n",
              "      }\n",
              "\n",
              "      .colab-df-generate:hover {\n",
              "        background-color: #E2EBFA;\n",
              "        box-shadow: 0px 1px 2px rgba(60, 64, 67, 0.3), 0px 1px 3px 1px rgba(60, 64, 67, 0.15);\n",
              "        fill: #174EA6;\n",
              "      }\n",
              "\n",
              "      [theme=dark] .colab-df-generate {\n",
              "        background-color: #3B4455;\n",
              "        fill: #D2E3FC;\n",
              "      }\n",
              "\n",
              "      [theme=dark] .colab-df-generate:hover {\n",
              "        background-color: #434B5C;\n",
              "        box-shadow: 0px 1px 3px 1px rgba(0, 0, 0, 0.15);\n",
              "        filter: drop-shadow(0px 1px 2px rgba(0, 0, 0, 0.3));\n",
              "        fill: #FFFFFF;\n",
              "      }\n",
              "    </style>\n",
              "    <button class=\"colab-df-generate\" onclick=\"generateWithVariable('df11')\"\n",
              "            title=\"Generate code using this dataframe.\"\n",
              "            style=\"display:none;\">\n",
              "\n",
              "  <svg xmlns=\"http://www.w3.org/2000/svg\" height=\"24px\"viewBox=\"0 0 24 24\"\n",
              "       width=\"24px\">\n",
              "    <path d=\"M7,19H8.4L18.45,9,17,7.55,7,17.6ZM5,21V16.75L18.45,3.32a2,2,0,0,1,2.83,0l1.4,1.43a1.91,1.91,0,0,1,.58,1.4,1.91,1.91,0,0,1-.58,1.4L9.25,21ZM18.45,9,17,7.55Zm-12,3A5.31,5.31,0,0,0,4.9,8.1,5.31,5.31,0,0,0,1,6.5,5.31,5.31,0,0,0,4.9,4.9,5.31,5.31,0,0,0,6.5,1,5.31,5.31,0,0,0,8.1,4.9,5.31,5.31,0,0,0,12,6.5,5.46,5.46,0,0,0,6.5,12Z\"/>\n",
              "  </svg>\n",
              "    </button>\n",
              "    <script>\n",
              "      (() => {\n",
              "      const buttonEl =\n",
              "        document.querySelector('#id_280c590e-b4a0-4dc9-a31b-692a4db9a06a button.colab-df-generate');\n",
              "      buttonEl.style.display =\n",
              "        google.colab.kernel.accessAllowed ? 'block' : 'none';\n",
              "\n",
              "      buttonEl.onclick = () => {\n",
              "        google.colab.notebook.generateWithVariable('df11');\n",
              "      }\n",
              "      })();\n",
              "    </script>\n",
              "  </div>\n",
              "\n",
              "    </div>\n",
              "  </div>\n"
            ],
            "application/vnd.google.colaboratory.intrinsic+json": {
              "type": "dataframe",
              "variable_name": "df11",
              "summary": "{\n  \"name\": \"df11\",\n  \"rows\": 77,\n  \"fields\": [\n    {\n      \"column\": \"ProductID\",\n      \"properties\": {\n        \"dtype\": \"number\",\n        \"std\": 22,\n        \"min\": 1,\n        \"max\": 77,\n        \"num_unique_values\": 77,\n        \"samples\": [\n          5,\n          36,\n          11\n        ],\n        \"semantic_type\": \"\",\n        \"description\": \"\"\n      }\n    },\n    {\n      \"column\": \"ProductName\",\n      \"properties\": {\n        \"dtype\": \"string\",\n        \"num_unique_values\": 77,\n        \"samples\": [\n          \"Chef Anton's Gumbo Mix\",\n          \"Inlagd Sill\",\n          \"Queso Cabrales\"\n        ],\n        \"semantic_type\": \"\",\n        \"description\": \"\"\n      }\n    },\n    {\n      \"column\": \"\\u92b7\\u91cf\",\n      \"properties\": {\n        \"dtype\": \"number\",\n        \"std\": 12,\n        \"min\": 5,\n        \"max\": 54,\n        \"num_unique_values\": 41,\n        \"samples\": [\n          36,\n          43,\n          33\n        ],\n        \"semantic_type\": \"\",\n        \"description\": \"\"\n      }\n    },\n    {\n      \"column\": \"\\u7522\\u54c1\\u92b7\\u91cf\\u7b49\\u7d1a\",\n      \"properties\": {\n        \"dtype\": \"category\",\n        \"num_unique_values\": 3,\n        \"samples\": [\n          \"\\u92b7\\u91cf\\u597d\",\n          \"\\u92b7\\u91cf\\u666e\\u901a\",\n          \"\\u92b7\\u91cf\\u5dee\"\n        ],\n        \"semantic_type\": \"\",\n        \"description\": \"\"\n      }\n    }\n  ]\n}"
            }
          },
          "metadata": {},
          "execution_count": 109
        }
      ]
    },
    {
      "cell_type": "markdown",
      "source": [
        "---\n",
        "# **8.第8個分析【潛在市場分析】：找出尚未購買Beverages類別產品的客戶名單**\n",
        "#本公司銷售佔比最大的類別是Beverages飲料，\n",
        "#請找出尚未購買Beverages類別產品的客戶\n",
        "#請列出這些客戶的ID和公司名稱。\n",
        "\n",
        "讀取自己雲端的檔案"
      ],
      "metadata": {
        "id": "EDkG8X7VOdBf"
      }
    },
    {
      "cell_type": "code",
      "source": [
        "df11 = df2.merge(df5, how='left',on='CustomerID')\n",
        "df11 = df11.merge(df4,how='left', on='OrderID')\n",
        "df11 = df11.merge(df6, how='left',on='ProductID')\n",
        "df11 = df11.merge(df1,how='outer',on='CategoryID')\n",
        "a1=df11['CategoryName']=='Beverages'\n",
        "df11=df11[a1]\n",
        "df11=df11.groupby(['CustomerID','CompanyName']).agg({'OrderID':'size'})\\\n",
        ".reset_index()\n",
        "df12=df2.merge(df11,on='CustomerID',how='left')\n",
        "a2=df12['OrderID'].isnull()\n",
        "df12=df12[a2][['CustomerID','CompanyName_x','OrderID']]\n",
        "df12.columns=['CustomerID','CompanyName','OrderID']\n",
        "df12.style.set_caption('表8：列出尚未購買Beverages類別產品的客戶')"
      ],
      "metadata": {
        "id": "5LtW2fPVCgyh",
        "colab": {
          "base_uri": "https://localhost:8080/",
          "height": 380
        },
        "outputId": "35d4ef5b-3396-4b0a-b68c-c7caa503d300"
      },
      "execution_count": null,
      "outputs": [
        {
          "output_type": "execute_result",
          "data": {
            "text/plain": [
              "<pandas.io.formats.style.Styler at 0x7b3af35aedd0>"
            ],
            "text/html": [
              "<style type=\"text/css\">\n",
              "</style>\n",
              "<table id=\"T_f6150\" class=\"dataframe\">\n",
              "  <caption>表8：列出尚未購買Beverages類別產品的客戶</caption>\n",
              "  <thead>\n",
              "    <tr>\n",
              "      <th class=\"blank level0\" >&nbsp;</th>\n",
              "      <th id=\"T_f6150_level0_col0\" class=\"col_heading level0 col0\" >CustomerID</th>\n",
              "      <th id=\"T_f6150_level0_col1\" class=\"col_heading level0 col1\" >CompanyName</th>\n",
              "      <th id=\"T_f6150_level0_col2\" class=\"col_heading level0 col2\" >OrderID</th>\n",
              "    </tr>\n",
              "  </thead>\n",
              "  <tbody>\n",
              "    <tr>\n",
              "      <th id=\"T_f6150_level0_row0\" class=\"row_heading level0 row0\" >12</th>\n",
              "      <td id=\"T_f6150_row0_col0\" class=\"data row0 col0\" >CENTC</td>\n",
              "      <td id=\"T_f6150_row0_col1\" class=\"data row0 col1\" >Centro comercial Moctezuma</td>\n",
              "      <td id=\"T_f6150_row0_col2\" class=\"data row0 col2\" >nan</td>\n",
              "    </tr>\n",
              "    <tr>\n",
              "      <th id=\"T_f6150_level0_row1\" class=\"row_heading level0 row1\" >14</th>\n",
              "      <td id=\"T_f6150_row1_col0\" class=\"data row1 col0\" >COMMI</td>\n",
              "      <td id=\"T_f6150_row1_col1\" class=\"data row1 col1\" >Comrcio Mineiro</td>\n",
              "      <td id=\"T_f6150_row1_col2\" class=\"data row1 col2\" >nan</td>\n",
              "    </tr>\n",
              "    <tr>\n",
              "      <th id=\"T_f6150_level0_row2\" class=\"row_heading level0 row2\" >21</th>\n",
              "      <td id=\"T_f6150_row2_col0\" class=\"data row2 col0\" >FISSA</td>\n",
              "      <td id=\"T_f6150_row2_col1\" class=\"data row2 col1\" >FISSA Fabrica Inter. Salchichas S.A.</td>\n",
              "      <td id=\"T_f6150_row2_col2\" class=\"data row2 col2\" >nan</td>\n",
              "    </tr>\n",
              "    <tr>\n",
              "      <th id=\"T_f6150_level0_row3\" class=\"row_heading level0 row3\" >26</th>\n",
              "      <td id=\"T_f6150_row3_col0\" class=\"data row3 col0\" >FRANS</td>\n",
              "      <td id=\"T_f6150_row3_col1\" class=\"data row3 col1\" >Franchi S.p.A.</td>\n",
              "      <td id=\"T_f6150_row3_col2\" class=\"data row3 col2\" >nan</td>\n",
              "    </tr>\n",
              "    <tr>\n",
              "      <th id=\"T_f6150_level0_row4\" class=\"row_heading level0 row4\" >35</th>\n",
              "      <td id=\"T_f6150_row4_col0\" class=\"data row4 col0\" >HUNGC</td>\n",
              "      <td id=\"T_f6150_row4_col1\" class=\"data row4 col1\" >Hungry Coyote Import Store</td>\n",
              "      <td id=\"T_f6150_row4_col2\" class=\"data row4 col2\" >nan</td>\n",
              "    </tr>\n",
              "    <tr>\n",
              "      <th id=\"T_f6150_level0_row5\" class=\"row_heading level0 row5\" >42</th>\n",
              "      <td id=\"T_f6150_row5_col0\" class=\"data row5 col0\" >LAZYK</td>\n",
              "      <td id=\"T_f6150_row5_col1\" class=\"data row5 col1\" >Lazy K Kountry Store</td>\n",
              "      <td id=\"T_f6150_row5_col2\" class=\"data row5 col2\" >nan</td>\n",
              "    </tr>\n",
              "    <tr>\n",
              "      <th id=\"T_f6150_level0_row6\" class=\"row_heading level0 row6\" >56</th>\n",
              "      <td id=\"T_f6150_row6_col0\" class=\"data row6 col0\" >PARIS</td>\n",
              "      <td id=\"T_f6150_row6_col1\" class=\"data row6 col1\" >Paris spcialits</td>\n",
              "      <td id=\"T_f6150_row6_col2\" class=\"data row6 col2\" >nan</td>\n",
              "    </tr>\n",
              "    <tr>\n",
              "      <th id=\"T_f6150_level0_row7\" class=\"row_heading level0 row7\" >83</th>\n",
              "      <td id=\"T_f6150_row7_col0\" class=\"data row7 col0\" >Val2 </td>\n",
              "      <td id=\"T_f6150_row7_col1\" class=\"data row7 col1\" >IT</td>\n",
              "      <td id=\"T_f6150_row7_col2\" class=\"data row7 col2\" >nan</td>\n",
              "    </tr>\n",
              "    <tr>\n",
              "      <th id=\"T_f6150_level0_row8\" class=\"row_heading level0 row8\" >84</th>\n",
              "      <td id=\"T_f6150_row8_col0\" class=\"data row8 col0\" >VALON</td>\n",
              "      <td id=\"T_f6150_row8_col1\" class=\"data row8 col1\" >IT</td>\n",
              "      <td id=\"T_f6150_row8_col2\" class=\"data row8 col2\" >nan</td>\n",
              "    </tr>\n",
              "    <tr>\n",
              "      <th id=\"T_f6150_level0_row9\" class=\"row_heading level0 row9\" >86</th>\n",
              "      <td id=\"T_f6150_row9_col0\" class=\"data row9 col0\" >VINET</td>\n",
              "      <td id=\"T_f6150_row9_col1\" class=\"data row9 col1\" >Vins et alcools Chevalier</td>\n",
              "      <td id=\"T_f6150_row9_col2\" class=\"data row9 col2\" >nan</td>\n",
              "    </tr>\n",
              "  </tbody>\n",
              "</table>\n"
            ]
          },
          "metadata": {},
          "execution_count": 110
        }
      ]
    },
    {
      "cell_type": "markdown",
      "source": [
        "---\n",
        "---\n",
        "---\n",
        "# 二、分析第2個數據集：B公司的業務銷售之分析報告\n",
        "檔案：https://acupun.site/lecture/pandas/example/resource/sales.csv\n",
        "\n"
      ],
      "metadata": {
        "id": "9nkIQEZhPxBq"
      }
    },
    {
      "cell_type": "markdown",
      "source": [
        "---\n",
        "\n",
        "# 2.內容：你是A公司的新進商業數據分析師，A公司今年2016年業績大幅下滑，公司想請你分析歷年數據後，寫份摘要報告，從各種不同角度分析，包括：『不同業務單位，不同業務員，不同產品，逐年，每季，每月』的分析，找出業績下降的原因，以及如何改善。\n",
        "# **請多用定量描述的方式，來證明你分析觀點的可靠性、準確性與權威性，以建立個人數據分析的品牌與形象。**\n",
        "# 3.使用技術：分群技術(groupby），樞紐分析表，交叉分析圖（groupby..agg..unstack)，視覺化(matplotlib)。三種百分比表格來定量分析各種數據的物理意義。groupby..apply做樞紐分析表格的視覺化標註。分群+排序做強弱項分析。"
      ],
      "metadata": {
        "id": "thBt6SPRDY0V"
      }
    },
    {
      "cell_type": "markdown",
      "source": [
        "---\n",
        "#**9.第9個分析【時間效應分析】：統計B公司的『逐年、逐月』的銷售金額，並繪柱狀圖**\n",
        "\n",
        "下載檔案：https://acupun.site/lecture/pandas/example/resource/sales.csv\n",
        "\n",
        "將檔案上傳到雲端硬碟，讀取自己雲端的檔案"
      ],
      "metadata": {
        "id": "0GvHVrK37K8T"
      }
    },
    {
      "cell_type": "code",
      "source": [
        "df2_1=pd.read_csv('/content/drive/MyDrive/Colab Notebooks/sales.csv')\n",
        "df2_1['年']=pd.to_datetime(df2_1['銷售日期'])\n",
        "df2_1['年']=df2_1['年'].dt.year\n",
        "df2_1['月']=pd.to_datetime(df2_1['銷售日期'])\n",
        "df2_1['月']=df2_1['月'].dt.month"
      ],
      "metadata": {
        "id": "f74xqV38Bjng"
      },
      "execution_count": null,
      "outputs": []
    },
    {
      "cell_type": "code",
      "source": [
        "#(1)統計此公司的『逐年』的銷售金額\n",
        "df11=df2_1.groupby('年').agg({'銷售金額':'sum'})\\\n",
        ".reset_index().style.format('{:,.0f}',subset='銷售金額')\n",
        "df11"
      ],
      "metadata": {
        "id": "Y5iXvuZF-9Or",
        "colab": {
          "base_uri": "https://localhost:8080/",
          "height": 174
        },
        "outputId": "4cb5ec3f-d7cd-435a-d9fb-11aa34e6adf4"
      },
      "execution_count": null,
      "outputs": [
        {
          "output_type": "execute_result",
          "data": {
            "text/plain": [
              "<pandas.io.formats.style.Styler at 0x7b3b013c6a70>"
            ],
            "text/html": [
              "<style type=\"text/css\">\n",
              "</style>\n",
              "<table id=\"T_501ef\" class=\"dataframe\">\n",
              "  <thead>\n",
              "    <tr>\n",
              "      <th class=\"blank level0\" >&nbsp;</th>\n",
              "      <th id=\"T_501ef_level0_col0\" class=\"col_heading level0 col0\" >年</th>\n",
              "      <th id=\"T_501ef_level0_col1\" class=\"col_heading level0 col1\" >銷售金額</th>\n",
              "    </tr>\n",
              "  </thead>\n",
              "  <tbody>\n",
              "    <tr>\n",
              "      <th id=\"T_501ef_level0_row0\" class=\"row_heading level0 row0\" >0</th>\n",
              "      <td id=\"T_501ef_row0_col0\" class=\"data row0 col0\" >2013</td>\n",
              "      <td id=\"T_501ef_row0_col1\" class=\"data row0 col1\" >25,727,805</td>\n",
              "    </tr>\n",
              "    <tr>\n",
              "      <th id=\"T_501ef_level0_row1\" class=\"row_heading level0 row1\" >1</th>\n",
              "      <td id=\"T_501ef_row1_col0\" class=\"data row1 col0\" >2014</td>\n",
              "      <td id=\"T_501ef_row1_col1\" class=\"data row1 col1\" >22,838,772</td>\n",
              "    </tr>\n",
              "    <tr>\n",
              "      <th id=\"T_501ef_level0_row2\" class=\"row_heading level0 row2\" >2</th>\n",
              "      <td id=\"T_501ef_row2_col0\" class=\"data row2 col0\" >2015</td>\n",
              "      <td id=\"T_501ef_row2_col1\" class=\"data row2 col1\" >28,060,594</td>\n",
              "    </tr>\n",
              "    <tr>\n",
              "      <th id=\"T_501ef_level0_row3\" class=\"row_heading level0 row3\" >3</th>\n",
              "      <td id=\"T_501ef_row3_col0\" class=\"data row3 col0\" >2016</td>\n",
              "      <td id=\"T_501ef_row3_col1\" class=\"data row3 col1\" >19,239,669</td>\n",
              "    </tr>\n",
              "  </tbody>\n",
              "</table>\n"
            ]
          },
          "metadata": {},
          "execution_count": 112
        }
      ]
    },
    {
      "cell_type": "code",
      "source": [
        "#(2)【逐年】繪圖\n",
        "df11=df2_1.groupby('年').agg({'銷售金額':'sum'})\\\n",
        ".reset_index()\n",
        "\n",
        "df11.plot(kind='bar',x='年',y='銷售金額',rot=0)\n",
        "df11.plot(kind='line',x='年',y='銷售金額',rot=0).set_title('Fig 1-1:A公司的逐年銷售金額')"
      ],
      "metadata": {
        "id": "iPFQL2n9AMqy",
        "colab": {
          "base_uri": "https://localhost:8080/",
          "height": 938
        },
        "outputId": "556cb012-9b5d-40ea-d5df-56f6d9e719fc"
      },
      "execution_count": null,
      "outputs": [
        {
          "output_type": "execute_result",
          "data": {
            "text/plain": [
              "Text(0.5, 1.0, 'Fig 1-1:A公司的逐年銷售金額')"
            ]
          },
          "metadata": {},
          "execution_count": 113
        },
        {
          "output_type": "display_data",
          "data": {
            "text/plain": [
              "<Figure size 640x480 with 1 Axes>"
            ],
            "image/png": "[encoded data removed]"
          },
          "metadata": {}
        },
        {
          "output_type": "display_data",
          "data": {
            "text/plain": [
              "<Figure size 640x480 with 1 Axes>"
            ],
            "image/png": "[encoded data removed]"
          },
          "metadata": {}
        }
      ]
    },
    {
      "cell_type": "code",
      "source": [
        "#(3)統計此公司的『逐年、逐月』的銷售金額\n",
        "df11=df2_1.groupby(['年','月']).agg({'銷售金額':'sum'})\\\n",
        ".reset_index().style.format('{:,.0f}',subset=['銷售金額'])\n",
        "df11"
      ],
      "metadata": {
        "id": "vqzf7_8U89M9",
        "colab": {
          "base_uri": "https://localhost:8080/",
          "height": 1000
        },
        "outputId": "3786c7ce-992d-4665-9f7c-adc5a7021395"
      },
      "execution_count": null,
      "outputs": [
        {
          "output_type": "execute_result",
          "data": {
            "text/plain": [
              "<pandas.io.formats.style.Styler at 0x7b3b01169240>"
            ],
            "text/html": [
              "<style type=\"text/css\">\n",
              "</style>\n",
              "<table id=\"T_6f2e3\" class=\"dataframe\">\n",
              "  <thead>\n",
              "    <tr>\n",
              "      <th class=\"blank level0\" >&nbsp;</th>\n",
              "      <th id=\"T_6f2e3_level0_col0\" class=\"col_heading level0 col0\" >年</th>\n",
              "      <th id=\"T_6f2e3_level0_col1\" class=\"col_heading level0 col1\" >月</th>\n",
              "      <th id=\"T_6f2e3_level0_col2\" class=\"col_heading level0 col2\" >銷售金額</th>\n",
              "    </tr>\n",
              "  </thead>\n",
              "  <tbody>\n",
              "    <tr>\n",
              "      <th id=\"T_6f2e3_level0_row0\" class=\"row_heading level0 row0\" >0</th>\n",
              "      <td id=\"T_6f2e3_row0_col0\" class=\"data row0 col0\" >2013</td>\n",
              "      <td id=\"T_6f2e3_row0_col1\" class=\"data row0 col1\" >1</td>\n",
              "      <td id=\"T_6f2e3_row0_col2\" class=\"data row0 col2\" >2,403,639</td>\n",
              "    </tr>\n",
              "    <tr>\n",
              "      <th id=\"T_6f2e3_level0_row1\" class=\"row_heading level0 row1\" >1</th>\n",
              "      <td id=\"T_6f2e3_row1_col0\" class=\"data row1 col0\" >2013</td>\n",
              "      <td id=\"T_6f2e3_row1_col1\" class=\"data row1 col1\" >2</td>\n",
              "      <td id=\"T_6f2e3_row1_col2\" class=\"data row1 col2\" >2,965,207</td>\n",
              "    </tr>\n",
              "    <tr>\n",
              "      <th id=\"T_6f2e3_level0_row2\" class=\"row_heading level0 row2\" >2</th>\n",
              "      <td id=\"T_6f2e3_row2_col0\" class=\"data row2 col0\" >2013</td>\n",
              "      <td id=\"T_6f2e3_row2_col1\" class=\"data row2 col1\" >3</td>\n",
              "      <td id=\"T_6f2e3_row2_col2\" class=\"data row2 col2\" >1,452,076</td>\n",
              "    </tr>\n",
              "    <tr>\n",
              "      <th id=\"T_6f2e3_level0_row3\" class=\"row_heading level0 row3\" >3</th>\n",
              "      <td id=\"T_6f2e3_row3_col0\" class=\"data row3 col0\" >2013</td>\n",
              "      <td id=\"T_6f2e3_row3_col1\" class=\"data row3 col1\" >4</td>\n",
              "      <td id=\"T_6f2e3_row3_col2\" class=\"data row3 col2\" >1,811,923</td>\n",
              "    </tr>\n",
              "    <tr>\n",
              "      <th id=\"T_6f2e3_level0_row4\" class=\"row_heading level0 row4\" >4</th>\n",
              "      <td id=\"T_6f2e3_row4_col0\" class=\"data row4 col0\" >2013</td>\n",
              "      <td id=\"T_6f2e3_row4_col1\" class=\"data row4 col1\" >5</td>\n",
              "      <td id=\"T_6f2e3_row4_col2\" class=\"data row4 col2\" >2,046,698</td>\n",
              "    </tr>\n",
              "    <tr>\n",
              "      <th id=\"T_6f2e3_level0_row5\" class=\"row_heading level0 row5\" >5</th>\n",
              "      <td id=\"T_6f2e3_row5_col0\" class=\"data row5 col0\" >2013</td>\n",
              "      <td id=\"T_6f2e3_row5_col1\" class=\"data row5 col1\" >6</td>\n",
              "      <td id=\"T_6f2e3_row5_col2\" class=\"data row5 col2\" >2,917,171</td>\n",
              "    </tr>\n",
              "    <tr>\n",
              "      <th id=\"T_6f2e3_level0_row6\" class=\"row_heading level0 row6\" >6</th>\n",
              "      <td id=\"T_6f2e3_row6_col0\" class=\"data row6 col0\" >2013</td>\n",
              "      <td id=\"T_6f2e3_row6_col1\" class=\"data row6 col1\" >7</td>\n",
              "      <td id=\"T_6f2e3_row6_col2\" class=\"data row6 col2\" >3,109,491</td>\n",
              "    </tr>\n",
              "    <tr>\n",
              "      <th id=\"T_6f2e3_level0_row7\" class=\"row_heading level0 row7\" >7</th>\n",
              "      <td id=\"T_6f2e3_row7_col0\" class=\"data row7 col0\" >2013</td>\n",
              "      <td id=\"T_6f2e3_row7_col1\" class=\"data row7 col1\" >8</td>\n",
              "      <td id=\"T_6f2e3_row7_col2\" class=\"data row7 col2\" >2,045,607</td>\n",
              "    </tr>\n",
              "    <tr>\n",
              "      <th id=\"T_6f2e3_level0_row8\" class=\"row_heading level0 row8\" >8</th>\n",
              "      <td id=\"T_6f2e3_row8_col0\" class=\"data row8 col0\" >2013</td>\n",
              "      <td id=\"T_6f2e3_row8_col1\" class=\"data row8 col1\" >9</td>\n",
              "      <td id=\"T_6f2e3_row8_col2\" class=\"data row8 col2\" >1,798,154</td>\n",
              "    </tr>\n",
              "    <tr>\n",
              "      <th id=\"T_6f2e3_level0_row9\" class=\"row_heading level0 row9\" >9</th>\n",
              "      <td id=\"T_6f2e3_row9_col0\" class=\"data row9 col0\" >2013</td>\n",
              "      <td id=\"T_6f2e3_row9_col1\" class=\"data row9 col1\" >10</td>\n",
              "      <td id=\"T_6f2e3_row9_col2\" class=\"data row9 col2\" >2,484,518</td>\n",
              "    </tr>\n",
              "    <tr>\n",
              "      <th id=\"T_6f2e3_level0_row10\" class=\"row_heading level0 row10\" >10</th>\n",
              "      <td id=\"T_6f2e3_row10_col0\" class=\"data row10 col0\" >2013</td>\n",
              "      <td id=\"T_6f2e3_row10_col1\" class=\"data row10 col1\" >11</td>\n",
              "      <td id=\"T_6f2e3_row10_col2\" class=\"data row10 col2\" >1,303,286</td>\n",
              "    </tr>\n",
              "    <tr>\n",
              "      <th id=\"T_6f2e3_level0_row11\" class=\"row_heading level0 row11\" >11</th>\n",
              "      <td id=\"T_6f2e3_row11_col0\" class=\"data row11 col0\" >2013</td>\n",
              "      <td id=\"T_6f2e3_row11_col1\" class=\"data row11 col1\" >12</td>\n",
              "      <td id=\"T_6f2e3_row11_col2\" class=\"data row11 col2\" >1,390,035</td>\n",
              "    </tr>\n",
              "    <tr>\n",
              "      <th id=\"T_6f2e3_level0_row12\" class=\"row_heading level0 row12\" >12</th>\n",
              "      <td id=\"T_6f2e3_row12_col0\" class=\"data row12 col0\" >2014</td>\n",
              "      <td id=\"T_6f2e3_row12_col1\" class=\"data row12 col1\" >1</td>\n",
              "      <td id=\"T_6f2e3_row12_col2\" class=\"data row12 col2\" >2,480,484</td>\n",
              "    </tr>\n",
              "    <tr>\n",
              "      <th id=\"T_6f2e3_level0_row13\" class=\"row_heading level0 row13\" >13</th>\n",
              "      <td id=\"T_6f2e3_row13_col0\" class=\"data row13 col0\" >2014</td>\n",
              "      <td id=\"T_6f2e3_row13_col1\" class=\"data row13 col1\" >2</td>\n",
              "      <td id=\"T_6f2e3_row13_col2\" class=\"data row13 col2\" >1,977,781</td>\n",
              "    </tr>\n",
              "    <tr>\n",
              "      <th id=\"T_6f2e3_level0_row14\" class=\"row_heading level0 row14\" >14</th>\n",
              "      <td id=\"T_6f2e3_row14_col0\" class=\"data row14 col0\" >2014</td>\n",
              "      <td id=\"T_6f2e3_row14_col1\" class=\"data row14 col1\" >3</td>\n",
              "      <td id=\"T_6f2e3_row14_col2\" class=\"data row14 col2\" >2,120,239</td>\n",
              "    </tr>\n",
              "    <tr>\n",
              "      <th id=\"T_6f2e3_level0_row15\" class=\"row_heading level0 row15\" >15</th>\n",
              "      <td id=\"T_6f2e3_row15_col0\" class=\"data row15 col0\" >2014</td>\n",
              "      <td id=\"T_6f2e3_row15_col1\" class=\"data row15 col1\" >4</td>\n",
              "      <td id=\"T_6f2e3_row15_col2\" class=\"data row15 col2\" >2,129,114</td>\n",
              "    </tr>\n",
              "    <tr>\n",
              "      <th id=\"T_6f2e3_level0_row16\" class=\"row_heading level0 row16\" >16</th>\n",
              "      <td id=\"T_6f2e3_row16_col0\" class=\"data row16 col0\" >2014</td>\n",
              "      <td id=\"T_6f2e3_row16_col1\" class=\"data row16 col1\" >5</td>\n",
              "      <td id=\"T_6f2e3_row16_col2\" class=\"data row16 col2\" >1,590,007</td>\n",
              "    </tr>\n",
              "    <tr>\n",
              "      <th id=\"T_6f2e3_level0_row17\" class=\"row_heading level0 row17\" >17</th>\n",
              "      <td id=\"T_6f2e3_row17_col0\" class=\"data row17 col0\" >2014</td>\n",
              "      <td id=\"T_6f2e3_row17_col1\" class=\"data row17 col1\" >6</td>\n",
              "      <td id=\"T_6f2e3_row17_col2\" class=\"data row17 col2\" >2,006,096</td>\n",
              "    </tr>\n",
              "    <tr>\n",
              "      <th id=\"T_6f2e3_level0_row18\" class=\"row_heading level0 row18\" >18</th>\n",
              "      <td id=\"T_6f2e3_row18_col0\" class=\"data row18 col0\" >2014</td>\n",
              "      <td id=\"T_6f2e3_row18_col1\" class=\"data row18 col1\" >7</td>\n",
              "      <td id=\"T_6f2e3_row18_col2\" class=\"data row18 col2\" >2,102,850</td>\n",
              "    </tr>\n",
              "    <tr>\n",
              "      <th id=\"T_6f2e3_level0_row19\" class=\"row_heading level0 row19\" >19</th>\n",
              "      <td id=\"T_6f2e3_row19_col0\" class=\"data row19 col0\" >2014</td>\n",
              "      <td id=\"T_6f2e3_row19_col1\" class=\"data row19 col1\" >8</td>\n",
              "      <td id=\"T_6f2e3_row19_col2\" class=\"data row19 col2\" >1,744,288</td>\n",
              "    </tr>\n",
              "    <tr>\n",
              "      <th id=\"T_6f2e3_level0_row20\" class=\"row_heading level0 row20\" >20</th>\n",
              "      <td id=\"T_6f2e3_row20_col0\" class=\"data row20 col0\" >2014</td>\n",
              "      <td id=\"T_6f2e3_row20_col1\" class=\"data row20 col1\" >9</td>\n",
              "      <td id=\"T_6f2e3_row20_col2\" class=\"data row20 col2\" >2,130,134</td>\n",
              "    </tr>\n",
              "    <tr>\n",
              "      <th id=\"T_6f2e3_level0_row21\" class=\"row_heading level0 row21\" >21</th>\n",
              "      <td id=\"T_6f2e3_row21_col0\" class=\"data row21 col0\" >2014</td>\n",
              "      <td id=\"T_6f2e3_row21_col1\" class=\"data row21 col1\" >10</td>\n",
              "      <td id=\"T_6f2e3_row21_col2\" class=\"data row21 col2\" >1,877,321</td>\n",
              "    </tr>\n",
              "    <tr>\n",
              "      <th id=\"T_6f2e3_level0_row22\" class=\"row_heading level0 row22\" >22</th>\n",
              "      <td id=\"T_6f2e3_row22_col0\" class=\"data row22 col0\" >2014</td>\n",
              "      <td id=\"T_6f2e3_row22_col1\" class=\"data row22 col1\" >11</td>\n",
              "      <td id=\"T_6f2e3_row22_col2\" class=\"data row22 col2\" >1,721,176</td>\n",
              "    </tr>\n",
              "    <tr>\n",
              "      <th id=\"T_6f2e3_level0_row23\" class=\"row_heading level0 row23\" >23</th>\n",
              "      <td id=\"T_6f2e3_row23_col0\" class=\"data row23 col0\" >2014</td>\n",
              "      <td id=\"T_6f2e3_row23_col1\" class=\"data row23 col1\" >12</td>\n",
              "      <td id=\"T_6f2e3_row23_col2\" class=\"data row23 col2\" >959,282</td>\n",
              "    </tr>\n",
              "    <tr>\n",
              "      <th id=\"T_6f2e3_level0_row24\" class=\"row_heading level0 row24\" >24</th>\n",
              "      <td id=\"T_6f2e3_row24_col0\" class=\"data row24 col0\" >2015</td>\n",
              "      <td id=\"T_6f2e3_row24_col1\" class=\"data row24 col1\" >1</td>\n",
              "      <td id=\"T_6f2e3_row24_col2\" class=\"data row24 col2\" >2,824,347</td>\n",
              "    </tr>\n",
              "    <tr>\n",
              "      <th id=\"T_6f2e3_level0_row25\" class=\"row_heading level0 row25\" >25</th>\n",
              "      <td id=\"T_6f2e3_row25_col0\" class=\"data row25 col0\" >2015</td>\n",
              "      <td id=\"T_6f2e3_row25_col1\" class=\"data row25 col1\" >2</td>\n",
              "      <td id=\"T_6f2e3_row25_col2\" class=\"data row25 col2\" >1,933,760</td>\n",
              "    </tr>\n",
              "    <tr>\n",
              "      <th id=\"T_6f2e3_level0_row26\" class=\"row_heading level0 row26\" >26</th>\n",
              "      <td id=\"T_6f2e3_row26_col0\" class=\"data row26 col0\" >2015</td>\n",
              "      <td id=\"T_6f2e3_row26_col1\" class=\"data row26 col1\" >3</td>\n",
              "      <td id=\"T_6f2e3_row26_col2\" class=\"data row26 col2\" >2,128,493</td>\n",
              "    </tr>\n",
              "    <tr>\n",
              "      <th id=\"T_6f2e3_level0_row27\" class=\"row_heading level0 row27\" >27</th>\n",
              "      <td id=\"T_6f2e3_row27_col0\" class=\"data row27 col0\" >2015</td>\n",
              "      <td id=\"T_6f2e3_row27_col1\" class=\"data row27 col1\" >4</td>\n",
              "      <td id=\"T_6f2e3_row27_col2\" class=\"data row27 col2\" >1,631,400</td>\n",
              "    </tr>\n",
              "    <tr>\n",
              "      <th id=\"T_6f2e3_level0_row28\" class=\"row_heading level0 row28\" >28</th>\n",
              "      <td id=\"T_6f2e3_row28_col0\" class=\"data row28 col0\" >2015</td>\n",
              "      <td id=\"T_6f2e3_row28_col1\" class=\"data row28 col1\" >5</td>\n",
              "      <td id=\"T_6f2e3_row28_col2\" class=\"data row28 col2\" >3,134,686</td>\n",
              "    </tr>\n",
              "    <tr>\n",
              "      <th id=\"T_6f2e3_level0_row29\" class=\"row_heading level0 row29\" >29</th>\n",
              "      <td id=\"T_6f2e3_row29_col0\" class=\"data row29 col0\" >2015</td>\n",
              "      <td id=\"T_6f2e3_row29_col1\" class=\"data row29 col1\" >6</td>\n",
              "      <td id=\"T_6f2e3_row29_col2\" class=\"data row29 col2\" >2,311,502</td>\n",
              "    </tr>\n",
              "    <tr>\n",
              "      <th id=\"T_6f2e3_level0_row30\" class=\"row_heading level0 row30\" >30</th>\n",
              "      <td id=\"T_6f2e3_row30_col0\" class=\"data row30 col0\" >2015</td>\n",
              "      <td id=\"T_6f2e3_row30_col1\" class=\"data row30 col1\" >7</td>\n",
              "      <td id=\"T_6f2e3_row30_col2\" class=\"data row30 col2\" >2,231,590</td>\n",
              "    </tr>\n",
              "    <tr>\n",
              "      <th id=\"T_6f2e3_level0_row31\" class=\"row_heading level0 row31\" >31</th>\n",
              "      <td id=\"T_6f2e3_row31_col0\" class=\"data row31 col0\" >2015</td>\n",
              "      <td id=\"T_6f2e3_row31_col1\" class=\"data row31 col1\" >8</td>\n",
              "      <td id=\"T_6f2e3_row31_col2\" class=\"data row31 col2\" >2,682,844</td>\n",
              "    </tr>\n",
              "    <tr>\n",
              "      <th id=\"T_6f2e3_level0_row32\" class=\"row_heading level0 row32\" >32</th>\n",
              "      <td id=\"T_6f2e3_row32_col0\" class=\"data row32 col0\" >2015</td>\n",
              "      <td id=\"T_6f2e3_row32_col1\" class=\"data row32 col1\" >9</td>\n",
              "      <td id=\"T_6f2e3_row32_col2\" class=\"data row32 col2\" >1,887,003</td>\n",
              "    </tr>\n",
              "    <tr>\n",
              "      <th id=\"T_6f2e3_level0_row33\" class=\"row_heading level0 row33\" >33</th>\n",
              "      <td id=\"T_6f2e3_row33_col0\" class=\"data row33 col0\" >2015</td>\n",
              "      <td id=\"T_6f2e3_row33_col1\" class=\"data row33 col1\" >10</td>\n",
              "      <td id=\"T_6f2e3_row33_col2\" class=\"data row33 col2\" >1,993,366</td>\n",
              "    </tr>\n",
              "    <tr>\n",
              "      <th id=\"T_6f2e3_level0_row34\" class=\"row_heading level0 row34\" >34</th>\n",
              "      <td id=\"T_6f2e3_row34_col0\" class=\"data row34 col0\" >2015</td>\n",
              "      <td id=\"T_6f2e3_row34_col1\" class=\"data row34 col1\" >11</td>\n",
              "      <td id=\"T_6f2e3_row34_col2\" class=\"data row34 col2\" >2,867,112</td>\n",
              "    </tr>\n",
              "    <tr>\n",
              "      <th id=\"T_6f2e3_level0_row35\" class=\"row_heading level0 row35\" >35</th>\n",
              "      <td id=\"T_6f2e3_row35_col0\" class=\"data row35 col0\" >2015</td>\n",
              "      <td id=\"T_6f2e3_row35_col1\" class=\"data row35 col1\" >12</td>\n",
              "      <td id=\"T_6f2e3_row35_col2\" class=\"data row35 col2\" >2,434,491</td>\n",
              "    </tr>\n",
              "    <tr>\n",
              "      <th id=\"T_6f2e3_level0_row36\" class=\"row_heading level0 row36\" >36</th>\n",
              "      <td id=\"T_6f2e3_row36_col0\" class=\"data row36 col0\" >2016</td>\n",
              "      <td id=\"T_6f2e3_row36_col1\" class=\"data row36 col1\" >1</td>\n",
              "      <td id=\"T_6f2e3_row36_col2\" class=\"data row36 col2\" >2,030,887</td>\n",
              "    </tr>\n",
              "    <tr>\n",
              "      <th id=\"T_6f2e3_level0_row37\" class=\"row_heading level0 row37\" >37</th>\n",
              "      <td id=\"T_6f2e3_row37_col0\" class=\"data row37 col0\" >2016</td>\n",
              "      <td id=\"T_6f2e3_row37_col1\" class=\"data row37 col1\" >2</td>\n",
              "      <td id=\"T_6f2e3_row37_col2\" class=\"data row37 col2\" >1,236,391</td>\n",
              "    </tr>\n",
              "    <tr>\n",
              "      <th id=\"T_6f2e3_level0_row38\" class=\"row_heading level0 row38\" >38</th>\n",
              "      <td id=\"T_6f2e3_row38_col0\" class=\"data row38 col0\" >2016</td>\n",
              "      <td id=\"T_6f2e3_row38_col1\" class=\"data row38 col1\" >3</td>\n",
              "      <td id=\"T_6f2e3_row38_col2\" class=\"data row38 col2\" >1,593,254</td>\n",
              "    </tr>\n",
              "    <tr>\n",
              "      <th id=\"T_6f2e3_level0_row39\" class=\"row_heading level0 row39\" >39</th>\n",
              "      <td id=\"T_6f2e3_row39_col0\" class=\"data row39 col0\" >2016</td>\n",
              "      <td id=\"T_6f2e3_row39_col1\" class=\"data row39 col1\" >4</td>\n",
              "      <td id=\"T_6f2e3_row39_col2\" class=\"data row39 col2\" >2,225,488</td>\n",
              "    </tr>\n",
              "    <tr>\n",
              "      <th id=\"T_6f2e3_level0_row40\" class=\"row_heading level0 row40\" >40</th>\n",
              "      <td id=\"T_6f2e3_row40_col0\" class=\"data row40 col0\" >2016</td>\n",
              "      <td id=\"T_6f2e3_row40_col1\" class=\"data row40 col1\" >5</td>\n",
              "      <td id=\"T_6f2e3_row40_col2\" class=\"data row40 col2\" >1,881,556</td>\n",
              "    </tr>\n",
              "    <tr>\n",
              "      <th id=\"T_6f2e3_level0_row41\" class=\"row_heading level0 row41\" >41</th>\n",
              "      <td id=\"T_6f2e3_row41_col0\" class=\"data row41 col0\" >2016</td>\n",
              "      <td id=\"T_6f2e3_row41_col1\" class=\"data row41 col1\" >6</td>\n",
              "      <td id=\"T_6f2e3_row41_col2\" class=\"data row41 col2\" >654,092</td>\n",
              "    </tr>\n",
              "    <tr>\n",
              "      <th id=\"T_6f2e3_level0_row42\" class=\"row_heading level0 row42\" >42</th>\n",
              "      <td id=\"T_6f2e3_row42_col0\" class=\"data row42 col0\" >2016</td>\n",
              "      <td id=\"T_6f2e3_row42_col1\" class=\"data row42 col1\" >7</td>\n",
              "      <td id=\"T_6f2e3_row42_col2\" class=\"data row42 col2\" >3,416,088</td>\n",
              "    </tr>\n",
              "    <tr>\n",
              "      <th id=\"T_6f2e3_level0_row43\" class=\"row_heading level0 row43\" >43</th>\n",
              "      <td id=\"T_6f2e3_row43_col0\" class=\"data row43 col0\" >2016</td>\n",
              "      <td id=\"T_6f2e3_row43_col1\" class=\"data row43 col1\" >8</td>\n",
              "      <td id=\"T_6f2e3_row43_col2\" class=\"data row43 col2\" >2,300,972</td>\n",
              "    </tr>\n",
              "    <tr>\n",
              "      <th id=\"T_6f2e3_level0_row44\" class=\"row_heading level0 row44\" >44</th>\n",
              "      <td id=\"T_6f2e3_row44_col0\" class=\"data row44 col0\" >2016</td>\n",
              "      <td id=\"T_6f2e3_row44_col1\" class=\"data row44 col1\" >9</td>\n",
              "      <td id=\"T_6f2e3_row44_col2\" class=\"data row44 col2\" >2,196,897</td>\n",
              "    </tr>\n",
              "    <tr>\n",
              "      <th id=\"T_6f2e3_level0_row45\" class=\"row_heading level0 row45\" >45</th>\n",
              "      <td id=\"T_6f2e3_row45_col0\" class=\"data row45 col0\" >2016</td>\n",
              "      <td id=\"T_6f2e3_row45_col1\" class=\"data row45 col1\" >10</td>\n",
              "      <td id=\"T_6f2e3_row45_col2\" class=\"data row45 col2\" >1,704,044</td>\n",
              "    </tr>\n",
              "  </tbody>\n",
              "</table>\n"
            ]
          },
          "metadata": {},
          "execution_count": 114
        }
      ]
    },
    {
      "cell_type": "code",
      "source": [
        "#(4)【逐年逐月】繪圖\n",
        "df11=df2_1.groupby(['年','月']).agg({'銷售金額':'sum'})\\\n",
        ".reset_index()\n",
        "df11['年月']=df11['年'].astype(str)+'-'+df11['月'].astype(str)\n",
        "df11.plot(kind='bar',x='年月',y='銷售金額',figsize=(20,10),rot=45)"
      ],
      "metadata": {
        "id": "BmyTvSZP9BgL",
        "colab": {
          "base_uri": "https://localhost:8080/",
          "height": 668
        },
        "outputId": "73ee94b6-f783-4479-cce5-4232354c0dce"
      },
      "execution_count": null,
      "outputs": [
        {
          "output_type": "execute_result",
          "data": {
            "text/plain": [
              "<Axes: xlabel='年月'>"
            ]
          },
          "metadata": {},
          "execution_count": 115
        },
        {
          "output_type": "display_data",
          "data": {
            "text/plain": [
              "<Figure size 2000x1000 with 1 Axes>"
            ],
            "image/png": "[encoded data removed]"
          },
          "metadata": {}
        }
      ]
    },
    {
      "cell_type": "markdown",
      "source": [
        "---\n",
        "# **10.第10個分析【樞紐分析】：統計B公司本年度，每個業務單位的『銷售總量，銷售總金額』**\n",
        "\n",
        "下載檔案：https://acupun.site/lecture/pandas/example/resource/sales.csv\n",
        "\n",
        "將檔案上傳到雲端硬碟，讀取自己雲端的檔案"
      ],
      "metadata": {
        "id": "zjaUdPSIV7qe"
      }
    },
    {
      "cell_type": "code",
      "source": [
        "#(1)分析：每個業務單位的『銷售總量，銷售總金額』\n",
        "df11=df2_1.groupby('業務單位').agg({'銷售數量':'sum','銷售金額':'sum'})\\\n",
        ".rename(columns={'銷售數量':'銷售總量','銷售金額':'銷售總金額'})\n",
        "df11"
      ],
      "metadata": {
        "id": "Ec1JT0E37rAD",
        "colab": {
          "base_uri": "https://localhost:8080/",
          "height": 206
        },
        "outputId": "ec77d755-136e-405b-8025-253f624e729a"
      },
      "execution_count": null,
      "outputs": [
        {
          "output_type": "execute_result",
          "data": {
            "text/plain": [
              "         銷售總量     銷售總金額\n",
              "業務單位                   \n",
              "業務1   2901936  41849234\n",
              "業務2   3063210  18533423\n",
              "業務3   2979484  17242096\n",
              "業務4   2935313  18242087"
            ],
            "text/html": [
              "\n",
              "  <div id=\"df-7cdfbdbd-2c70-4e83-b8e9-debf2d4661f4\" class=\"colab-df-container\">\n",
              "    <div>\n",
              "<style scoped>\n",
              "    .dataframe tbody tr th:only-of-type {\n",
              "        vertical-align: middle;\n",
              "    }\n",
              "\n",
              "    .dataframe tbody tr th {\n",
              "        vertical-align: top;\n",
              "    }\n",
              "\n",
              "    .dataframe thead th {\n",
              "        text-align: right;\n",
              "    }\n",
              "</style>\n",
              "<table border=\"1\" class=\"dataframe\">\n",
              "  <thead>\n",
              "    <tr style=\"text-align: right;\">\n",
              "      <th></th>\n",
              "      <th>銷售總量</th>\n",
              "      <th>銷售總金額</th>\n",
              "    </tr>\n",
              "    <tr>\n",
              "      <th>業務單位</th>\n",
              "      <th></th>\n",
              "      <th></th>\n",
              "    </tr>\n",
              "  </thead>\n",
              "  <tbody>\n",
              "    <tr>\n",
              "      <th>業務1</th>\n",
              "      <td>2901936</td>\n",
              "      <td>41849234</td>\n",
              "    </tr>\n",
              "    <tr>\n",
              "      <th>業務2</th>\n",
              "      <td>3063210</td>\n",
              "      <td>18533423</td>\n",
              "    </tr>\n",
              "    <tr>\n",
              "      <th>業務3</th>\n",
              "      <td>2979484</td>\n",
              "      <td>17242096</td>\n",
              "    </tr>\n",
              "    <tr>\n",
              "      <th>業務4</th>\n",
              "      <td>2935313</td>\n",
              "      <td>18242087</td>\n",
              "    </tr>\n",
              "  </tbody>\n",
              "</table>\n",
              "</div>\n",
              "    <div class=\"colab-df-buttons\">\n",
              "\n",
              "  <div class=\"colab-df-container\">\n",
              "    <button class=\"colab-df-convert\" onclick=\"convertToInteractive('df-7cdfbdbd-2c70-4e83-b8e9-debf2d4661f4')\"\n",
              "            title=\"Convert this dataframe to an interactive table.\"\n",
              "            style=\"display:none;\">\n",
              "\n",
              "  <svg xmlns=\"http://www.w3.org/2000/svg\" height=\"24px\" viewBox=\"0 -960 960 960\">\n",
              "    <path d=\"M120-120v-720h720v720H120Zm60-500h600v-160H180v160Zm220 220h160v-160H400v160Zm0 220h160v-160H400v160ZM180-400h160v-160H180v160Zm440 0h160v-160H620v160ZM180-180h160v-160H180v160Zm440 0h160v-160H620v160Z\"/>\n",
              "  </svg>\n",
              "    </button>\n",
              "\n",
              "  <style>\n",
              "    .colab-df-container {\n",
              "      display:flex;\n",
              "      gap: 12px;\n",
              "    }\n",
              "\n",
              "    .colab-df-convert {\n",
              "      background-color: #E8F0FE;\n",
              "      border: none;\n",
              "      border-radius: 50%;\n",
              "      cursor: pointer;\n",
              "      display: none;\n",
              "      fill: #1967D2;\n",
              "      height: 32px;\n",
              "      padding: 0 0 0 0;\n",
              "      width: 32px;\n",
              "    }\n",
              "\n",
              "    .colab-df-convert:hover {\n",
              "      background-color: #E2EBFA;\n",
              "      box-shadow: 0px 1px 2px rgba(60, 64, 67, 0.3), 0px 1px 3px 1px rgba(60, 64, 67, 0.15);\n",
              "      fill: #174EA6;\n",
              "    }\n",
              "\n",
              "    .colab-df-buttons div {\n",
              "      margin-bottom: 4px;\n",
              "    }\n",
              "\n",
              "    [theme=dark] .colab-df-convert {\n",
              "      background-color: #3B4455;\n",
              "      fill: #D2E3FC;\n",
              "    }\n",
              "\n",
              "    [theme=dark] .colab-df-convert:hover {\n",
              "      background-color: #434B5C;\n",
              "      box-shadow: 0px 1px 3px 1px rgba(0, 0, 0, 0.15);\n",
              "      filter: drop-shadow(0px 1px 2px rgba(0, 0, 0, 0.3));\n",
              "      fill: #FFFFFF;\n",
              "    }\n",
              "  </style>\n",
              "\n",
              "    <script>\n",
              "      const buttonEl =\n",
              "        document.querySelector('#df-7cdfbdbd-2c70-4e83-b8e9-debf2d4661f4 button.colab-df-convert');\n",
              "      buttonEl.style.display =\n",
              "        google.colab.kernel.accessAllowed ? 'block' : 'none';\n",
              "\n",
              "      async function convertToInteractive(key) {\n",
              "        const element = document.querySelector('#df-7cdfbdbd-2c70-4e83-b8e9-debf2d4661f4');\n",
              "        const dataTable =\n",
              "          await google.colab.kernel.invokeFunction('convertToInteractive',\n",
              "                                                    [key], {});\n",
              "        if (!dataTable) return;\n",
              "\n",
              "        const docLinkHtml = 'Like what you see? Visit the ' +\n",
              "          '<a target=\"_blank\" href=https://colab.research.google.com/notebooks/data_table.ipynb>data table notebook</a>'\n",
              "          + ' to learn more about interactive tables.';\n",
              "        element.innerHTML = '';\n",
              "        dataTable['output_type'] = 'display_data';\n",
              "        await google.colab.output.renderOutput(dataTable, element);\n",
              "        const docLink = document.createElement('div');\n",
              "        docLink.innerHTML = docLinkHtml;\n",
              "        element.appendChild(docLink);\n",
              "      }\n",
              "    </script>\n",
              "  </div>\n",
              "\n",
              "\n",
              "<div id=\"df-ed3c7845-70f4-426b-9bc3-42c47f97eedc\">\n",
              "  <button class=\"colab-df-quickchart\" onclick=\"quickchart('df-ed3c7845-70f4-426b-9bc3-42c47f97eedc')\"\n",
              "            title=\"Suggest charts\"\n",
              "            style=\"display:none;\">\n",
              "\n",
              "<svg xmlns=\"http://www.w3.org/2000/svg\" height=\"24px\"viewBox=\"0 0 24 24\"\n",
              "     width=\"24px\">\n",
              "    <g>\n",
              "        <path d=\"M19 3H5c-1.1 0-2 .9-2 2v14c0 1.1.9 2 2 2h14c1.1 0 2-.9 2-2V5c0-1.1-.9-2-2-2zM9 17H7v-7h2v7zm4 0h-2V7h2v10zm4 0h-2v-4h2v4z\"/>\n",
              "    </g>\n",
              "</svg>\n",
              "  </button>\n",
              "\n",
              "<style>\n",
              "  .colab-df-quickchart {\n",
              "      --bg-color: #E8F0FE;\n",
              "      --fill-color: #1967D2;\n",
              "      --hover-bg-color: #E2EBFA;\n",
              "      --hover-fill-color: #174EA6;\n",
              "      --disabled-fill-color: #AAA;\n",
              "      --disabled-bg-color: #DDD;\n",
              "  }\n",
              "\n",
              "  [theme=dark] .colab-df-quickchart {\n",
              "      --bg-color: #3B4455;\n",
              "      --fill-color: #D2E3FC;\n",
              "      --hover-bg-color: #434B5C;\n",
              "      --hover-fill-color: #FFFFFF;\n",
              "      --disabled-bg-color: #3B4455;\n",
              "      --disabled-fill-color: #666;\n",
              "  }\n",
              "\n",
              "  .colab-df-quickchart {\n",
              "    background-color: var(--bg-color);\n",
              "    border: none;\n",
              "    border-radius: 50%;\n",
              "    cursor: pointer;\n",
              "    display: none;\n",
              "    fill: var(--fill-color);\n",
              "    height: 32px;\n",
              "    padding: 0;\n",
              "    width: 32px;\n",
              "  }\n",
              "\n",
              "  .colab-df-quickchart:hover {\n",
              "    background-color: var(--hover-bg-color);\n",
              "    box-shadow: 0 1px 2px rgba(60, 64, 67, 0.3), 0 1px 3px 1px rgba(60, 64, 67, 0.15);\n",
              "    fill: var(--button-hover-fill-color);\n",
              "  }\n",
              "\n",
              "  .colab-df-quickchart-complete:disabled,\n",
              "  .colab-df-quickchart-complete:disabled:hover {\n",
              "    background-color: var(--disabled-bg-color);\n",
              "    fill: var(--disabled-fill-color);\n",
              "    box-shadow: none;\n",
              "  }\n",
              "\n",
              "  .colab-df-spinner {\n",
              "    border: 2px solid var(--fill-color);\n",
              "    border-color: transparent;\n",
              "    border-bottom-color: var(--fill-color);\n",
              "    animation:\n",
              "      spin 1s steps(1) infinite;\n",
              "  }\n",
              "\n",
              "  @keyframes spin {\n",
              "    0% {\n",
              "      border-color: transparent;\n",
              "      border-bottom-color: var(--fill-color);\n",
              "      border-left-color: var(--fill-color);\n",
              "    }\n",
              "    20% {\n",
              "      border-color: transparent;\n",
              "      border-left-color: var(--fill-color);\n",
              "      border-top-color: var(--fill-color);\n",
              "    }\n",
              "    30% {\n",
              "      border-color: transparent;\n",
              "      border-left-color: var(--fill-color);\n",
              "      border-top-color: var(--fill-color);\n",
              "      border-right-color: var(--fill-color);\n",
              "    }\n",
              "    40% {\n",
              "      border-color: transparent;\n",
              "      border-right-color: var(--fill-color);\n",
              "      border-top-color: var(--fill-color);\n",
              "    }\n",
              "    60% {\n",
              "      border-color: transparent;\n",
              "      border-right-color: var(--fill-color);\n",
              "    }\n",
              "    80% {\n",
              "      border-color: transparent;\n",
              "      border-right-color: var(--fill-color);\n",
              "      border-bottom-color: var(--fill-color);\n",
              "    }\n",
              "    90% {\n",
              "      border-color: transparent;\n",
              "      border-bottom-color: var(--fill-color);\n",
              "    }\n",
              "  }\n",
              "</style>\n",
              "\n",
              "  <script>\n",
              "    async function quickchart(key) {\n",
              "      const quickchartButtonEl =\n",
              "        document.querySelector('#' + key + ' button');\n",
              "      quickchartButtonEl.disabled = true;  // To prevent multiple clicks.\n",
              "      quickchartButtonEl.classList.add('colab-df-spinner');\n",
              "      try {\n",
              "        const charts = await google.colab.kernel.invokeFunction(\n",
              "            'suggestCharts', [key], {});\n",
              "      } catch (error) {\n",
              "        console.error('Error during call to suggestCharts:', error);\n",
              "      }\n",
              "      quickchartButtonEl.classList.remove('colab-df-spinner');\n",
              "      quickchartButtonEl.classList.add('colab-df-quickchart-complete');\n",
              "    }\n",
              "    (() => {\n",
              "      let quickchartButtonEl =\n",
              "        document.querySelector('#df-ed3c7845-70f4-426b-9bc3-42c47f97eedc button');\n",
              "      quickchartButtonEl.style.display =\n",
              "        google.colab.kernel.accessAllowed ? 'block' : 'none';\n",
              "    })();\n",
              "  </script>\n",
              "</div>\n",
              "\n",
              "  <div id=\"id_97c907a6-6a9e-4bef-9e1a-ac1caeeda984\">\n",
              "    <style>\n",
              "      .colab-df-generate {\n",
              "        background-color: #E8F0FE;\n",
              "        border: none;\n",
              "        border-radius: 50%;\n",
              "        cursor: pointer;\n",
              "        display: none;\n",
              "        fill: #1967D2;\n",
              "        height: 32px;\n",
              "        padding: 0 0 0 0;\n",
              "        width: 32px;\n",
              "      }\n",
              "\n",
              "      .colab-df-generate:hover {\n",
              "        background-color: #E2EBFA;\n",
              "        box-shadow: 0px 1px 2px rgba(60, 64, 67, 0.3), 0px 1px 3px 1px rgba(60, 64, 67, 0.15);\n",
              "        fill: #174EA6;\n",
              "      }\n",
              "\n",
              "      [theme=dark] .colab-df-generate {\n",
              "        background-color: #3B4455;\n",
              "        fill: #D2E3FC;\n",
              "      }\n",
              "\n",
              "      [theme=dark] .colab-df-generate:hover {\n",
              "        background-color: #434B5C;\n",
              "        box-shadow: 0px 1px 3px 1px rgba(0, 0, 0, 0.15);\n",
              "        filter: drop-shadow(0px 1px 2px rgba(0, 0, 0, 0.3));\n",
              "        fill: #FFFFFF;\n",
              "      }\n",
              "    </style>\n",
              "    <button class=\"colab-df-generate\" onclick=\"generateWithVariable('df11')\"\n",
              "            title=\"Generate code using this dataframe.\"\n",
              "            style=\"display:none;\">\n",
              "\n",
              "  <svg xmlns=\"http://www.w3.org/2000/svg\" height=\"24px\"viewBox=\"0 0 24 24\"\n",
              "       width=\"24px\">\n",
              "    <path d=\"M7,19H8.4L18.45,9,17,7.55,7,17.6ZM5,21V16.75L18.45,3.32a2,2,0,0,1,2.83,0l1.4,1.43a1.91,1.91,0,0,1,.58,1.4,1.91,1.91,0,0,1-.58,1.4L9.25,21ZM18.45,9,17,7.55Zm-12,3A5.31,5.31,0,0,0,4.9,8.1,5.31,5.31,0,0,0,1,6.5,5.31,5.31,0,0,0,4.9,4.9,5.31,5.31,0,0,0,6.5,1,5.31,5.31,0,0,0,8.1,4.9,5.31,5.31,0,0,0,12,6.5,5.46,5.46,0,0,0,6.5,12Z\"/>\n",
              "  </svg>\n",
              "    </button>\n",
              "    <script>\n",
              "      (() => {\n",
              "      const buttonEl =\n",
              "        document.querySelector('#id_97c907a6-6a9e-4bef-9e1a-ac1caeeda984 button.colab-df-generate');\n",
              "      buttonEl.style.display =\n",
              "        google.colab.kernel.accessAllowed ? 'block' : 'none';\n",
              "\n",
              "      buttonEl.onclick = () => {\n",
              "        google.colab.notebook.generateWithVariable('df11');\n",
              "      }\n",
              "      })();\n",
              "    </script>\n",
              "  </div>\n",
              "\n",
              "    </div>\n",
              "  </div>\n"
            ],
            "application/vnd.google.colaboratory.intrinsic+json": {
              "type": "dataframe",
              "variable_name": "df11",
              "summary": "{\n  \"name\": \"df11\",\n  \"rows\": 4,\n  \"fields\": [\n    {\n      \"column\": \"\\u696d\\u52d9\\u55ae\\u4f4d\",\n      \"properties\": {\n        \"dtype\": \"string\",\n        \"num_unique_values\": 4,\n        \"samples\": [\n          \"\\u696d\\u52d92\",\n          \"\\u696d\\u52d94\",\n          \"\\u696d\\u52d91\"\n        ],\n        \"semantic_type\": \"\",\n        \"description\": \"\"\n      }\n    },\n    {\n      \"column\": \"\\u92b7\\u552e\\u7e3d\\u91cf\",\n      \"properties\": {\n        \"dtype\": \"number\",\n        \"std\": 69794,\n        \"min\": 2901936,\n        \"max\": 3063210,\n        \"num_unique_values\": 4,\n        \"samples\": [\n          3063210,\n          2935313,\n          2901936\n        ],\n        \"semantic_type\": \"\",\n        \"description\": \"\"\n      }\n    },\n    {\n      \"column\": \"\\u92b7\\u552e\\u7e3d\\u91d1\\u984d\",\n      \"properties\": {\n        \"dtype\": \"number\",\n        \"std\": 11934502,\n        \"min\": 17242096,\n        \"max\": 41849234,\n        \"num_unique_values\": 4,\n        \"samples\": [\n          18533423,\n          18242087,\n          41849234\n        ],\n        \"semantic_type\": \"\",\n        \"description\": \"\"\n      }\n    }\n  ]\n}"
            }
          },
          "metadata": {},
          "execution_count": 116
        }
      ]
    },
    {
      "cell_type": "code",
      "source": [
        "#(2)繪圖：標註左右刻度\n",
        "ax=df11.plot(kind=\"bar\",legend=True, rot=0,secondary_y='銷售總金額', figsize=(10,6))\n",
        "ax.set_xlabel('業務單位')\n",
        "ax.set_ylabel('銷售總量')\n",
        "ax.right_ax.set_ylabel('銷售總金額')\n",
        "plt.show()\n"
      ],
      "metadata": {
        "id": "EpP_FaQTe-k9",
        "colab": {
          "base_uri": "https://localhost:8080/",
          "height": 557
        },
        "outputId": "e0c98874-a008-4777-b171-92704da7b380"
      },
      "execution_count": null,
      "outputs": [
        {
          "output_type": "display_data",
          "data": {
            "text/plain": [
              "<Figure size 1000x600 with 2 Axes>"
            ],
            "image/png": "[encoded data removed]"
          },
          "metadata": {}
        }
      ]
    },
    {
      "cell_type": "code",
      "source": [
        "#(3)繪圖：分割成上下圖\n",
        "df11.plot(kind=\"bar\",legend=True, subplots=True ,rot=0, figsize=(10,6))\n",
        "plt.xlabel('業務單位')\n",
        "plt.show()"
      ],
      "metadata": {
        "id": "kPGePgNOgZ-H",
        "colab": {
          "base_uri": "https://localhost:8080/",
          "height": 564
        },
        "outputId": "512f0dae-e9c3-4b7e-ea24-1330ca1565d4"
      },
      "execution_count": null,
      "outputs": [
        {
          "output_type": "display_data",
          "data": {
            "text/plain": [
              "<Figure size 1000x600 with 2 Axes>"
            ],
            "image/png": "[encoded data removed]"
          },
          "metadata": {}
        }
      ]
    },
    {
      "cell_type": "code",
      "source": [
        "#(4)繪圖：堆疊圖\n",
        "df11.plot(kind=\"bar\",legend=True, stacked=True ,rot=0, figsize=(10,6))\n",
        "plt.xlabel('業務單位')\n",
        "plt.show()"
      ],
      "metadata": {
        "id": "gfkIzBl_grhQ",
        "colab": {
          "base_uri": "https://localhost:8080/",
          "height": 557
        },
        "outputId": "0cf3696b-be99-4822-98bf-8f5524fd818b"
      },
      "execution_count": null,
      "outputs": [
        {
          "output_type": "display_data",
          "data": {
            "text/plain": [
              "<Figure size 1000x600 with 1 Axes>"
            ],
            "image/png": "[encoded data removed]"
          },
          "metadata": {}
        }
      ]
    },
    {
      "cell_type": "markdown",
      "source": [
        "---\n",
        "#**11.第11個分析【依照性別做強弱項分析】：每一位業務員的年度銷售總金額，排序，高到低**\n",
        "\n",
        "讀取自己雲端的檔案"
      ],
      "metadata": {
        "id": "hEutjBIChMlt"
      }
    },
    {
      "cell_type": "code",
      "source": [
        "#(1)根據『男女/業務員』分群，顯示『銷售數量，銷售金額』，\n",
        "#再依照銷售金額排序（高到低），並標註名次：\n",
        "df11=df2_1.groupby(['性別','業務員']).agg({'銷售數量':'sum','銷售金額':'sum'})\n",
        "df11['名次']=df11['銷售金額'].rank(ascending=False)\n",
        "df11=df11.sort_values(['性別', '銷售金額','名次'],ascending=[False, False, True])\n",
        "df11.style.format('{:,.0f}',subset=['銷售數量','銷售金額','名次'])"
      ],
      "metadata": {
        "id": "bp5SfdxKhYsx",
        "colab": {
          "base_uri": "https://localhost:8080/",
          "height": 582
        },
        "outputId": "9f9f5ebb-4d81-4497-bace-4ea703e38eb7"
      },
      "execution_count": null,
      "outputs": [
        {
          "output_type": "execute_result",
          "data": {
            "text/plain": [
              "<pandas.io.formats.style.Styler at 0x7b3b011a49a0>"
            ],
            "text/html": [
              "<style type=\"text/css\">\n",
              "</style>\n",
              "<table id=\"T_168f8\" class=\"dataframe\">\n",
              "  <thead>\n",
              "    <tr>\n",
              "      <th class=\"blank\" >&nbsp;</th>\n",
              "      <th class=\"blank level0\" >&nbsp;</th>\n",
              "      <th id=\"T_168f8_level0_col0\" class=\"col_heading level0 col0\" >銷售數量</th>\n",
              "      <th id=\"T_168f8_level0_col1\" class=\"col_heading level0 col1\" >銷售金額</th>\n",
              "      <th id=\"T_168f8_level0_col2\" class=\"col_heading level0 col2\" >名次</th>\n",
              "    </tr>\n",
              "    <tr>\n",
              "      <th class=\"index_name level0\" >性別</th>\n",
              "      <th class=\"index_name level1\" >業務員</th>\n",
              "      <th class=\"blank col0\" >&nbsp;</th>\n",
              "      <th class=\"blank col1\" >&nbsp;</th>\n",
              "      <th class=\"blank col2\" >&nbsp;</th>\n",
              "    </tr>\n",
              "  </thead>\n",
              "  <tbody>\n",
              "    <tr>\n",
              "      <th id=\"T_168f8_level0_row0\" class=\"row_heading level0 row0\" rowspan=\"12\">男</th>\n",
              "      <th id=\"T_168f8_level1_row0\" class=\"row_heading level1 row0\" >Thomas</th>\n",
              "      <td id=\"T_168f8_row0_col0\" class=\"data row0 col0\" >442,293</td>\n",
              "      <td id=\"T_168f8_row0_col1\" class=\"data row0 col1\" >9,817,364</td>\n",
              "      <td id=\"T_168f8_row0_col2\" class=\"data row0 col2\" >2</td>\n",
              "    </tr>\n",
              "    <tr>\n",
              "      <th id=\"T_168f8_level1_row1\" class=\"row_heading level1 row1\" >Jorden</th>\n",
              "      <td id=\"T_168f8_row1_col0\" class=\"data row1 col0\" >948,545</td>\n",
              "      <td id=\"T_168f8_row1_col1\" class=\"data row1 col1\" >9,412,480</td>\n",
              "      <td id=\"T_168f8_row1_col2\" class=\"data row1 col2\" >3</td>\n",
              "    </tr>\n",
              "    <tr>\n",
              "      <th id=\"T_168f8_level1_row2\" class=\"row_heading level1 row2\" >John</th>\n",
              "      <td id=\"T_168f8_row2_col0\" class=\"data row2 col0\" >671,973</td>\n",
              "      <td id=\"T_168f8_row2_col1\" class=\"data row2 col1\" >8,478,300</td>\n",
              "      <td id=\"T_168f8_row2_col2\" class=\"data row2 col2\" >4</td>\n",
              "    </tr>\n",
              "    <tr>\n",
              "      <th id=\"T_168f8_level1_row3\" class=\"row_heading level1 row3\" >Steve</th>\n",
              "      <td id=\"T_168f8_row3_col0\" class=\"data row3 col0\" >803,895</td>\n",
              "      <td id=\"T_168f8_row3_col1\" class=\"data row3 col1\" >5,560,626</td>\n",
              "      <td id=\"T_168f8_row3_col2\" class=\"data row3 col2\" >5</td>\n",
              "    </tr>\n",
              "    <tr>\n",
              "      <th id=\"T_168f8_level1_row4\" class=\"row_heading level1 row4\" >Allen</th>\n",
              "      <td id=\"T_168f8_row4_col0\" class=\"data row4 col0\" >893,733</td>\n",
              "      <td id=\"T_168f8_row4_col1\" class=\"data row4 col1\" >5,356,577</td>\n",
              "      <td id=\"T_168f8_row4_col2\" class=\"data row4 col2\" >8</td>\n",
              "    </tr>\n",
              "    <tr>\n",
              "      <th id=\"T_168f8_level1_row5\" class=\"row_heading level1 row5\" >Roger</th>\n",
              "      <td id=\"T_168f8_row5_col0\" class=\"data row5 col0\" >836,544</td>\n",
              "      <td id=\"T_168f8_row5_col1\" class=\"data row5 col1\" >5,058,574</td>\n",
              "      <td id=\"T_168f8_row5_col2\" class=\"data row5 col2\" >9</td>\n",
              "    </tr>\n",
              "    <tr>\n",
              "      <th id=\"T_168f8_level1_row6\" class=\"row_heading level1 row6\" >Peter</th>\n",
              "      <td id=\"T_168f8_row6_col0\" class=\"data row6 col0\" >778,186</td>\n",
              "      <td id=\"T_168f8_row6_col1\" class=\"data row6 col1\" >4,482,221</td>\n",
              "      <td id=\"T_168f8_row6_col2\" class=\"data row6 col2\" >11</td>\n",
              "    </tr>\n",
              "    <tr>\n",
              "      <th id=\"T_168f8_level1_row7\" class=\"row_heading level1 row7\" >Chris</th>\n",
              "      <td id=\"T_168f8_row7_col0\" class=\"data row7 col0\" >536,339</td>\n",
              "      <td id=\"T_168f8_row7_col1\" class=\"data row7 col1\" >4,068,670</td>\n",
              "      <td id=\"T_168f8_row7_col2\" class=\"data row7 col2\" >12</td>\n",
              "    </tr>\n",
              "    <tr>\n",
              "      <th id=\"T_168f8_level1_row8\" class=\"row_heading level1 row8\" >Robin</th>\n",
              "      <td id=\"T_168f8_row8_col0\" class=\"data row8 col0\" >537,077</td>\n",
              "      <td id=\"T_168f8_row8_col1\" class=\"data row8 col1\" >3,862,438</td>\n",
              "      <td id=\"T_168f8_row8_col2\" class=\"data row8 col2\" >13</td>\n",
              "    </tr>\n",
              "    <tr>\n",
              "      <th id=\"T_168f8_level1_row9\" class=\"row_heading level1 row9\" >Sam</th>\n",
              "      <td id=\"T_168f8_row9_col0\" class=\"data row9 col0\" >856,621</td>\n",
              "      <td id=\"T_168f8_row9_col1\" class=\"data row9 col1\" >3,506,904</td>\n",
              "      <td id=\"T_168f8_row9_col2\" class=\"data row9 col2\" >14</td>\n",
              "    </tr>\n",
              "    <tr>\n",
              "      <th id=\"T_168f8_level1_row10\" class=\"row_heading level1 row10\" >Alisa</th>\n",
              "      <td id=\"T_168f8_row10_col0\" class=\"data row10 col0\" >666,390</td>\n",
              "      <td id=\"T_168f8_row10_col1\" class=\"data row10 col1\" >3,440,513</td>\n",
              "      <td id=\"T_168f8_row10_col2\" class=\"data row10 col2\" >15</td>\n",
              "    </tr>\n",
              "    <tr>\n",
              "      <th id=\"T_168f8_level1_row11\" class=\"row_heading level1 row11\" >Mary</th>\n",
              "      <td id=\"T_168f8_row11_col0\" class=\"data row11 col0\" >425,235</td>\n",
              "      <td id=\"T_168f8_row11_col1\" class=\"data row11 col1\" >2,817,989</td>\n",
              "      <td id=\"T_168f8_row11_col2\" class=\"data row11 col2\" >16</td>\n",
              "    </tr>\n",
              "    <tr>\n",
              "      <th id=\"T_168f8_level0_row12\" class=\"row_heading level0 row12\" rowspan=\"4\">女</th>\n",
              "      <th id=\"T_168f8_level1_row12\" class=\"row_heading level1 row12\" >Terry</th>\n",
              "      <td id=\"T_168f8_row12_col0\" class=\"data row12 col0\" >839,125</td>\n",
              "      <td id=\"T_168f8_row12_col1\" class=\"data row12 col1\" >14,141,090</td>\n",
              "      <td id=\"T_168f8_row12_col2\" class=\"data row12 col2\" >1</td>\n",
              "    </tr>\n",
              "    <tr>\n",
              "      <th id=\"T_168f8_level1_row13\" class=\"row_heading level1 row13\" >Eric</th>\n",
              "      <td id=\"T_168f8_row13_col0\" class=\"data row13 col0\" >782,090</td>\n",
              "      <td id=\"T_168f8_row13_col1\" class=\"data row13 col1\" >5,552,115</td>\n",
              "      <td id=\"T_168f8_row13_col2\" class=\"data row13 col2\" >6</td>\n",
              "    </tr>\n",
              "    <tr>\n",
              "      <th id=\"T_168f8_level1_row14\" class=\"row_heading level1 row14\" >Simon</th>\n",
              "      <td id=\"T_168f8_row14_col0\" class=\"data row14 col0\" >823,716</td>\n",
              "      <td id=\"T_168f8_row14_col1\" class=\"data row14 col1\" >5,363,826</td>\n",
              "      <td id=\"T_168f8_row14_col2\" class=\"data row14 col2\" >7</td>\n",
              "    </tr>\n",
              "    <tr>\n",
              "      <th id=\"T_168f8_level1_row15\" class=\"row_heading level1 row15\" >Coby</th>\n",
              "      <td id=\"T_168f8_row15_col0\" class=\"data row15 col0\" >1,038,181</td>\n",
              "      <td id=\"T_168f8_row15_col1\" class=\"data row15 col1\" >4,947,153</td>\n",
              "      <td id=\"T_168f8_row15_col2\" class=\"data row15 col2\" >10</td>\n",
              "    </tr>\n",
              "  </tbody>\n",
              "</table>\n"
            ]
          },
          "metadata": {},
          "execution_count": 120
        }
      ]
    },
    {
      "cell_type": "code",
      "source": [
        "#(2)強項分析：找出男生最強前3，女生最強前3\n",
        "df11=df2_1.groupby(['性別','業務員']).agg({'銷售數量':'sum','銷售金額':'sum'})\n",
        "df11['名次']=df11['銷售金額'].rank(ascending=False)\n",
        "df11=df11.sort_values(['性別', '銷售金額','名次'],ascending=[False, False, True])\n",
        "df11=df11.groupby('性別').head(3)\n",
        "df11.style.format('{:,.0f}',subset=['銷售數量','銷售金額','名次'])"
      ],
      "metadata": {
        "id": "jlKaGxM-jGAu",
        "colab": {
          "base_uri": "https://localhost:8080/",
          "height": 269
        },
        "outputId": "5b688dfb-6412-4f70-ee89-937b362b31f5"
      },
      "execution_count": null,
      "outputs": [
        {
          "output_type": "execute_result",
          "data": {
            "text/plain": [
              "<pandas.io.formats.style.Styler at 0x7b3af3619ea0>"
            ],
            "text/html": [
              "<style type=\"text/css\">\n",
              "</style>\n",
              "<table id=\"T_23cf1\" class=\"dataframe\">\n",
              "  <thead>\n",
              "    <tr>\n",
              "      <th class=\"blank\" >&nbsp;</th>\n",
              "      <th class=\"blank level0\" >&nbsp;</th>\n",
              "      <th id=\"T_23cf1_level0_col0\" class=\"col_heading level0 col0\" >銷售數量</th>\n",
              "      <th id=\"T_23cf1_level0_col1\" class=\"col_heading level0 col1\" >銷售金額</th>\n",
              "      <th id=\"T_23cf1_level0_col2\" class=\"col_heading level0 col2\" >名次</th>\n",
              "    </tr>\n",
              "    <tr>\n",
              "      <th class=\"index_name level0\" >性別</th>\n",
              "      <th class=\"index_name level1\" >業務員</th>\n",
              "      <th class=\"blank col0\" >&nbsp;</th>\n",
              "      <th class=\"blank col1\" >&nbsp;</th>\n",
              "      <th class=\"blank col2\" >&nbsp;</th>\n",
              "    </tr>\n",
              "  </thead>\n",
              "  <tbody>\n",
              "    <tr>\n",
              "      <th id=\"T_23cf1_level0_row0\" class=\"row_heading level0 row0\" rowspan=\"3\">男</th>\n",
              "      <th id=\"T_23cf1_level1_row0\" class=\"row_heading level1 row0\" >Thomas</th>\n",
              "      <td id=\"T_23cf1_row0_col0\" class=\"data row0 col0\" >442,293</td>\n",
              "      <td id=\"T_23cf1_row0_col1\" class=\"data row0 col1\" >9,817,364</td>\n",
              "      <td id=\"T_23cf1_row0_col2\" class=\"data row0 col2\" >2</td>\n",
              "    </tr>\n",
              "    <tr>\n",
              "      <th id=\"T_23cf1_level1_row1\" class=\"row_heading level1 row1\" >Jorden</th>\n",
              "      <td id=\"T_23cf1_row1_col0\" class=\"data row1 col0\" >948,545</td>\n",
              "      <td id=\"T_23cf1_row1_col1\" class=\"data row1 col1\" >9,412,480</td>\n",
              "      <td id=\"T_23cf1_row1_col2\" class=\"data row1 col2\" >3</td>\n",
              "    </tr>\n",
              "    <tr>\n",
              "      <th id=\"T_23cf1_level1_row2\" class=\"row_heading level1 row2\" >John</th>\n",
              "      <td id=\"T_23cf1_row2_col0\" class=\"data row2 col0\" >671,973</td>\n",
              "      <td id=\"T_23cf1_row2_col1\" class=\"data row2 col1\" >8,478,300</td>\n",
              "      <td id=\"T_23cf1_row2_col2\" class=\"data row2 col2\" >4</td>\n",
              "    </tr>\n",
              "    <tr>\n",
              "      <th id=\"T_23cf1_level0_row3\" class=\"row_heading level0 row3\" rowspan=\"3\">女</th>\n",
              "      <th id=\"T_23cf1_level1_row3\" class=\"row_heading level1 row3\" >Terry</th>\n",
              "      <td id=\"T_23cf1_row3_col0\" class=\"data row3 col0\" >839,125</td>\n",
              "      <td id=\"T_23cf1_row3_col1\" class=\"data row3 col1\" >14,141,090</td>\n",
              "      <td id=\"T_23cf1_row3_col2\" class=\"data row3 col2\" >1</td>\n",
              "    </tr>\n",
              "    <tr>\n",
              "      <th id=\"T_23cf1_level1_row4\" class=\"row_heading level1 row4\" >Eric</th>\n",
              "      <td id=\"T_23cf1_row4_col0\" class=\"data row4 col0\" >782,090</td>\n",
              "      <td id=\"T_23cf1_row4_col1\" class=\"data row4 col1\" >5,552,115</td>\n",
              "      <td id=\"T_23cf1_row4_col2\" class=\"data row4 col2\" >6</td>\n",
              "    </tr>\n",
              "    <tr>\n",
              "      <th id=\"T_23cf1_level1_row5\" class=\"row_heading level1 row5\" >Simon</th>\n",
              "      <td id=\"T_23cf1_row5_col0\" class=\"data row5 col0\" >823,716</td>\n",
              "      <td id=\"T_23cf1_row5_col1\" class=\"data row5 col1\" >5,363,826</td>\n",
              "      <td id=\"T_23cf1_row5_col2\" class=\"data row5 col2\" >7</td>\n",
              "    </tr>\n",
              "  </tbody>\n",
              "</table>\n"
            ]
          },
          "metadata": {},
          "execution_count": 121
        }
      ]
    },
    {
      "cell_type": "code",
      "source": [
        "#(3)弱項分析：找出男生最弱3名，女生最弱3名\n",
        "df11=df2_1.groupby(['性別','業務員']).agg({'銷售數量':'sum','銷售金額':'sum'})\n",
        "df11['名次']=df11['銷售金額'].rank(ascending=False)\n",
        "df11=df11.sort_values(['性別', '銷售金額','名次'],ascending=[False, False, True])\n",
        "df11=df11.groupby('性別').tail(3)\n",
        "df11.style.format('{:,.0f}',subset=['銷售數量','銷售金額','名次'])"
      ],
      "metadata": {
        "id": "Bi9tYGaHkH3u",
        "colab": {
          "base_uri": "https://localhost:8080/",
          "height": 269
        },
        "outputId": "2480a87e-6817-41c8-ab1a-cce2fc52b068"
      },
      "execution_count": null,
      "outputs": [
        {
          "output_type": "execute_result",
          "data": {
            "text/plain": [
              "<pandas.io.formats.style.Styler at 0x7b3af362afe0>"
            ],
            "text/html": [
              "<style type=\"text/css\">\n",
              "</style>\n",
              "<table id=\"T_98e12\" class=\"dataframe\">\n",
              "  <thead>\n",
              "    <tr>\n",
              "      <th class=\"blank\" >&nbsp;</th>\n",
              "      <th class=\"blank level0\" >&nbsp;</th>\n",
              "      <th id=\"T_98e12_level0_col0\" class=\"col_heading level0 col0\" >銷售數量</th>\n",
              "      <th id=\"T_98e12_level0_col1\" class=\"col_heading level0 col1\" >銷售金額</th>\n",
              "      <th id=\"T_98e12_level0_col2\" class=\"col_heading level0 col2\" >名次</th>\n",
              "    </tr>\n",
              "    <tr>\n",
              "      <th class=\"index_name level0\" >性別</th>\n",
              "      <th class=\"index_name level1\" >業務員</th>\n",
              "      <th class=\"blank col0\" >&nbsp;</th>\n",
              "      <th class=\"blank col1\" >&nbsp;</th>\n",
              "      <th class=\"blank col2\" >&nbsp;</th>\n",
              "    </tr>\n",
              "  </thead>\n",
              "  <tbody>\n",
              "    <tr>\n",
              "      <th id=\"T_98e12_level0_row0\" class=\"row_heading level0 row0\" rowspan=\"3\">男</th>\n",
              "      <th id=\"T_98e12_level1_row0\" class=\"row_heading level1 row0\" >Sam</th>\n",
              "      <td id=\"T_98e12_row0_col0\" class=\"data row0 col0\" >856,621</td>\n",
              "      <td id=\"T_98e12_row0_col1\" class=\"data row0 col1\" >3,506,904</td>\n",
              "      <td id=\"T_98e12_row0_col2\" class=\"data row0 col2\" >14</td>\n",
              "    </tr>\n",
              "    <tr>\n",
              "      <th id=\"T_98e12_level1_row1\" class=\"row_heading level1 row1\" >Alisa</th>\n",
              "      <td id=\"T_98e12_row1_col0\" class=\"data row1 col0\" >666,390</td>\n",
              "      <td id=\"T_98e12_row1_col1\" class=\"data row1 col1\" >3,440,513</td>\n",
              "      <td id=\"T_98e12_row1_col2\" class=\"data row1 col2\" >15</td>\n",
              "    </tr>\n",
              "    <tr>\n",
              "      <th id=\"T_98e12_level1_row2\" class=\"row_heading level1 row2\" >Mary</th>\n",
              "      <td id=\"T_98e12_row2_col0\" class=\"data row2 col0\" >425,235</td>\n",
              "      <td id=\"T_98e12_row2_col1\" class=\"data row2 col1\" >2,817,989</td>\n",
              "      <td id=\"T_98e12_row2_col2\" class=\"data row2 col2\" >16</td>\n",
              "    </tr>\n",
              "    <tr>\n",
              "      <th id=\"T_98e12_level0_row3\" class=\"row_heading level0 row3\" rowspan=\"3\">女</th>\n",
              "      <th id=\"T_98e12_level1_row3\" class=\"row_heading level1 row3\" >Eric</th>\n",
              "      <td id=\"T_98e12_row3_col0\" class=\"data row3 col0\" >782,090</td>\n",
              "      <td id=\"T_98e12_row3_col1\" class=\"data row3 col1\" >5,552,115</td>\n",
              "      <td id=\"T_98e12_row3_col2\" class=\"data row3 col2\" >6</td>\n",
              "    </tr>\n",
              "    <tr>\n",
              "      <th id=\"T_98e12_level1_row4\" class=\"row_heading level1 row4\" >Simon</th>\n",
              "      <td id=\"T_98e12_row4_col0\" class=\"data row4 col0\" >823,716</td>\n",
              "      <td id=\"T_98e12_row4_col1\" class=\"data row4 col1\" >5,363,826</td>\n",
              "      <td id=\"T_98e12_row4_col2\" class=\"data row4 col2\" >7</td>\n",
              "    </tr>\n",
              "    <tr>\n",
              "      <th id=\"T_98e12_level1_row5\" class=\"row_heading level1 row5\" >Coby</th>\n",
              "      <td id=\"T_98e12_row5_col0\" class=\"data row5 col0\" >1,038,181</td>\n",
              "      <td id=\"T_98e12_row5_col1\" class=\"data row5 col1\" >4,947,153</td>\n",
              "      <td id=\"T_98e12_row5_col2\" class=\"data row5 col2\" >10</td>\n",
              "    </tr>\n",
              "  </tbody>\n",
              "</table>\n"
            ]
          },
          "metadata": {},
          "execution_count": 122
        }
      ]
    },
    {
      "cell_type": "markdown",
      "source": [
        "---\n",
        "#**12.第12個分析【依照業務單位做強弱項分析】：每一位業務員的年度銷售總金額，排序，高到低**\n",
        "\n",
        "讀取自己雲端的檔案"
      ],
      "metadata": {
        "id": "3oBmlM18kea3"
      }
    },
    {
      "cell_type": "code",
      "source": [
        "#(1)根據『業務單位/業務員』分群，顯示『銷售數量，銷售金額』，\n",
        "#再依照銷售金額排序（高到低），並標註名次：\n",
        "df11=df2_1.groupby(['業務單位','業務員']).agg({'銷售數量':'sum','銷售金額':'sum'})\n",
        "df11['名次']=df11['銷售金額'].rank(ascending=False)\n",
        "df11=df11.sort_values(['業務單位', '銷售金額','名次'],ascending=[False, False, True])\n",
        "df11.style.format('{:,.0f}',subset=['銷售數量','銷售金額','名次'])"
      ],
      "metadata": {
        "id": "zfZh9ThPki1m",
        "colab": {
          "base_uri": "https://localhost:8080/",
          "height": 582
        },
        "outputId": "b5cc00f7-241c-45be-df1a-693e86881d63"
      },
      "execution_count": null,
      "outputs": [
        {
          "output_type": "execute_result",
          "data": {
            "text/plain": [
              "<pandas.io.formats.style.Styler at 0x7b3af3dcc3a0>"
            ],
            "text/html": [
              "<style type=\"text/css\">\n",
              "</style>\n",
              "<table id=\"T_5ccf3\" class=\"dataframe\">\n",
              "  <thead>\n",
              "    <tr>\n",
              "      <th class=\"blank\" >&nbsp;</th>\n",
              "      <th class=\"blank level0\" >&nbsp;</th>\n",
              "      <th id=\"T_5ccf3_level0_col0\" class=\"col_heading level0 col0\" >銷售數量</th>\n",
              "      <th id=\"T_5ccf3_level0_col1\" class=\"col_heading level0 col1\" >銷售金額</th>\n",
              "      <th id=\"T_5ccf3_level0_col2\" class=\"col_heading level0 col2\" >名次</th>\n",
              "    </tr>\n",
              "    <tr>\n",
              "      <th class=\"index_name level0\" >業務單位</th>\n",
              "      <th class=\"index_name level1\" >業務員</th>\n",
              "      <th class=\"blank col0\" >&nbsp;</th>\n",
              "      <th class=\"blank col1\" >&nbsp;</th>\n",
              "      <th class=\"blank col2\" >&nbsp;</th>\n",
              "    </tr>\n",
              "  </thead>\n",
              "  <tbody>\n",
              "    <tr>\n",
              "      <th id=\"T_5ccf3_level0_row0\" class=\"row_heading level0 row0\" rowspan=\"4\">業務4</th>\n",
              "      <th id=\"T_5ccf3_level1_row0\" class=\"row_heading level1 row0\" >Simon</th>\n",
              "      <td id=\"T_5ccf3_row0_col0\" class=\"data row0 col0\" >823,716</td>\n",
              "      <td id=\"T_5ccf3_row0_col1\" class=\"data row0 col1\" >5,363,826</td>\n",
              "      <td id=\"T_5ccf3_row0_col2\" class=\"data row0 col2\" >7</td>\n",
              "    </tr>\n",
              "    <tr>\n",
              "      <th id=\"T_5ccf3_level1_row1\" class=\"row_heading level1 row1\" >Coby</th>\n",
              "      <td id=\"T_5ccf3_row1_col0\" class=\"data row1 col0\" >1,038,181</td>\n",
              "      <td id=\"T_5ccf3_row1_col1\" class=\"data row1 col1\" >4,947,153</td>\n",
              "      <td id=\"T_5ccf3_row1_col2\" class=\"data row1 col2\" >10</td>\n",
              "    </tr>\n",
              "    <tr>\n",
              "      <th id=\"T_5ccf3_level1_row2\" class=\"row_heading level1 row2\" >Chris</th>\n",
              "      <td id=\"T_5ccf3_row2_col0\" class=\"data row2 col0\" >536,339</td>\n",
              "      <td id=\"T_5ccf3_row2_col1\" class=\"data row2 col1\" >4,068,670</td>\n",
              "      <td id=\"T_5ccf3_row2_col2\" class=\"data row2 col2\" >12</td>\n",
              "    </tr>\n",
              "    <tr>\n",
              "      <th id=\"T_5ccf3_level1_row3\" class=\"row_heading level1 row3\" >Robin</th>\n",
              "      <td id=\"T_5ccf3_row3_col0\" class=\"data row3 col0\" >537,077</td>\n",
              "      <td id=\"T_5ccf3_row3_col1\" class=\"data row3 col1\" >3,862,438</td>\n",
              "      <td id=\"T_5ccf3_row3_col2\" class=\"data row3 col2\" >13</td>\n",
              "    </tr>\n",
              "    <tr>\n",
              "      <th id=\"T_5ccf3_level0_row4\" class=\"row_heading level0 row4\" rowspan=\"4\">業務3</th>\n",
              "      <th id=\"T_5ccf3_level1_row4\" class=\"row_heading level1 row4\" >Steve</th>\n",
              "      <td id=\"T_5ccf3_row4_col0\" class=\"data row4 col0\" >803,895</td>\n",
              "      <td id=\"T_5ccf3_row4_col1\" class=\"data row4 col1\" >5,560,626</td>\n",
              "      <td id=\"T_5ccf3_row4_col2\" class=\"data row4 col2\" >5</td>\n",
              "    </tr>\n",
              "    <tr>\n",
              "      <th id=\"T_5ccf3_level1_row5\" class=\"row_heading level1 row5\" >Allen</th>\n",
              "      <td id=\"T_5ccf3_row5_col0\" class=\"data row5 col0\" >893,733</td>\n",
              "      <td id=\"T_5ccf3_row5_col1\" class=\"data row5 col1\" >5,356,577</td>\n",
              "      <td id=\"T_5ccf3_row5_col2\" class=\"data row5 col2\" >8</td>\n",
              "    </tr>\n",
              "    <tr>\n",
              "      <th id=\"T_5ccf3_level1_row6\" class=\"row_heading level1 row6\" >Sam</th>\n",
              "      <td id=\"T_5ccf3_row6_col0\" class=\"data row6 col0\" >856,621</td>\n",
              "      <td id=\"T_5ccf3_row6_col1\" class=\"data row6 col1\" >3,506,904</td>\n",
              "      <td id=\"T_5ccf3_row6_col2\" class=\"data row6 col2\" >14</td>\n",
              "    </tr>\n",
              "    <tr>\n",
              "      <th id=\"T_5ccf3_level1_row7\" class=\"row_heading level1 row7\" >Mary</th>\n",
              "      <td id=\"T_5ccf3_row7_col0\" class=\"data row7 col0\" >425,235</td>\n",
              "      <td id=\"T_5ccf3_row7_col1\" class=\"data row7 col1\" >2,817,989</td>\n",
              "      <td id=\"T_5ccf3_row7_col2\" class=\"data row7 col2\" >16</td>\n",
              "    </tr>\n",
              "    <tr>\n",
              "      <th id=\"T_5ccf3_level0_row8\" class=\"row_heading level0 row8\" rowspan=\"4\">業務2</th>\n",
              "      <th id=\"T_5ccf3_level1_row8\" class=\"row_heading level1 row8\" >Eric</th>\n",
              "      <td id=\"T_5ccf3_row8_col0\" class=\"data row8 col0\" >782,090</td>\n",
              "      <td id=\"T_5ccf3_row8_col1\" class=\"data row8 col1\" >5,552,115</td>\n",
              "      <td id=\"T_5ccf3_row8_col2\" class=\"data row8 col2\" >6</td>\n",
              "    </tr>\n",
              "    <tr>\n",
              "      <th id=\"T_5ccf3_level1_row9\" class=\"row_heading level1 row9\" >Roger</th>\n",
              "      <td id=\"T_5ccf3_row9_col0\" class=\"data row9 col0\" >836,544</td>\n",
              "      <td id=\"T_5ccf3_row9_col1\" class=\"data row9 col1\" >5,058,574</td>\n",
              "      <td id=\"T_5ccf3_row9_col2\" class=\"data row9 col2\" >9</td>\n",
              "    </tr>\n",
              "    <tr>\n",
              "      <th id=\"T_5ccf3_level1_row10\" class=\"row_heading level1 row10\" >Peter</th>\n",
              "      <td id=\"T_5ccf3_row10_col0\" class=\"data row10 col0\" >778,186</td>\n",
              "      <td id=\"T_5ccf3_row10_col1\" class=\"data row10 col1\" >4,482,221</td>\n",
              "      <td id=\"T_5ccf3_row10_col2\" class=\"data row10 col2\" >11</td>\n",
              "    </tr>\n",
              "    <tr>\n",
              "      <th id=\"T_5ccf3_level1_row11\" class=\"row_heading level1 row11\" >Alisa</th>\n",
              "      <td id=\"T_5ccf3_row11_col0\" class=\"data row11 col0\" >666,390</td>\n",
              "      <td id=\"T_5ccf3_row11_col1\" class=\"data row11 col1\" >3,440,513</td>\n",
              "      <td id=\"T_5ccf3_row11_col2\" class=\"data row11 col2\" >15</td>\n",
              "    </tr>\n",
              "    <tr>\n",
              "      <th id=\"T_5ccf3_level0_row12\" class=\"row_heading level0 row12\" rowspan=\"4\">業務1</th>\n",
              "      <th id=\"T_5ccf3_level1_row12\" class=\"row_heading level1 row12\" >Terry</th>\n",
              "      <td id=\"T_5ccf3_row12_col0\" class=\"data row12 col0\" >839,125</td>\n",
              "      <td id=\"T_5ccf3_row12_col1\" class=\"data row12 col1\" >14,141,090</td>\n",
              "      <td id=\"T_5ccf3_row12_col2\" class=\"data row12 col2\" >1</td>\n",
              "    </tr>\n",
              "    <tr>\n",
              "      <th id=\"T_5ccf3_level1_row13\" class=\"row_heading level1 row13\" >Thomas</th>\n",
              "      <td id=\"T_5ccf3_row13_col0\" class=\"data row13 col0\" >442,293</td>\n",
              "      <td id=\"T_5ccf3_row13_col1\" class=\"data row13 col1\" >9,817,364</td>\n",
              "      <td id=\"T_5ccf3_row13_col2\" class=\"data row13 col2\" >2</td>\n",
              "    </tr>\n",
              "    <tr>\n",
              "      <th id=\"T_5ccf3_level1_row14\" class=\"row_heading level1 row14\" >Jorden</th>\n",
              "      <td id=\"T_5ccf3_row14_col0\" class=\"data row14 col0\" >948,545</td>\n",
              "      <td id=\"T_5ccf3_row14_col1\" class=\"data row14 col1\" >9,412,480</td>\n",
              "      <td id=\"T_5ccf3_row14_col2\" class=\"data row14 col2\" >3</td>\n",
              "    </tr>\n",
              "    <tr>\n",
              "      <th id=\"T_5ccf3_level1_row15\" class=\"row_heading level1 row15\" >John</th>\n",
              "      <td id=\"T_5ccf3_row15_col0\" class=\"data row15 col0\" >671,973</td>\n",
              "      <td id=\"T_5ccf3_row15_col1\" class=\"data row15 col1\" >8,478,300</td>\n",
              "      <td id=\"T_5ccf3_row15_col2\" class=\"data row15 col2\" >4</td>\n",
              "    </tr>\n",
              "  </tbody>\n",
              "</table>\n"
            ]
          },
          "metadata": {},
          "execution_count": 123
        }
      ]
    },
    {
      "cell_type": "code",
      "source": [
        "#(2)強項分析：找出每個單位最強前2\n",
        "df11=df2_1.groupby(['業務單位','業務員']).agg({'銷售數量':'sum','銷售金額':'sum'})\n",
        "df11['名次']=df11['銷售金額'].rank(ascending=False)\n",
        "df11=df11.sort_values(['業務單位', '銷售金額','名次'],ascending=[False, False, True])\n",
        "df11=df11.groupby('業務單位').head(2).sort_values('業務單位')\n",
        "df11.style.format('{:,.0f}',subset=['銷售數量','銷售金額','名次'])"
      ],
      "metadata": {
        "id": "FFareHIwk1Qr",
        "colab": {
          "base_uri": "https://localhost:8080/",
          "height": 331
        },
        "outputId": "50cede54-c79c-4075-e21c-1e7e1351e8e7"
      },
      "execution_count": null,
      "outputs": [
        {
          "output_type": "execute_result",
          "data": {
            "text/plain": [
              "<pandas.io.formats.style.Styler at 0x7b3af390f100>"
            ],
            "text/html": [
              "<style type=\"text/css\">\n",
              "</style>\n",
              "<table id=\"T_17482\" class=\"dataframe\">\n",
              "  <thead>\n",
              "    <tr>\n",
              "      <th class=\"blank\" >&nbsp;</th>\n",
              "      <th class=\"blank level0\" >&nbsp;</th>\n",
              "      <th id=\"T_17482_level0_col0\" class=\"col_heading level0 col0\" >銷售數量</th>\n",
              "      <th id=\"T_17482_level0_col1\" class=\"col_heading level0 col1\" >銷售金額</th>\n",
              "      <th id=\"T_17482_level0_col2\" class=\"col_heading level0 col2\" >名次</th>\n",
              "    </tr>\n",
              "    <tr>\n",
              "      <th class=\"index_name level0\" >業務單位</th>\n",
              "      <th class=\"index_name level1\" >業務員</th>\n",
              "      <th class=\"blank col0\" >&nbsp;</th>\n",
              "      <th class=\"blank col1\" >&nbsp;</th>\n",
              "      <th class=\"blank col2\" >&nbsp;</th>\n",
              "    </tr>\n",
              "  </thead>\n",
              "  <tbody>\n",
              "    <tr>\n",
              "      <th id=\"T_17482_level0_row0\" class=\"row_heading level0 row0\" rowspan=\"2\">業務1</th>\n",
              "      <th id=\"T_17482_level1_row0\" class=\"row_heading level1 row0\" >Terry</th>\n",
              "      <td id=\"T_17482_row0_col0\" class=\"data row0 col0\" >839,125</td>\n",
              "      <td id=\"T_17482_row0_col1\" class=\"data row0 col1\" >14,141,090</td>\n",
              "      <td id=\"T_17482_row0_col2\" class=\"data row0 col2\" >1</td>\n",
              "    </tr>\n",
              "    <tr>\n",
              "      <th id=\"T_17482_level1_row1\" class=\"row_heading level1 row1\" >Thomas</th>\n",
              "      <td id=\"T_17482_row1_col0\" class=\"data row1 col0\" >442,293</td>\n",
              "      <td id=\"T_17482_row1_col1\" class=\"data row1 col1\" >9,817,364</td>\n",
              "      <td id=\"T_17482_row1_col2\" class=\"data row1 col2\" >2</td>\n",
              "    </tr>\n",
              "    <tr>\n",
              "      <th id=\"T_17482_level0_row2\" class=\"row_heading level0 row2\" rowspan=\"2\">業務2</th>\n",
              "      <th id=\"T_17482_level1_row2\" class=\"row_heading level1 row2\" >Eric</th>\n",
              "      <td id=\"T_17482_row2_col0\" class=\"data row2 col0\" >782,090</td>\n",
              "      <td id=\"T_17482_row2_col1\" class=\"data row2 col1\" >5,552,115</td>\n",
              "      <td id=\"T_17482_row2_col2\" class=\"data row2 col2\" >6</td>\n",
              "    </tr>\n",
              "    <tr>\n",
              "      <th id=\"T_17482_level1_row3\" class=\"row_heading level1 row3\" >Roger</th>\n",
              "      <td id=\"T_17482_row3_col0\" class=\"data row3 col0\" >836,544</td>\n",
              "      <td id=\"T_17482_row3_col1\" class=\"data row3 col1\" >5,058,574</td>\n",
              "      <td id=\"T_17482_row3_col2\" class=\"data row3 col2\" >9</td>\n",
              "    </tr>\n",
              "    <tr>\n",
              "      <th id=\"T_17482_level0_row4\" class=\"row_heading level0 row4\" rowspan=\"2\">業務3</th>\n",
              "      <th id=\"T_17482_level1_row4\" class=\"row_heading level1 row4\" >Steve</th>\n",
              "      <td id=\"T_17482_row4_col0\" class=\"data row4 col0\" >803,895</td>\n",
              "      <td id=\"T_17482_row4_col1\" class=\"data row4 col1\" >5,560,626</td>\n",
              "      <td id=\"T_17482_row4_col2\" class=\"data row4 col2\" >5</td>\n",
              "    </tr>\n",
              "    <tr>\n",
              "      <th id=\"T_17482_level1_row5\" class=\"row_heading level1 row5\" >Allen</th>\n",
              "      <td id=\"T_17482_row5_col0\" class=\"data row5 col0\" >893,733</td>\n",
              "      <td id=\"T_17482_row5_col1\" class=\"data row5 col1\" >5,356,577</td>\n",
              "      <td id=\"T_17482_row5_col2\" class=\"data row5 col2\" >8</td>\n",
              "    </tr>\n",
              "    <tr>\n",
              "      <th id=\"T_17482_level0_row6\" class=\"row_heading level0 row6\" rowspan=\"2\">業務4</th>\n",
              "      <th id=\"T_17482_level1_row6\" class=\"row_heading level1 row6\" >Simon</th>\n",
              "      <td id=\"T_17482_row6_col0\" class=\"data row6 col0\" >823,716</td>\n",
              "      <td id=\"T_17482_row6_col1\" class=\"data row6 col1\" >5,363,826</td>\n",
              "      <td id=\"T_17482_row6_col2\" class=\"data row6 col2\" >7</td>\n",
              "    </tr>\n",
              "    <tr>\n",
              "      <th id=\"T_17482_level1_row7\" class=\"row_heading level1 row7\" >Coby</th>\n",
              "      <td id=\"T_17482_row7_col0\" class=\"data row7 col0\" >1,038,181</td>\n",
              "      <td id=\"T_17482_row7_col1\" class=\"data row7 col1\" >4,947,153</td>\n",
              "      <td id=\"T_17482_row7_col2\" class=\"data row7 col2\" >10</td>\n",
              "    </tr>\n",
              "  </tbody>\n",
              "</table>\n"
            ]
          },
          "metadata": {},
          "execution_count": 124
        }
      ]
    },
    {
      "cell_type": "markdown",
      "source": [
        "---\n",
        "# **13.第13個分析【樞紐分析表的定量分析】：交叉分析『業務單位，銷售產品』的銷售金額，並從各個角度，做出各種定量分析**\n",
        "\n",
        "讀取自己雲端的檔案"
      ],
      "metadata": {
        "id": "RhAEDR2X0jo4"
      }
    },
    {
      "cell_type": "code",
      "source": [
        "#(1)計算『業務銷售總和，產品銷售總和』，加上表格標題\n",
        "df2_1=pd.read_csv('/content/drive/MyDrive/Colab Notebooks/sales.csv')\n",
        "df11=df2_1.pivot_table(columns=\"銷售產品\",index=\"業務單位\",\n",
        "            values=\"銷售金額\",aggfunc=\"sum\")\n",
        "df11.columns.name = \"產品銷售金額\"\n",
        "df11.loc['產品銷售總和']=df11.sum()\n",
        "df11['業務銷售總額']=df11.sum(axis=1)\n",
        "df11.style.format('{:,.0f}').set_caption('表13-1:計算總和')"
      ],
      "metadata": {
        "id": "edodorf8k56K",
        "colab": {
          "base_uri": "https://localhost:8080/",
          "height": 255
        },
        "outputId": "17d369b5-95d3-498b-b76d-6d76e2b0c6b9"
      },
      "execution_count": null,
      "outputs": [
        {
          "output_type": "execute_result",
          "data": {
            "text/plain": [
              "<pandas.io.formats.style.Styler at 0x7b3af3dcd540>"
            ],
            "text/html": [
              "<style type=\"text/css\">\n",
              "</style>\n",
              "<table id=\"T_c67fb\" class=\"dataframe\">\n",
              "  <caption>表13-1:計算總和</caption>\n",
              "  <thead>\n",
              "    <tr>\n",
              "      <th class=\"index_name level0\" >產品銷售金額</th>\n",
              "      <th id=\"T_c67fb_level0_col0\" class=\"col_heading level0 col0\" >平板</th>\n",
              "      <th id=\"T_c67fb_level0_col1\" class=\"col_heading level0 col1\" >手機</th>\n",
              "      <th id=\"T_c67fb_level0_col2\" class=\"col_heading level0 col2\" >鍵盤</th>\n",
              "      <th id=\"T_c67fb_level0_col3\" class=\"col_heading level0 col3\" >電腦</th>\n",
              "      <th id=\"T_c67fb_level0_col4\" class=\"col_heading level0 col4\" >業務銷售總額</th>\n",
              "    </tr>\n",
              "    <tr>\n",
              "      <th class=\"index_name level0\" >業務單位</th>\n",
              "      <th class=\"blank col0\" >&nbsp;</th>\n",
              "      <th class=\"blank col1\" >&nbsp;</th>\n",
              "      <th class=\"blank col2\" >&nbsp;</th>\n",
              "      <th class=\"blank col3\" >&nbsp;</th>\n",
              "      <th class=\"blank col4\" >&nbsp;</th>\n",
              "    </tr>\n",
              "  </thead>\n",
              "  <tbody>\n",
              "    <tr>\n",
              "      <th id=\"T_c67fb_level0_row0\" class=\"row_heading level0 row0\" >業務1</th>\n",
              "      <td id=\"T_c67fb_row0_col0\" class=\"data row0 col0\" >11,293,148</td>\n",
              "      <td id=\"T_c67fb_row0_col1\" class=\"data row0 col1\" >13,154,647</td>\n",
              "      <td id=\"T_c67fb_row0_col2\" class=\"data row0 col2\" >7,825,479</td>\n",
              "      <td id=\"T_c67fb_row0_col3\" class=\"data row0 col3\" >9,575,960</td>\n",
              "      <td id=\"T_c67fb_row0_col4\" class=\"data row0 col4\" >41,849,234</td>\n",
              "    </tr>\n",
              "    <tr>\n",
              "      <th id=\"T_c67fb_level0_row1\" class=\"row_heading level0 row1\" >業務2</th>\n",
              "      <td id=\"T_c67fb_row1_col0\" class=\"data row1 col0\" >4,818,464</td>\n",
              "      <td id=\"T_c67fb_row1_col1\" class=\"data row1 col1\" >5,503,935</td>\n",
              "      <td id=\"T_c67fb_row1_col2\" class=\"data row1 col2\" >3,429,055</td>\n",
              "      <td id=\"T_c67fb_row1_col3\" class=\"data row1 col3\" >4,781,969</td>\n",
              "      <td id=\"T_c67fb_row1_col4\" class=\"data row1 col4\" >18,533,423</td>\n",
              "    </tr>\n",
              "    <tr>\n",
              "      <th id=\"T_c67fb_level0_row2\" class=\"row_heading level0 row2\" >業務3</th>\n",
              "      <td id=\"T_c67fb_row2_col0\" class=\"data row2 col0\" >3,605,371</td>\n",
              "      <td id=\"T_c67fb_row2_col1\" class=\"data row2 col1\" >5,973,702</td>\n",
              "      <td id=\"T_c67fb_row2_col2\" class=\"data row2 col2\" >3,730,727</td>\n",
              "      <td id=\"T_c67fb_row2_col3\" class=\"data row2 col3\" >3,932,296</td>\n",
              "      <td id=\"T_c67fb_row2_col4\" class=\"data row2 col4\" >17,242,096</td>\n",
              "    </tr>\n",
              "    <tr>\n",
              "      <th id=\"T_c67fb_level0_row3\" class=\"row_heading level0 row3\" >業務4</th>\n",
              "      <td id=\"T_c67fb_row3_col0\" class=\"data row3 col0\" >4,233,983</td>\n",
              "      <td id=\"T_c67fb_row3_col1\" class=\"data row3 col1\" >8,016,938</td>\n",
              "      <td id=\"T_c67fb_row3_col2\" class=\"data row3 col2\" >2,660,749</td>\n",
              "      <td id=\"T_c67fb_row3_col3\" class=\"data row3 col3\" >3,330,417</td>\n",
              "      <td id=\"T_c67fb_row3_col4\" class=\"data row3 col4\" >18,242,087</td>\n",
              "    </tr>\n",
              "    <tr>\n",
              "      <th id=\"T_c67fb_level0_row4\" class=\"row_heading level0 row4\" >產品銷售總和</th>\n",
              "      <td id=\"T_c67fb_row4_col0\" class=\"data row4 col0\" >23,950,966</td>\n",
              "      <td id=\"T_c67fb_row4_col1\" class=\"data row4 col1\" >32,649,222</td>\n",
              "      <td id=\"T_c67fb_row4_col2\" class=\"data row4 col2\" >17,646,010</td>\n",
              "      <td id=\"T_c67fb_row4_col3\" class=\"data row4 col3\" >21,620,642</td>\n",
              "      <td id=\"T_c67fb_row4_col4\" class=\"data row4 col4\" >95,866,840</td>\n",
              "    </tr>\n",
              "  </tbody>\n",
              "</table>\n"
            ]
          },
          "metadata": {},
          "execution_count": 125
        }
      ]
    },
    {
      "cell_type": "code",
      "source": [
        "#(2)定量分析：『總計百分比表格』（加上表格標題，1位小數點）\n",
        "df2_1=pd.read_csv('/content/drive/MyDrive/Colab Notebooks/sales.csv')\n",
        "df11=df2_1.pivot_table(columns=\"銷售產品\",index=\"業務單位\",\n",
        "            values=\"銷售金額\",aggfunc=\"sum\")\n",
        "df11.columns.name = \"產品銷售金額\"\n",
        "df11.loc['產品銷售總和']=df11.sum()\n",
        "df11['業務銷售總額']=df11.sum(axis=1)\n",
        "df11=(df11/df11.iloc[-1][-1]*100).round(1)\n",
        "df11.style.format('{:.1f}').set_caption('表13-2:總計百分比')"
      ],
      "metadata": {
        "id": "s5l4e7Jy1uJM",
        "colab": {
          "base_uri": "https://localhost:8080/",
          "height": 255
        },
        "outputId": "a5a80ea3-619a-482f-aa40-1d37f2596c64"
      },
      "execution_count": null,
      "outputs": [
        {
          "output_type": "execute_result",
          "data": {
            "text/plain": [
              "<pandas.io.formats.style.Styler at 0x7b3af390eef0>"
            ],
            "text/html": [
              "<style type=\"text/css\">\n",
              "</style>\n",
              "<table id=\"T_485a4\" class=\"dataframe\">\n",
              "  <caption>表13-2:總計百分比</caption>\n",
              "  <thead>\n",
              "    <tr>\n",
              "      <th class=\"index_name level0\" >產品銷售金額</th>\n",
              "      <th id=\"T_485a4_level0_col0\" class=\"col_heading level0 col0\" >平板</th>\n",
              "      <th id=\"T_485a4_level0_col1\" class=\"col_heading level0 col1\" >手機</th>\n",
              "      <th id=\"T_485a4_level0_col2\" class=\"col_heading level0 col2\" >鍵盤</th>\n",
              "      <th id=\"T_485a4_level0_col3\" class=\"col_heading level0 col3\" >電腦</th>\n",
              "      <th id=\"T_485a4_level0_col4\" class=\"col_heading level0 col4\" >業務銷售總額</th>\n",
              "    </tr>\n",
              "    <tr>\n",
              "      <th class=\"index_name level0\" >業務單位</th>\n",
              "      <th class=\"blank col0\" >&nbsp;</th>\n",
              "      <th class=\"blank col1\" >&nbsp;</th>\n",
              "      <th class=\"blank col2\" >&nbsp;</th>\n",
              "      <th class=\"blank col3\" >&nbsp;</th>\n",
              "      <th class=\"blank col4\" >&nbsp;</th>\n",
              "    </tr>\n",
              "  </thead>\n",
              "  <tbody>\n",
              "    <tr>\n",
              "      <th id=\"T_485a4_level0_row0\" class=\"row_heading level0 row0\" >業務1</th>\n",
              "      <td id=\"T_485a4_row0_col0\" class=\"data row0 col0\" >11.8</td>\n",
              "      <td id=\"T_485a4_row0_col1\" class=\"data row0 col1\" >13.7</td>\n",
              "      <td id=\"T_485a4_row0_col2\" class=\"data row0 col2\" >8.2</td>\n",
              "      <td id=\"T_485a4_row0_col3\" class=\"data row0 col3\" >10.0</td>\n",
              "      <td id=\"T_485a4_row0_col4\" class=\"data row0 col4\" >43.7</td>\n",
              "    </tr>\n",
              "    <tr>\n",
              "      <th id=\"T_485a4_level0_row1\" class=\"row_heading level0 row1\" >業務2</th>\n",
              "      <td id=\"T_485a4_row1_col0\" class=\"data row1 col0\" >5.0</td>\n",
              "      <td id=\"T_485a4_row1_col1\" class=\"data row1 col1\" >5.7</td>\n",
              "      <td id=\"T_485a4_row1_col2\" class=\"data row1 col2\" >3.6</td>\n",
              "      <td id=\"T_485a4_row1_col3\" class=\"data row1 col3\" >5.0</td>\n",
              "      <td id=\"T_485a4_row1_col4\" class=\"data row1 col4\" >19.3</td>\n",
              "    </tr>\n",
              "    <tr>\n",
              "      <th id=\"T_485a4_level0_row2\" class=\"row_heading level0 row2\" >業務3</th>\n",
              "      <td id=\"T_485a4_row2_col0\" class=\"data row2 col0\" >3.8</td>\n",
              "      <td id=\"T_485a4_row2_col1\" class=\"data row2 col1\" >6.2</td>\n",
              "      <td id=\"T_485a4_row2_col2\" class=\"data row2 col2\" >3.9</td>\n",
              "      <td id=\"T_485a4_row2_col3\" class=\"data row2 col3\" >4.1</td>\n",
              "      <td id=\"T_485a4_row2_col4\" class=\"data row2 col4\" >18.0</td>\n",
              "    </tr>\n",
              "    <tr>\n",
              "      <th id=\"T_485a4_level0_row3\" class=\"row_heading level0 row3\" >業務4</th>\n",
              "      <td id=\"T_485a4_row3_col0\" class=\"data row3 col0\" >4.4</td>\n",
              "      <td id=\"T_485a4_row3_col1\" class=\"data row3 col1\" >8.4</td>\n",
              "      <td id=\"T_485a4_row3_col2\" class=\"data row3 col2\" >2.8</td>\n",
              "      <td id=\"T_485a4_row3_col3\" class=\"data row3 col3\" >3.5</td>\n",
              "      <td id=\"T_485a4_row3_col4\" class=\"data row3 col4\" >19.0</td>\n",
              "    </tr>\n",
              "    <tr>\n",
              "      <th id=\"T_485a4_level0_row4\" class=\"row_heading level0 row4\" >產品銷售總和</th>\n",
              "      <td id=\"T_485a4_row4_col0\" class=\"data row4 col0\" >25.0</td>\n",
              "      <td id=\"T_485a4_row4_col1\" class=\"data row4 col1\" >34.1</td>\n",
              "      <td id=\"T_485a4_row4_col2\" class=\"data row4 col2\" >18.4</td>\n",
              "      <td id=\"T_485a4_row4_col3\" class=\"data row4 col3\" >22.6</td>\n",
              "      <td id=\"T_485a4_row4_col4\" class=\"data row4 col4\" >100.0</td>\n",
              "    </tr>\n",
              "  </tbody>\n",
              "</table>\n"
            ]
          },
          "metadata": {},
          "execution_count": 126
        }
      ]
    },
    {
      "cell_type": "code",
      "source": [
        "#(3)定量分析：『欄的總和百分比』（加上表格標題，1位小數點）\n",
        "df2_1=pd.read_csv('/content/drive/MyDrive/Colab Notebooks/sales.csv')\n",
        "df11=df2_1.pivot_table(columns=\"銷售產品\",index=\"業務單位\",\n",
        "            values=\"銷售金額\",aggfunc=\"sum\")\n",
        "df11.columns.name = \"產品銷售金額\"\n",
        "df11.loc['產品銷售總和']=df11.sum()\n",
        "df11['業務銷售總額']=df11.sum(axis=1)\n",
        "df11=(df11.div(df11.loc[\"產品銷售總和\"],axis=1)*100).round(1)\n",
        "df11.style.format('{:.1f}').set_caption('表13-3:欄的總和百分比')"
      ],
      "metadata": {
        "id": "art7K1Sg2D-J",
        "colab": {
          "base_uri": "https://localhost:8080/",
          "height": 255
        },
        "outputId": "7151f417-e516-44ba-fc0d-f16dc39b842a"
      },
      "execution_count": null,
      "outputs": [
        {
          "output_type": "execute_result",
          "data": {
            "text/plain": [
              "<pandas.io.formats.style.Styler at 0x7b3af3429e40>"
            ],
            "text/html": [
              "<style type=\"text/css\">\n",
              "</style>\n",
              "<table id=\"T_b4b0e\" class=\"dataframe\">\n",
              "  <caption>表13-3:欄的總和百分比</caption>\n",
              "  <thead>\n",
              "    <tr>\n",
              "      <th class=\"index_name level0\" >產品銷售金額</th>\n",
              "      <th id=\"T_b4b0e_level0_col0\" class=\"col_heading level0 col0\" >平板</th>\n",
              "      <th id=\"T_b4b0e_level0_col1\" class=\"col_heading level0 col1\" >手機</th>\n",
              "      <th id=\"T_b4b0e_level0_col2\" class=\"col_heading level0 col2\" >鍵盤</th>\n",
              "      <th id=\"T_b4b0e_level0_col3\" class=\"col_heading level0 col3\" >電腦</th>\n",
              "      <th id=\"T_b4b0e_level0_col4\" class=\"col_heading level0 col4\" >業務銷售總額</th>\n",
              "    </tr>\n",
              "    <tr>\n",
              "      <th class=\"index_name level0\" >業務單位</th>\n",
              "      <th class=\"blank col0\" >&nbsp;</th>\n",
              "      <th class=\"blank col1\" >&nbsp;</th>\n",
              "      <th class=\"blank col2\" >&nbsp;</th>\n",
              "      <th class=\"blank col3\" >&nbsp;</th>\n",
              "      <th class=\"blank col4\" >&nbsp;</th>\n",
              "    </tr>\n",
              "  </thead>\n",
              "  <tbody>\n",
              "    <tr>\n",
              "      <th id=\"T_b4b0e_level0_row0\" class=\"row_heading level0 row0\" >業務1</th>\n",
              "      <td id=\"T_b4b0e_row0_col0\" class=\"data row0 col0\" >47.2</td>\n",
              "      <td id=\"T_b4b0e_row0_col1\" class=\"data row0 col1\" >40.3</td>\n",
              "      <td id=\"T_b4b0e_row0_col2\" class=\"data row0 col2\" >44.3</td>\n",
              "      <td id=\"T_b4b0e_row0_col3\" class=\"data row0 col3\" >44.3</td>\n",
              "      <td id=\"T_b4b0e_row0_col4\" class=\"data row0 col4\" >43.7</td>\n",
              "    </tr>\n",
              "    <tr>\n",
              "      <th id=\"T_b4b0e_level0_row1\" class=\"row_heading level0 row1\" >業務2</th>\n",
              "      <td id=\"T_b4b0e_row1_col0\" class=\"data row1 col0\" >20.1</td>\n",
              "      <td id=\"T_b4b0e_row1_col1\" class=\"data row1 col1\" >16.9</td>\n",
              "      <td id=\"T_b4b0e_row1_col2\" class=\"data row1 col2\" >19.4</td>\n",
              "      <td id=\"T_b4b0e_row1_col3\" class=\"data row1 col3\" >22.1</td>\n",
              "      <td id=\"T_b4b0e_row1_col4\" class=\"data row1 col4\" >19.3</td>\n",
              "    </tr>\n",
              "    <tr>\n",
              "      <th id=\"T_b4b0e_level0_row2\" class=\"row_heading level0 row2\" >業務3</th>\n",
              "      <td id=\"T_b4b0e_row2_col0\" class=\"data row2 col0\" >15.1</td>\n",
              "      <td id=\"T_b4b0e_row2_col1\" class=\"data row2 col1\" >18.3</td>\n",
              "      <td id=\"T_b4b0e_row2_col2\" class=\"data row2 col2\" >21.1</td>\n",
              "      <td id=\"T_b4b0e_row2_col3\" class=\"data row2 col3\" >18.2</td>\n",
              "      <td id=\"T_b4b0e_row2_col4\" class=\"data row2 col4\" >18.0</td>\n",
              "    </tr>\n",
              "    <tr>\n",
              "      <th id=\"T_b4b0e_level0_row3\" class=\"row_heading level0 row3\" >業務4</th>\n",
              "      <td id=\"T_b4b0e_row3_col0\" class=\"data row3 col0\" >17.7</td>\n",
              "      <td id=\"T_b4b0e_row3_col1\" class=\"data row3 col1\" >24.6</td>\n",
              "      <td id=\"T_b4b0e_row3_col2\" class=\"data row3 col2\" >15.1</td>\n",
              "      <td id=\"T_b4b0e_row3_col3\" class=\"data row3 col3\" >15.4</td>\n",
              "      <td id=\"T_b4b0e_row3_col4\" class=\"data row3 col4\" >19.0</td>\n",
              "    </tr>\n",
              "    <tr>\n",
              "      <th id=\"T_b4b0e_level0_row4\" class=\"row_heading level0 row4\" >產品銷售總和</th>\n",
              "      <td id=\"T_b4b0e_row4_col0\" class=\"data row4 col0\" >100.0</td>\n",
              "      <td id=\"T_b4b0e_row4_col1\" class=\"data row4 col1\" >100.0</td>\n",
              "      <td id=\"T_b4b0e_row4_col2\" class=\"data row4 col2\" >100.0</td>\n",
              "      <td id=\"T_b4b0e_row4_col3\" class=\"data row4 col3\" >100.0</td>\n",
              "      <td id=\"T_b4b0e_row4_col4\" class=\"data row4 col4\" >100.0</td>\n",
              "    </tr>\n",
              "  </tbody>\n",
              "</table>\n"
            ]
          },
          "metadata": {},
          "execution_count": 127
        }
      ]
    },
    {
      "cell_type": "code",
      "source": [
        "#(4)定量分析：『列的總和百分比』（加上表格標題，1位小數點）\n",
        "df2_1=pd.read_csv('/content/drive/MyDrive/Colab Notebooks/sales.csv')\n",
        "df11=df2_1.pivot_table(columns=\"銷售產品\",index=\"業務單位\",\n",
        "            values=\"銷售金額\",aggfunc=\"sum\")\n",
        "df11.columns.name = \"產品銷售金額\"\n",
        "df11.loc['產品銷售總和']=df11.sum()\n",
        "df11['業務銷售總額']=df11.sum(axis=1)\n",
        "df11=(df11.div(df11[\"業務銷售總額\"],axis=0)*100).round(1)\n",
        "df11.style.format('{:.1f}').set_caption('表13-4:列的總和百分比')"
      ],
      "metadata": {
        "id": "s_RQEcCr2Tjb",
        "colab": {
          "base_uri": "https://localhost:8080/",
          "height": 255
        },
        "outputId": "027821dd-9fdc-4d35-8a8c-b90527dd61d7"
      },
      "execution_count": null,
      "outputs": [
        {
          "output_type": "execute_result",
          "data": {
            "text/plain": [
              "<pandas.io.formats.style.Styler at 0x7b3af34b31c0>"
            ],
            "text/html": [
              "<style type=\"text/css\">\n",
              "</style>\n",
              "<table id=\"T_504c5\" class=\"dataframe\">\n",
              "  <caption>表13-4:列的總和百分比</caption>\n",
              "  <thead>\n",
              "    <tr>\n",
              "      <th class=\"index_name level0\" >產品銷售金額</th>\n",
              "      <th id=\"T_504c5_level0_col0\" class=\"col_heading level0 col0\" >平板</th>\n",
              "      <th id=\"T_504c5_level0_col1\" class=\"col_heading level0 col1\" >手機</th>\n",
              "      <th id=\"T_504c5_level0_col2\" class=\"col_heading level0 col2\" >鍵盤</th>\n",
              "      <th id=\"T_504c5_level0_col3\" class=\"col_heading level0 col3\" >電腦</th>\n",
              "      <th id=\"T_504c5_level0_col4\" class=\"col_heading level0 col4\" >業務銷售總額</th>\n",
              "    </tr>\n",
              "    <tr>\n",
              "      <th class=\"index_name level0\" >業務單位</th>\n",
              "      <th class=\"blank col0\" >&nbsp;</th>\n",
              "      <th class=\"blank col1\" >&nbsp;</th>\n",
              "      <th class=\"blank col2\" >&nbsp;</th>\n",
              "      <th class=\"blank col3\" >&nbsp;</th>\n",
              "      <th class=\"blank col4\" >&nbsp;</th>\n",
              "    </tr>\n",
              "  </thead>\n",
              "  <tbody>\n",
              "    <tr>\n",
              "      <th id=\"T_504c5_level0_row0\" class=\"row_heading level0 row0\" >業務1</th>\n",
              "      <td id=\"T_504c5_row0_col0\" class=\"data row0 col0\" >27.0</td>\n",
              "      <td id=\"T_504c5_row0_col1\" class=\"data row0 col1\" >31.4</td>\n",
              "      <td id=\"T_504c5_row0_col2\" class=\"data row0 col2\" >18.7</td>\n",
              "      <td id=\"T_504c5_row0_col3\" class=\"data row0 col3\" >22.9</td>\n",
              "      <td id=\"T_504c5_row0_col4\" class=\"data row0 col4\" >100.0</td>\n",
              "    </tr>\n",
              "    <tr>\n",
              "      <th id=\"T_504c5_level0_row1\" class=\"row_heading level0 row1\" >業務2</th>\n",
              "      <td id=\"T_504c5_row1_col0\" class=\"data row1 col0\" >26.0</td>\n",
              "      <td id=\"T_504c5_row1_col1\" class=\"data row1 col1\" >29.7</td>\n",
              "      <td id=\"T_504c5_row1_col2\" class=\"data row1 col2\" >18.5</td>\n",
              "      <td id=\"T_504c5_row1_col3\" class=\"data row1 col3\" >25.8</td>\n",
              "      <td id=\"T_504c5_row1_col4\" class=\"data row1 col4\" >100.0</td>\n",
              "    </tr>\n",
              "    <tr>\n",
              "      <th id=\"T_504c5_level0_row2\" class=\"row_heading level0 row2\" >業務3</th>\n",
              "      <td id=\"T_504c5_row2_col0\" class=\"data row2 col0\" >20.9</td>\n",
              "      <td id=\"T_504c5_row2_col1\" class=\"data row2 col1\" >34.6</td>\n",
              "      <td id=\"T_504c5_row2_col2\" class=\"data row2 col2\" >21.6</td>\n",
              "      <td id=\"T_504c5_row2_col3\" class=\"data row2 col3\" >22.8</td>\n",
              "      <td id=\"T_504c5_row2_col4\" class=\"data row2 col4\" >100.0</td>\n",
              "    </tr>\n",
              "    <tr>\n",
              "      <th id=\"T_504c5_level0_row3\" class=\"row_heading level0 row3\" >業務4</th>\n",
              "      <td id=\"T_504c5_row3_col0\" class=\"data row3 col0\" >23.2</td>\n",
              "      <td id=\"T_504c5_row3_col1\" class=\"data row3 col1\" >43.9</td>\n",
              "      <td id=\"T_504c5_row3_col2\" class=\"data row3 col2\" >14.6</td>\n",
              "      <td id=\"T_504c5_row3_col3\" class=\"data row3 col3\" >18.3</td>\n",
              "      <td id=\"T_504c5_row3_col4\" class=\"data row3 col4\" >100.0</td>\n",
              "    </tr>\n",
              "    <tr>\n",
              "      <th id=\"T_504c5_level0_row4\" class=\"row_heading level0 row4\" >產品銷售總和</th>\n",
              "      <td id=\"T_504c5_row4_col0\" class=\"data row4 col0\" >25.0</td>\n",
              "      <td id=\"T_504c5_row4_col1\" class=\"data row4 col1\" >34.1</td>\n",
              "      <td id=\"T_504c5_row4_col2\" class=\"data row4 col2\" >18.4</td>\n",
              "      <td id=\"T_504c5_row4_col3\" class=\"data row4 col3\" >22.6</td>\n",
              "      <td id=\"T_504c5_row4_col4\" class=\"data row4 col4\" >100.0</td>\n",
              "    </tr>\n",
              "  </tbody>\n",
              "</table>\n"
            ]
          },
          "metadata": {},
          "execution_count": 128
        }
      ]
    },
    {
      "cell_type": "markdown",
      "source": [
        "---\n",
        "# **14.第14個分析【樞紐分析表】：分析『業務單位』的『銷售數量，銷售金額』之『最高，最低，平均，總和』，且【加上千分位】**\n",
        "\n",
        "讀取自己雲端的檔案"
      ],
      "metadata": {
        "id": "F6_bdZAu2rf9"
      }
    },
    {
      "cell_type": "code",
      "source": [
        "#(1)分析『業務單位』的『銷售數量，銷售金額』之『最高，最低，平均，總和』，且【加上千分位】\n",
        "df2_1=pd.read_csv('/content/drive/MyDrive/Colab Notebooks/sales.csv')\n",
        "df11=df2_1.groupby(\"業務單位\")\\\n",
        ".agg({\"銷售數量\":[\"max\",\"min\",\"mean\",\"sum\"],\"銷售金額\":[\"max\",\"min\",\"mean\",\"sum\"]})\n",
        "df11 = df11.rename(columns={'max': '最高', 'min': '最低', 'mean': '平均', 'sum': '總和'}, level=1)\n",
        "df11.style.format('{:,.0f}')"
      ],
      "metadata": {
        "id": "5b_PnQQI2-HO",
        "colab": {
          "base_uri": "https://localhost:8080/",
          "height": 237
        },
        "outputId": "4d7e62fb-9ebc-4f7a-ed4d-3af8e675b926"
      },
      "execution_count": null,
      "outputs": [
        {
          "output_type": "execute_result",
          "data": {
            "text/plain": [
              "<pandas.io.formats.style.Styler at 0x7b3af34b26b0>"
            ],
            "text/html": [
              "<style type=\"text/css\">\n",
              "</style>\n",
              "<table id=\"T_5da18\" class=\"dataframe\">\n",
              "  <thead>\n",
              "    <tr>\n",
              "      <th class=\"blank level0\" >&nbsp;</th>\n",
              "      <th id=\"T_5da18_level0_col0\" class=\"col_heading level0 col0\" colspan=\"4\">銷售數量</th>\n",
              "      <th id=\"T_5da18_level0_col4\" class=\"col_heading level0 col4\" colspan=\"4\">銷售金額</th>\n",
              "    </tr>\n",
              "    <tr>\n",
              "      <th class=\"blank level1\" >&nbsp;</th>\n",
              "      <th id=\"T_5da18_level1_col0\" class=\"col_heading level1 col0\" >最高</th>\n",
              "      <th id=\"T_5da18_level1_col1\" class=\"col_heading level1 col1\" >最低</th>\n",
              "      <th id=\"T_5da18_level1_col2\" class=\"col_heading level1 col2\" >平均</th>\n",
              "      <th id=\"T_5da18_level1_col3\" class=\"col_heading level1 col3\" >總和</th>\n",
              "      <th id=\"T_5da18_level1_col4\" class=\"col_heading level1 col4\" >最高</th>\n",
              "      <th id=\"T_5da18_level1_col5\" class=\"col_heading level1 col5\" >最低</th>\n",
              "      <th id=\"T_5da18_level1_col6\" class=\"col_heading level1 col6\" >平均</th>\n",
              "      <th id=\"T_5da18_level1_col7\" class=\"col_heading level1 col7\" >總和</th>\n",
              "    </tr>\n",
              "    <tr>\n",
              "      <th class=\"index_name level0\" >業務單位</th>\n",
              "      <th class=\"blank col0\" >&nbsp;</th>\n",
              "      <th class=\"blank col1\" >&nbsp;</th>\n",
              "      <th class=\"blank col2\" >&nbsp;</th>\n",
              "      <th class=\"blank col3\" >&nbsp;</th>\n",
              "      <th class=\"blank col4\" >&nbsp;</th>\n",
              "      <th class=\"blank col5\" >&nbsp;</th>\n",
              "      <th class=\"blank col6\" >&nbsp;</th>\n",
              "      <th class=\"blank col7\" >&nbsp;</th>\n",
              "    </tr>\n",
              "  </thead>\n",
              "  <tbody>\n",
              "    <tr>\n",
              "      <th id=\"T_5da18_level0_row0\" class=\"row_heading level0 row0\" >業務1</th>\n",
              "      <td id=\"T_5da18_row0_col0\" class=\"data row0 col0\" >48,446</td>\n",
              "      <td id=\"T_5da18_row0_col1\" class=\"data row0 col1\" >522</td>\n",
              "      <td id=\"T_5da18_row0_col2\" class=\"data row0 col2\" >12,728</td>\n",
              "      <td id=\"T_5da18_row0_col3\" class=\"data row0 col3\" >2,901,936</td>\n",
              "      <td id=\"T_5da18_row0_col4\" class=\"data row0 col4\" >255,873</td>\n",
              "      <td id=\"T_5da18_row0_col5\" class=\"data row0 col5\" >135,247</td>\n",
              "      <td id=\"T_5da18_row0_col6\" class=\"data row0 col6\" >183,549</td>\n",
              "      <td id=\"T_5da18_row0_col7\" class=\"data row0 col7\" >41,849,234</td>\n",
              "    </tr>\n",
              "    <tr>\n",
              "      <th id=\"T_5da18_level0_row1\" class=\"row_heading level0 row1\" >業務2</th>\n",
              "      <td id=\"T_5da18_row1_col0\" class=\"data row1 col0\" >48,475</td>\n",
              "      <td id=\"T_5da18_row1_col1\" class=\"data row1 col1\" >510</td>\n",
              "      <td id=\"T_5da18_row1_col2\" class=\"data row1 col2\" >13,435</td>\n",
              "      <td id=\"T_5da18_row1_col3\" class=\"data row1 col3\" >3,063,210</td>\n",
              "      <td id=\"T_5da18_row1_col4\" class=\"data row1 col4\" >133,373</td>\n",
              "      <td id=\"T_5da18_row1_col5\" class=\"data row1 col5\" >35,537</td>\n",
              "      <td id=\"T_5da18_row1_col6\" class=\"data row1 col6\" >81,287</td>\n",
              "      <td id=\"T_5da18_row1_col7\" class=\"data row1 col7\" >18,533,423</td>\n",
              "    </tr>\n",
              "    <tr>\n",
              "      <th id=\"T_5da18_level0_row2\" class=\"row_heading level0 row2\" >業務3</th>\n",
              "      <td id=\"T_5da18_row2_col0\" class=\"data row2 col0\" >48,399</td>\n",
              "      <td id=\"T_5da18_row2_col1\" class=\"data row2 col1\" >514</td>\n",
              "      <td id=\"T_5da18_row2_col2\" class=\"data row2 col2\" >12,843</td>\n",
              "      <td id=\"T_5da18_row2_col3\" class=\"data row2 col3\" >2,979,484</td>\n",
              "      <td id=\"T_5da18_row2_col4\" class=\"data row2 col4\" >133,574</td>\n",
              "      <td id=\"T_5da18_row2_col5\" class=\"data row2 col5\" >35,047</td>\n",
              "      <td id=\"T_5da18_row2_col6\" class=\"data row2 col6\" >74,319</td>\n",
              "      <td id=\"T_5da18_row2_col7\" class=\"data row2 col7\" >17,242,096</td>\n",
              "    </tr>\n",
              "    <tr>\n",
              "      <th id=\"T_5da18_level0_row3\" class=\"row_heading level0 row3\" >業務4</th>\n",
              "      <td id=\"T_5da18_row3_col0\" class=\"data row3 col0\" >48,485</td>\n",
              "      <td id=\"T_5da18_row3_col1\" class=\"data row3 col1\" >516</td>\n",
              "      <td id=\"T_5da18_row3_col2\" class=\"data row3 col2\" >14,112</td>\n",
              "      <td id=\"T_5da18_row3_col3\" class=\"data row3 col3\" >2,935,313</td>\n",
              "      <td id=\"T_5da18_row3_col4\" class=\"data row3 col4\" >145,924</td>\n",
              "      <td id=\"T_5da18_row3_col5\" class=\"data row3 col5\" >35,551</td>\n",
              "      <td id=\"T_5da18_row3_col6\" class=\"data row3 col6\" >87,702</td>\n",
              "      <td id=\"T_5da18_row3_col7\" class=\"data row3 col7\" >18,242,087</td>\n",
              "    </tr>\n",
              "  </tbody>\n",
              "</table>\n"
            ]
          },
          "metadata": {},
          "execution_count": 129
        }
      ]
    },
    {
      "cell_type": "code",
      "source": [
        "#(2)分析『業務單位』的『銷售數量，銷售金額』之『平均』，且【加上千分位】\n",
        "df11=df2_1.groupby(\"業務單位\")\\\n",
        ".agg({\"銷售數量\":[\"mean\"],\"銷售金額\":[\"mean\"]})\n",
        "df11 = df11.rename(columns={'mean':'平均'},level=1)\n",
        "df11.style.format('{:,.0f}')"
      ],
      "metadata": {
        "id": "DQyOu4zV3UNj",
        "colab": {
          "base_uri": "https://localhost:8080/",
          "height": 237
        },
        "outputId": "53376c90-da2d-48c6-d046-e4c67c6f8a70"
      },
      "execution_count": null,
      "outputs": [
        {
          "output_type": "execute_result",
          "data": {
            "text/plain": [
              "<pandas.io.formats.style.Styler at 0x7b3af362b3a0>"
            ],
            "text/html": [
              "<style type=\"text/css\">\n",
              "</style>\n",
              "<table id=\"T_72a4b\" class=\"dataframe\">\n",
              "  <thead>\n",
              "    <tr>\n",
              "      <th class=\"blank level0\" >&nbsp;</th>\n",
              "      <th id=\"T_72a4b_level0_col0\" class=\"col_heading level0 col0\" >銷售數量</th>\n",
              "      <th id=\"T_72a4b_level0_col1\" class=\"col_heading level0 col1\" >銷售金額</th>\n",
              "    </tr>\n",
              "    <tr>\n",
              "      <th class=\"blank level1\" >&nbsp;</th>\n",
              "      <th id=\"T_72a4b_level1_col0\" class=\"col_heading level1 col0\" >平均</th>\n",
              "      <th id=\"T_72a4b_level1_col1\" class=\"col_heading level1 col1\" >平均</th>\n",
              "    </tr>\n",
              "    <tr>\n",
              "      <th class=\"index_name level0\" >業務單位</th>\n",
              "      <th class=\"blank col0\" >&nbsp;</th>\n",
              "      <th class=\"blank col1\" >&nbsp;</th>\n",
              "    </tr>\n",
              "  </thead>\n",
              "  <tbody>\n",
              "    <tr>\n",
              "      <th id=\"T_72a4b_level0_row0\" class=\"row_heading level0 row0\" >業務1</th>\n",
              "      <td id=\"T_72a4b_row0_col0\" class=\"data row0 col0\" >12,728</td>\n",
              "      <td id=\"T_72a4b_row0_col1\" class=\"data row0 col1\" >183,549</td>\n",
              "    </tr>\n",
              "    <tr>\n",
              "      <th id=\"T_72a4b_level0_row1\" class=\"row_heading level0 row1\" >業務2</th>\n",
              "      <td id=\"T_72a4b_row1_col0\" class=\"data row1 col0\" >13,435</td>\n",
              "      <td id=\"T_72a4b_row1_col1\" class=\"data row1 col1\" >81,287</td>\n",
              "    </tr>\n",
              "    <tr>\n",
              "      <th id=\"T_72a4b_level0_row2\" class=\"row_heading level0 row2\" >業務3</th>\n",
              "      <td id=\"T_72a4b_row2_col0\" class=\"data row2 col0\" >12,843</td>\n",
              "      <td id=\"T_72a4b_row2_col1\" class=\"data row2 col1\" >74,319</td>\n",
              "    </tr>\n",
              "    <tr>\n",
              "      <th id=\"T_72a4b_level0_row3\" class=\"row_heading level0 row3\" >業務4</th>\n",
              "      <td id=\"T_72a4b_row3_col0\" class=\"data row3 col0\" >14,112</td>\n",
              "      <td id=\"T_72a4b_row3_col1\" class=\"data row3 col1\" >87,702</td>\n",
              "    </tr>\n",
              "  </tbody>\n",
              "</table>\n"
            ]
          },
          "metadata": {},
          "execution_count": 130
        }
      ]
    },
    {
      "cell_type": "markdown",
      "source": [
        "---\n",
        "# **15.第15個分析【時間效應分析】：【一年四季】的銷售金額之交叉分析【年 vs 季】，且【加上千分位】**\n",
        "\n",
        "讀取自己雲端的檔案"
      ],
      "metadata": {
        "id": "zt3-JFZJ3uIl"
      }
    },
    {
      "cell_type": "code",
      "source": [
        "#(1)做時間效應【一年四季】的銷售金額之交叉分析【年 vs 季】，且【加上千分位】\n",
        "df2_1=pd.read_csv('/content/drive/MyDrive/Colab Notebooks/sales.csv')\n",
        "df2_1['年']=pd.to_datetime(df2_1['銷售日期'])\n",
        "df2_1['年']=df2_1['年'].dt.year\n",
        "df2_1['月']=pd.to_datetime(df2_1['銷售日期'])\n",
        "df2_1['月']=df2_1['月'].dt.month\n",
        "df2_1['季度']=pd.to_datetime(df2_1['銷售日期'])\n",
        "df2_1['季度']=df2_1['季度'].dt.quarter"
      ],
      "metadata": {
        "id": "6_slBLmk4bXY"
      },
      "execution_count": null,
      "outputs": []
    },
    {
      "cell_type": "code",
      "source": [
        "df11 = df2_1.pivot_table(columns=\"季度\", index=\"年\", values=\"銷售金額\", aggfunc=\"sum\")\n",
        "df11.columns = ['Q1', 'Q2', 'Q3', 'Q4']\n",
        "df11.columns.name = '銷售金額'\n",
        "df11.style.format('{:,.0f}')"
      ],
      "metadata": {
        "colab": {
          "base_uri": "https://localhost:8080/",
          "height": 206
        },
        "id": "lp6_rFDG9ZUp",
        "outputId": "d39d38a7-cf02-45a7-da20-deb6194b136d"
      },
      "execution_count": null,
      "outputs": [
        {
          "output_type": "execute_result",
          "data": {
            "text/plain": [
              "<pandas.io.formats.style.Styler at 0x7b3af362acb0>"
            ],
            "text/html": [
              "<style type=\"text/css\">\n",
              "</style>\n",
              "<table id=\"T_b75b7\" class=\"dataframe\">\n",
              "  <thead>\n",
              "    <tr>\n",
              "      <th class=\"index_name level0\" >銷售金額</th>\n",
              "      <th id=\"T_b75b7_level0_col0\" class=\"col_heading level0 col0\" >Q1</th>\n",
              "      <th id=\"T_b75b7_level0_col1\" class=\"col_heading level0 col1\" >Q2</th>\n",
              "      <th id=\"T_b75b7_level0_col2\" class=\"col_heading level0 col2\" >Q3</th>\n",
              "      <th id=\"T_b75b7_level0_col3\" class=\"col_heading level0 col3\" >Q4</th>\n",
              "    </tr>\n",
              "    <tr>\n",
              "      <th class=\"index_name level0\" >年</th>\n",
              "      <th class=\"blank col0\" >&nbsp;</th>\n",
              "      <th class=\"blank col1\" >&nbsp;</th>\n",
              "      <th class=\"blank col2\" >&nbsp;</th>\n",
              "      <th class=\"blank col3\" >&nbsp;</th>\n",
              "    </tr>\n",
              "  </thead>\n",
              "  <tbody>\n",
              "    <tr>\n",
              "      <th id=\"T_b75b7_level0_row0\" class=\"row_heading level0 row0\" >2013</th>\n",
              "      <td id=\"T_b75b7_row0_col0\" class=\"data row0 col0\" >6,820,922</td>\n",
              "      <td id=\"T_b75b7_row0_col1\" class=\"data row0 col1\" >6,775,792</td>\n",
              "      <td id=\"T_b75b7_row0_col2\" class=\"data row0 col2\" >6,953,252</td>\n",
              "      <td id=\"T_b75b7_row0_col3\" class=\"data row0 col3\" >5,177,839</td>\n",
              "    </tr>\n",
              "    <tr>\n",
              "      <th id=\"T_b75b7_level0_row1\" class=\"row_heading level0 row1\" >2014</th>\n",
              "      <td id=\"T_b75b7_row1_col0\" class=\"data row1 col0\" >6,578,504</td>\n",
              "      <td id=\"T_b75b7_row1_col1\" class=\"data row1 col1\" >5,725,217</td>\n",
              "      <td id=\"T_b75b7_row1_col2\" class=\"data row1 col2\" >5,977,272</td>\n",
              "      <td id=\"T_b75b7_row1_col3\" class=\"data row1 col3\" >4,557,779</td>\n",
              "    </tr>\n",
              "    <tr>\n",
              "      <th id=\"T_b75b7_level0_row2\" class=\"row_heading level0 row2\" >2015</th>\n",
              "      <td id=\"T_b75b7_row2_col0\" class=\"data row2 col0\" >6,886,600</td>\n",
              "      <td id=\"T_b75b7_row2_col1\" class=\"data row2 col1\" >7,077,588</td>\n",
              "      <td id=\"T_b75b7_row2_col2\" class=\"data row2 col2\" >6,801,437</td>\n",
              "      <td id=\"T_b75b7_row2_col3\" class=\"data row2 col3\" >7,294,969</td>\n",
              "    </tr>\n",
              "    <tr>\n",
              "      <th id=\"T_b75b7_level0_row3\" class=\"row_heading level0 row3\" >2016</th>\n",
              "      <td id=\"T_b75b7_row3_col0\" class=\"data row3 col0\" >4,860,532</td>\n",
              "      <td id=\"T_b75b7_row3_col1\" class=\"data row3 col1\" >4,761,136</td>\n",
              "      <td id=\"T_b75b7_row3_col2\" class=\"data row3 col2\" >7,913,957</td>\n",
              "      <td id=\"T_b75b7_row3_col3\" class=\"data row3 col3\" >1,704,044</td>\n",
              "    </tr>\n",
              "  </tbody>\n",
              "</table>\n"
            ]
          },
          "metadata": {},
          "execution_count": 132
        }
      ]
    },
    {
      "cell_type": "code",
      "source": [
        "#(2)繪圖：堆疊圖【年 vs 季】，且【加上千分位】\n",
        "df11.plot(kind=\"bar\",legend=True, stacked=True ,rot=0, figsize=(10,6))"
      ],
      "metadata": {
        "id": "0MaDPTxK5gjh",
        "colab": {
          "base_uri": "https://localhost:8080/",
          "height": 574
        },
        "outputId": "34dfa339-28e2-4c6d-e3ad-956bb8eff8ed"
      },
      "execution_count": null,
      "outputs": [
        {
          "output_type": "execute_result",
          "data": {
            "text/plain": [
              "<Axes: xlabel='年'>"
            ]
          },
          "metadata": {},
          "execution_count": 133
        },
        {
          "output_type": "display_data",
          "data": {
            "text/plain": [
              "<Figure size 1000x600 with 1 Axes>"
            ],
            "image/png": "[encoded data removed]"
          },
          "metadata": {}
        }
      ]
    },
    {
      "cell_type": "code",
      "source": [
        "#(3)繪圖：分割圖【年 vs 季】\n",
        "df11.plot(kind=\"bar\",legend=True, subplots=True ,rot=0, figsize=(10,15))\n",
        "plt.title('圖1:每年四季的銷售金額')"
      ],
      "metadata": {
        "id": "ZNKMra5P6Mh6",
        "colab": {
          "base_uri": "https://localhost:8080/",
          "height": 1000
        },
        "outputId": "0a62aee3-4ccb-44db-8c9b-f1048138eecb"
      },
      "execution_count": null,
      "outputs": [
        {
          "output_type": "execute_result",
          "data": {
            "text/plain": [
              "Text(0.5, 1.0, '圖1:每年四季的銷售金額')"
            ]
          },
          "metadata": {},
          "execution_count": 134
        },
        {
          "output_type": "display_data",
          "data": {
            "text/plain": [
              "<Figure size 1000x1500 with 4 Axes>"
            ],
            "image/png": "[encoded data removed]"
          },
          "metadata": {}
        }
      ]
    },
    {
      "cell_type": "markdown",
      "source": [
        "---\n",
        "# **16.第16個分析【時間效應分析】：月份對銷售金額之影響：**\n",
        "\n",
        "讀取自己雲端的檔案"
      ],
      "metadata": {
        "id": "FjFhQkxu7C8T"
      }
    },
    {
      "cell_type": "code",
      "source": [
        "#(1)月份對銷售金額之影響：\n",
        "df11=df2_1.groupby('月').agg({'銷售金額':'sum'})\\\n",
        ".reset_index()\n",
        "df11.plot(kind='bar',x='月',y='銷售金額',figsize=(11,7), rot=0, fontsize=14)\n",
        "plt.grid()\n",
        "plt.title('圖1:月份對銷售金額之影響')"
      ],
      "metadata": {
        "id": "gCGrNp-N7Ztu",
        "colab": {
          "base_uri": "https://localhost:8080/",
          "height": 665
        },
        "outputId": "42ae252a-7861-49bd-f55e-28bc0a954075"
      },
      "execution_count": null,
      "outputs": [
        {
          "output_type": "execute_result",
          "data": {
            "text/plain": [
              "Text(0.5, 1.0, '圖1:月份對銷售金額之影響')"
            ]
          },
          "metadata": {},
          "execution_count": 135
        },
        {
          "output_type": "display_data",
          "data": {
            "text/plain": [
              "<Figure size 1100x700 with 1 Axes>"
            ],
            "image/png": "[encoded data removed]"
          },
          "metadata": {}
        }
      ]
    },
    {
      "cell_type": "markdown",
      "source": [
        "---\n",
        "# **17.第17個分析【時間效應分析】：分析在2013～2014年8個季節的業績表現，B公司每個業務單位的業績表現，且【加上千分位】**\n",
        "\n",
        "讀取自己雲端的檔案"
      ],
      "metadata": {
        "id": "EWvm01mX9ycK"
      }
    },
    {
      "cell_type": "code",
      "source": [
        "#(1)只顯示(2013～2014年)8個季節，B公司每個業務單位的業績表現，且【加上千分位】\n",
        "df2_1=pd.read_csv('/content/drive/MyDrive/Colab Notebooks/sales.csv')\n",
        "df2_1['年']=pd.to_datetime(df2_1['銷售日期']).dt.year\n",
        "df2_1 = df2_1[df2_1['年'].isin([2013, 2014])]\n",
        "df2_1['月']=pd.to_datetime(df2_1['銷售日期'])\n",
        "df2_1['月']=df2_1['月'].dt.month\n",
        "df2_1['季']=pd.to_datetime(df2_1['銷售日期'])\n",
        "df2_1['季']=df2_1['季'].dt.quarter\n",
        "\n",
        "df11=df2_1.groupby(['年','業務單位','季']).agg({'銷售金額':'sum'})\n",
        "df11 = df11.pivot_table(columns=\"業務單位\", index=[\"年\",\"季\"], values=\"銷售金額\", aggfunc=\"sum\")\n",
        "df11.columns.name = '各單位銷售金額'\n",
        "df11.style.format('{:,.0f}')\n",
        "\n"
      ],
      "metadata": {
        "id": "AaMg6Wxm96lo",
        "colab": {
          "base_uri": "https://localhost:8080/",
          "height": 331
        },
        "outputId": "928c1a0b-f9b6-4987-b204-51851cc96702"
      },
      "execution_count": null,
      "outputs": [
        {
          "output_type": "execute_result",
          "data": {
            "text/plain": [
              "<pandas.io.formats.style.Styler at 0x7b3af3390910>"
            ],
            "text/html": [
              "<style type=\"text/css\">\n",
              "</style>\n",
              "<table id=\"T_e3bfe\" class=\"dataframe\">\n",
              "  <thead>\n",
              "    <tr>\n",
              "      <th class=\"blank\" >&nbsp;</th>\n",
              "      <th class=\"index_name level0\" >各單位銷售金額</th>\n",
              "      <th id=\"T_e3bfe_level0_col0\" class=\"col_heading level0 col0\" >業務1</th>\n",
              "      <th id=\"T_e3bfe_level0_col1\" class=\"col_heading level0 col1\" >業務2</th>\n",
              "      <th id=\"T_e3bfe_level0_col2\" class=\"col_heading level0 col2\" >業務3</th>\n",
              "      <th id=\"T_e3bfe_level0_col3\" class=\"col_heading level0 col3\" >業務4</th>\n",
              "    </tr>\n",
              "    <tr>\n",
              "      <th class=\"index_name level0\" >年</th>\n",
              "      <th class=\"index_name level1\" >季</th>\n",
              "      <th class=\"blank col0\" >&nbsp;</th>\n",
              "      <th class=\"blank col1\" >&nbsp;</th>\n",
              "      <th class=\"blank col2\" >&nbsp;</th>\n",
              "      <th class=\"blank col3\" >&nbsp;</th>\n",
              "    </tr>\n",
              "  </thead>\n",
              "  <tbody>\n",
              "    <tr>\n",
              "      <th id=\"T_e3bfe_level0_row0\" class=\"row_heading level0 row0\" rowspan=\"4\">2013</th>\n",
              "      <th id=\"T_e3bfe_level1_row0\" class=\"row_heading level1 row0\" >1</th>\n",
              "      <td id=\"T_e3bfe_row0_col0\" class=\"data row0 col0\" >3,300,194</td>\n",
              "      <td id=\"T_e3bfe_row0_col1\" class=\"data row0 col1\" >1,656,096</td>\n",
              "      <td id=\"T_e3bfe_row0_col2\" class=\"data row0 col2\" >1,404,247</td>\n",
              "      <td id=\"T_e3bfe_row0_col3\" class=\"data row0 col3\" >460,385</td>\n",
              "    </tr>\n",
              "    <tr>\n",
              "      <th id=\"T_e3bfe_level1_row1\" class=\"row_heading level1 row1\" >2</th>\n",
              "      <td id=\"T_e3bfe_row1_col0\" class=\"data row1 col0\" >3,056,508</td>\n",
              "      <td id=\"T_e3bfe_row1_col1\" class=\"data row1 col1\" >750,546</td>\n",
              "      <td id=\"T_e3bfe_row1_col2\" class=\"data row1 col2\" >1,757,928</td>\n",
              "      <td id=\"T_e3bfe_row1_col3\" class=\"data row1 col3\" >1,210,810</td>\n",
              "    </tr>\n",
              "    <tr>\n",
              "      <th id=\"T_e3bfe_level1_row2\" class=\"row_heading level1 row2\" >3</th>\n",
              "      <td id=\"T_e3bfe_row2_col0\" class=\"data row2 col0\" >3,009,963</td>\n",
              "      <td id=\"T_e3bfe_row2_col1\" class=\"data row2 col1\" >1,313,542</td>\n",
              "      <td id=\"T_e3bfe_row2_col2\" class=\"data row2 col2\" >1,302,192</td>\n",
              "      <td id=\"T_e3bfe_row2_col3\" class=\"data row2 col3\" >1,327,555</td>\n",
              "    </tr>\n",
              "    <tr>\n",
              "      <th id=\"T_e3bfe_level1_row3\" class=\"row_heading level1 row3\" >4</th>\n",
              "      <td id=\"T_e3bfe_row3_col0\" class=\"data row3 col0\" >2,245,102</td>\n",
              "      <td id=\"T_e3bfe_row3_col1\" class=\"data row3 col1\" >666,141</td>\n",
              "      <td id=\"T_e3bfe_row3_col2\" class=\"data row3 col2\" >1,235,106</td>\n",
              "      <td id=\"T_e3bfe_row3_col3\" class=\"data row3 col3\" >1,031,490</td>\n",
              "    </tr>\n",
              "    <tr>\n",
              "      <th id=\"T_e3bfe_level0_row4\" class=\"row_heading level0 row4\" rowspan=\"4\">2014</th>\n",
              "      <th id=\"T_e3bfe_level1_row4\" class=\"row_heading level1 row4\" >1</th>\n",
              "      <td id=\"T_e3bfe_row4_col0\" class=\"data row4 col0\" >3,008,744</td>\n",
              "      <td id=\"T_e3bfe_row4_col1\" class=\"data row4 col1\" >707,273</td>\n",
              "      <td id=\"T_e3bfe_row4_col2\" class=\"data row4 col2\" >1,125,503</td>\n",
              "      <td id=\"T_e3bfe_row4_col3\" class=\"data row4 col3\" >1,736,984</td>\n",
              "    </tr>\n",
              "    <tr>\n",
              "      <th id=\"T_e3bfe_level1_row5\" class=\"row_heading level1 row5\" >2</th>\n",
              "      <td id=\"T_e3bfe_row5_col0\" class=\"data row5 col0\" >2,157,491</td>\n",
              "      <td id=\"T_e3bfe_row5_col1\" class=\"data row5 col1\" >1,220,920</td>\n",
              "      <td id=\"T_e3bfe_row5_col2\" class=\"data row5 col2\" >802,861</td>\n",
              "      <td id=\"T_e3bfe_row5_col3\" class=\"data row5 col3\" >1,543,945</td>\n",
              "    </tr>\n",
              "    <tr>\n",
              "      <th id=\"T_e3bfe_level1_row6\" class=\"row_heading level1 row6\" >3</th>\n",
              "      <td id=\"T_e3bfe_row6_col0\" class=\"data row6 col0\" >2,637,235</td>\n",
              "      <td id=\"T_e3bfe_row6_col1\" class=\"data row6 col1\" >894,362</td>\n",
              "      <td id=\"T_e3bfe_row6_col2\" class=\"data row6 col2\" >1,401,141</td>\n",
              "      <td id=\"T_e3bfe_row6_col3\" class=\"data row6 col3\" >1,044,534</td>\n",
              "    </tr>\n",
              "    <tr>\n",
              "      <th id=\"T_e3bfe_level1_row7\" class=\"row_heading level1 row7\" >4</th>\n",
              "      <td id=\"T_e3bfe_row7_col0\" class=\"data row7 col0\" >1,392,382</td>\n",
              "      <td id=\"T_e3bfe_row7_col1\" class=\"data row7 col1\" >1,575,226</td>\n",
              "      <td id=\"T_e3bfe_row7_col2\" class=\"data row7 col2\" >803,401</td>\n",
              "      <td id=\"T_e3bfe_row7_col3\" class=\"data row7 col3\" >786,770</td>\n",
              "    </tr>\n",
              "  </tbody>\n",
              "</table>\n"
            ]
          },
          "metadata": {},
          "execution_count": 136
        }
      ]
    },
    {
      "cell_type": "code",
      "source": [
        "#(2)繪圖：【業務1單位】在2013～2014年8個季節的業績表現\n",
        "df11 = df11.reset_index()\n",
        "df11['年,季'] = '('+df11['年'].astype(str) +','+df11['季'].astype(str)+')'\n",
        "df11.plot(kind='bar',x='年,季',y='業務1',legend=False,figsize=(11,7), rot=0, fontsize=14)\n",
        "plt.grid()\n",
        "plt.title('圖1:業務1單位在2013～2014年8個季節的業績表現')\n",
        "plt.show()"
      ],
      "metadata": {
        "id": "dCQ-GEn_Au4u",
        "colab": {
          "base_uri": "https://localhost:8080/",
          "height": 649
        },
        "outputId": "8d52eb87-2f90-46a8-aee3-f22d1e981310"
      },
      "execution_count": null,
      "outputs": [
        {
          "output_type": "display_data",
          "data": {
            "text/plain": [
              "<Figure size 1100x700 with 1 Axes>"
            ],
            "image/png": "[encoded data removed]"
          },
          "metadata": {}
        }
      ]
    },
    {
      "cell_type": "markdown",
      "source": [
        "---\n",
        "# **18.第18個分析【時間效應分析】：畫圖：分析產品『手機』，在2013～2014年8個季節，每季的業績表現，且【加上千分位】**\n",
        "\n",
        "讀取自己雲端的檔案"
      ],
      "metadata": {
        "id": "VdLsNv_tDFGQ"
      }
    },
    {
      "cell_type": "code",
      "source": [
        "#(1)只顯示2013～2014年8個季節，B公司銷售產品的業績表現，且【加上千分位】\n",
        "df2_1=pd.read_csv('/content/drive/MyDrive/Colab Notebooks/sales.csv')\n",
        "df2_1['年']=pd.to_datetime(df2_1['銷售日期']).dt.year\n",
        "df2_1 = df2_1[df2_1['年'].isin([2013, 2014])]\n",
        "df2_1['月']=pd.to_datetime(df2_1['銷售日期'])\n",
        "df2_1['月']=df2_1['月'].dt.month\n",
        "df2_1['季']=pd.to_datetime(df2_1['銷售日期'])\n",
        "df2_1['季']=df2_1['季'].dt.quarter\n",
        "\n",
        "df11=df2_1.groupby(['年','銷售產品','季']).agg({'銷售金額':'sum'})\n",
        "df11 = df11.pivot_table(columns=\"銷售產品\", index=[\"年\",\"季\"], values=\"銷售金額\", aggfunc=\"sum\")\n",
        "df11.columns.name = '各產品銷售金額'\n",
        "df11.style.format('{:,.0f}')\n"
      ],
      "metadata": {
        "id": "iyhw-E1CDHIU",
        "colab": {
          "base_uri": "https://localhost:8080/",
          "height": 331
        },
        "outputId": "c6649317-b53b-436f-e8c1-8ae093c5ba77"
      },
      "execution_count": null,
      "outputs": [
        {
          "output_type": "execute_result",
          "data": {
            "text/plain": [
              "<pandas.io.formats.style.Styler at 0x7b3af32a1ed0>"
            ],
            "text/html": [
              "<style type=\"text/css\">\n",
              "</style>\n",
              "<table id=\"T_34965\" class=\"dataframe\">\n",
              "  <thead>\n",
              "    <tr>\n",
              "      <th class=\"blank\" >&nbsp;</th>\n",
              "      <th class=\"index_name level0\" >各產品銷售金額</th>\n",
              "      <th id=\"T_34965_level0_col0\" class=\"col_heading level0 col0\" >平板</th>\n",
              "      <th id=\"T_34965_level0_col1\" class=\"col_heading level0 col1\" >手機</th>\n",
              "      <th id=\"T_34965_level0_col2\" class=\"col_heading level0 col2\" >鍵盤</th>\n",
              "      <th id=\"T_34965_level0_col3\" class=\"col_heading level0 col3\" >電腦</th>\n",
              "    </tr>\n",
              "    <tr>\n",
              "      <th class=\"index_name level0\" >年</th>\n",
              "      <th class=\"index_name level1\" >季</th>\n",
              "      <th class=\"blank col0\" >&nbsp;</th>\n",
              "      <th class=\"blank col1\" >&nbsp;</th>\n",
              "      <th class=\"blank col2\" >&nbsp;</th>\n",
              "      <th class=\"blank col3\" >&nbsp;</th>\n",
              "    </tr>\n",
              "  </thead>\n",
              "  <tbody>\n",
              "    <tr>\n",
              "      <th id=\"T_34965_level0_row0\" class=\"row_heading level0 row0\" rowspan=\"4\">2013</th>\n",
              "      <th id=\"T_34965_level1_row0\" class=\"row_heading level1 row0\" >1</th>\n",
              "      <td id=\"T_34965_row0_col0\" class=\"data row0 col0\" >1,460,725</td>\n",
              "      <td id=\"T_34965_row0_col1\" class=\"data row0 col1\" >2,582,207</td>\n",
              "      <td id=\"T_34965_row0_col2\" class=\"data row0 col2\" >882,261</td>\n",
              "      <td id=\"T_34965_row0_col3\" class=\"data row0 col3\" >1,895,729</td>\n",
              "    </tr>\n",
              "    <tr>\n",
              "      <th id=\"T_34965_level1_row1\" class=\"row_heading level1 row1\" >2</th>\n",
              "      <td id=\"T_34965_row1_col0\" class=\"data row1 col0\" >1,932,419</td>\n",
              "      <td id=\"T_34965_row1_col1\" class=\"data row1 col1\" >1,378,238</td>\n",
              "      <td id=\"T_34965_row1_col2\" class=\"data row1 col2\" >1,514,437</td>\n",
              "      <td id=\"T_34965_row1_col3\" class=\"data row1 col3\" >1,950,698</td>\n",
              "    </tr>\n",
              "    <tr>\n",
              "      <th id=\"T_34965_level1_row2\" class=\"row_heading level1 row2\" >3</th>\n",
              "      <td id=\"T_34965_row2_col0\" class=\"data row2 col0\" >1,189,294</td>\n",
              "      <td id=\"T_34965_row2_col1\" class=\"data row2 col1\" >3,536,709</td>\n",
              "      <td id=\"T_34965_row2_col2\" class=\"data row2 col2\" >1,170,327</td>\n",
              "      <td id=\"T_34965_row2_col3\" class=\"data row2 col3\" >1,056,922</td>\n",
              "    </tr>\n",
              "    <tr>\n",
              "      <th id=\"T_34965_level1_row3\" class=\"row_heading level1 row3\" >4</th>\n",
              "      <td id=\"T_34965_row3_col0\" class=\"data row3 col0\" >1,562,672</td>\n",
              "      <td id=\"T_34965_row3_col1\" class=\"data row3 col1\" >1,916,210</td>\n",
              "      <td id=\"T_34965_row3_col2\" class=\"data row3 col2\" >658,537</td>\n",
              "      <td id=\"T_34965_row3_col3\" class=\"data row3 col3\" >1,040,420</td>\n",
              "    </tr>\n",
              "    <tr>\n",
              "      <th id=\"T_34965_level0_row4\" class=\"row_heading level0 row4\" rowspan=\"4\">2014</th>\n",
              "      <th id=\"T_34965_level1_row4\" class=\"row_heading level1 row4\" >1</th>\n",
              "      <td id=\"T_34965_row4_col0\" class=\"data row4 col0\" >1,575,095</td>\n",
              "      <td id=\"T_34965_row4_col1\" class=\"data row4 col1\" >2,548,406</td>\n",
              "      <td id=\"T_34965_row4_col2\" class=\"data row4 col2\" >952,475</td>\n",
              "      <td id=\"T_34965_row4_col3\" class=\"data row4 col3\" >1,502,528</td>\n",
              "    </tr>\n",
              "    <tr>\n",
              "      <th id=\"T_34965_level1_row5\" class=\"row_heading level1 row5\" >2</th>\n",
              "      <td id=\"T_34965_row5_col0\" class=\"data row5 col0\" >1,404,896</td>\n",
              "      <td id=\"T_34965_row5_col1\" class=\"data row5 col1\" >2,322,834</td>\n",
              "      <td id=\"T_34965_row5_col2\" class=\"data row5 col2\" >660,762</td>\n",
              "      <td id=\"T_34965_row5_col3\" class=\"data row5 col3\" >1,336,725</td>\n",
              "    </tr>\n",
              "    <tr>\n",
              "      <th id=\"T_34965_level1_row6\" class=\"row_heading level1 row6\" >3</th>\n",
              "      <td id=\"T_34965_row6_col0\" class=\"data row6 col0\" >1,158,693</td>\n",
              "      <td id=\"T_34965_row6_col1\" class=\"data row6 col1\" >1,937,870</td>\n",
              "      <td id=\"T_34965_row6_col2\" class=\"data row6 col2\" >1,393,459</td>\n",
              "      <td id=\"T_34965_row6_col3\" class=\"data row6 col3\" >1,487,250</td>\n",
              "    </tr>\n",
              "    <tr>\n",
              "      <th id=\"T_34965_level1_row7\" class=\"row_heading level1 row7\" >4</th>\n",
              "      <td id=\"T_34965_row7_col0\" class=\"data row7 col0\" >974,693</td>\n",
              "      <td id=\"T_34965_row7_col1\" class=\"data row7 col1\" >1,613,305</td>\n",
              "      <td id=\"T_34965_row7_col2\" class=\"data row7 col2\" >707,113</td>\n",
              "      <td id=\"T_34965_row7_col3\" class=\"data row7 col3\" >1,262,668</td>\n",
              "    </tr>\n",
              "  </tbody>\n",
              "</table>\n"
            ]
          },
          "metadata": {},
          "execution_count": 138
        }
      ]
    },
    {
      "cell_type": "code",
      "source": [
        "#(2)繪圖：產品【手機】在2013～2014年8個季節的業績表現\n",
        "df2_1 = df2_1[df2_1['銷售產品'].isin(['手機'])]\n",
        "df11=df2_1.groupby([\"季\",\"年\",'銷售產品']).agg({\"銷售金額\":\"sum\"})\\\n",
        ".unstack(level=\"年\")\n",
        "\n",
        "df11 = df11.reset_index()\n",
        "df11.plot(kind=\"bar\",x='季',legend=True,rot=0,figsize=(11,7))\n",
        "plt.legend(['2013','2014'])\n",
        "plt.xlabel(\"季\")\n",
        "plt.grid()\n",
        "plt.title(\"圖1:產品手機在2013～2014年8個季節的業績表現\")\n",
        "plt.show()"
      ],
      "metadata": {
        "id": "0o3H3YkLO7JT",
        "colab": {
          "base_uri": "https://localhost:8080/",
          "height": 641
        },
        "outputId": "9404911d-c8f7-4f2b-bb55-234f38fdb928"
      },
      "execution_count": null,
      "outputs": [
        {
          "output_type": "display_data",
          "data": {
            "text/plain": [
              "<Figure size 1100x700 with 1 Axes>"
            ],
            "image/png": "[encoded data removed]"
          },
          "metadata": {}
        }
      ]
    }
  ],
  "metadata": {
    "colab": {
      "provenance": [],
      "include_colab_link": true
    },
    "kernelspec": {
      "display_name": "Python 3",
      "language": "python",
      "name": "python3"
    },
    "language_info": {
      "codemirror_mode": {
        "name": "ipython",
        "version": 3
      },
      "file_extension": ".py",
      "mimetype": "text/x-python",
      "name": "python",
      "nbconvert_exporter": "python",
      "pygments_lexer": "ipython3",
      "version": "3.7.3"
    }
  },
  "nbformat": 4,
  "nbformat_minor": 0
}